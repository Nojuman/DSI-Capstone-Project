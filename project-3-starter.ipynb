{
 "cells": [
  {
   "cell_type": "markdown",
   "metadata": {},
   "source": [
    "<img src=\"http://imgur.com/1ZcRyrc.png\" style=\"float: left; margin: 15px; height: 80px\">\n",
    "\n",
    "# Project 3\n",
    "\n",
    "### Iowa Liquor Sales \n",
    "\n",
    "---\n",
    "\n",
    "Project 3, unlike project 2 which combined skills from weeks 1 and 2, will now be review of week 2. Projects going forward will fit this format: you learn material one week and review it through a project the following week.\n",
    "\n",
    "That being said, this is as you might expect more challenging. You will be using the pandas data transformation functionality (melt, pivot, groupby, apply) that was not a factor in Project 2.\n",
    "\n",
    "---\n",
    "\n",
    "#### Context of the data\n",
    "\n",
    "The state of Iowa provides many data sets on their website, including [this dataset](https://www.dropbox.com/sh/pf5n5sgfgiri3i8/AACkaMeL_i_WgZ00rpxOOcysa?dl=0) which contains transactions for all stores that have a class E liquor license. You can choose one of the following two scenarios.\n",
    "\n",
    "The data can also be found [directly on their website](https://data.iowa.gov/Economy/Iowa-Liquor-Sales/m3tr-qhgy), which allows you to explore it graphically and download it (though it doesn't work very well).\n",
    "\n",
    "NOTE: Some of you may have computer issues with the full dataset. In this case, feel free to use [this 10% dataset version of Iowa liquor sales](https://drive.google.com/file/d/0Bx2SHQGVqWaseDB4QU9ZSVFDY2M/view?usp=sharing). You may want to use it anyway to test and prototype your code since it will be faster, before running it on the full dataset.\n",
    "\n",
    "---\n",
    "\n",
    "#### Package imports"
   ]
  },
  {
   "cell_type": "code",
   "execution_count": 1,
   "metadata": {
    "collapsed": true
   },
   "outputs": [],
   "source": [
    "import numpy as np\n",
    "import scipy.stats as stats\n",
    "import pandas as pd\n",
    "\n",
    "# this line tells jupyter notebook to put the plots in the notebook rather than saving them to file.\n",
    "%matplotlib inline\n",
    "\n",
    "# this line makes plots prettier on mac retina screens. If you don't have one it shouldn't do anything.\n",
    "%config InlineBackend.figure_format = 'retina'"
   ]
  },
  {
   "cell_type": "markdown",
   "metadata": {},
   "source": [
    "<img src=\"http://imgur.com/l5NasQj.png\" style=\"float: left; margin: 25px 15px 0px 0px; height: 25px\">\n",
    "\n",
    "## 1. Load the data from file\n",
    "\n",
    "---"
   ]
  },
  {
   "cell_type": "code",
   "execution_count": 2,
   "metadata": {
    "collapsed": false
   },
   "outputs": [],
   "source": [
    "iowa_file = '../DSI-SF-2-alexhalcomb/datasets/iowa_liquor/Iowa_Liquor_sales_sample_10pct.csv'\n",
    "\n",
    "iowa = pd.read_csv(iowa_file)"
   ]
  },
  {
   "cell_type": "markdown",
   "metadata": {},
   "source": [
    "<img src=\"http://imgur.com/l5NasQj.png\" style=\"float: left; margin: 25px 15px 0px 0px; height: 25px\">\n",
    "\n",
    "## 2. Do an initial overview of the data\n",
    "\n",
    "---\n",
    "\n",
    "At the very least describe the columns/variables and the datatypes. "
   ]
  },
  {
   "cell_type": "code",
   "execution_count": 3,
   "metadata": {
    "collapsed": false
   },
   "outputs": [
    {
     "data": {
      "text/html": [
       "<div>\n",
       "<table border=\"1\" class=\"dataframe\">\n",
       "  <thead>\n",
       "    <tr style=\"text-align: right;\">\n",
       "      <th></th>\n",
       "      <th>Date</th>\n",
       "      <th>Store Number</th>\n",
       "      <th>City</th>\n",
       "      <th>Zip Code</th>\n",
       "      <th>County Number</th>\n",
       "      <th>County</th>\n",
       "      <th>Category</th>\n",
       "      <th>Category Name</th>\n",
       "      <th>Vendor Number</th>\n",
       "      <th>Item Number</th>\n",
       "      <th>Item Description</th>\n",
       "      <th>Bottle Volume (ml)</th>\n",
       "      <th>State Bottle Cost</th>\n",
       "      <th>State Bottle Retail</th>\n",
       "      <th>Bottles Sold</th>\n",
       "      <th>Sale (Dollars)</th>\n",
       "      <th>Volume Sold (Liters)</th>\n",
       "      <th>Volume Sold (Gallons)</th>\n",
       "    </tr>\n",
       "  </thead>\n",
       "  <tbody>\n",
       "    <tr>\n",
       "      <th>0</th>\n",
       "      <td>11/04/2015</td>\n",
       "      <td>3717</td>\n",
       "      <td>SUMNER</td>\n",
       "      <td>50674</td>\n",
       "      <td>9.0</td>\n",
       "      <td>Bremer</td>\n",
       "      <td>1051100.0</td>\n",
       "      <td>APRICOT BRANDIES</td>\n",
       "      <td>55</td>\n",
       "      <td>54436</td>\n",
       "      <td>Mr. Boston Apricot Brandy</td>\n",
       "      <td>750</td>\n",
       "      <td>$4.50</td>\n",
       "      <td>$6.75</td>\n",
       "      <td>12</td>\n",
       "      <td>$81.00</td>\n",
       "      <td>9.0</td>\n",
       "      <td>2.38</td>\n",
       "    </tr>\n",
       "    <tr>\n",
       "      <th>1</th>\n",
       "      <td>03/02/2016</td>\n",
       "      <td>2614</td>\n",
       "      <td>DAVENPORT</td>\n",
       "      <td>52807</td>\n",
       "      <td>82.0</td>\n",
       "      <td>Scott</td>\n",
       "      <td>1011100.0</td>\n",
       "      <td>BLENDED WHISKIES</td>\n",
       "      <td>395</td>\n",
       "      <td>27605</td>\n",
       "      <td>Tin Cup</td>\n",
       "      <td>750</td>\n",
       "      <td>$13.75</td>\n",
       "      <td>$20.63</td>\n",
       "      <td>2</td>\n",
       "      <td>$41.26</td>\n",
       "      <td>1.5</td>\n",
       "      <td>0.40</td>\n",
       "    </tr>\n",
       "    <tr>\n",
       "      <th>2</th>\n",
       "      <td>02/11/2016</td>\n",
       "      <td>2106</td>\n",
       "      <td>CEDAR FALLS</td>\n",
       "      <td>50613</td>\n",
       "      <td>7.0</td>\n",
       "      <td>Black Hawk</td>\n",
       "      <td>1011200.0</td>\n",
       "      <td>STRAIGHT BOURBON WHISKIES</td>\n",
       "      <td>65</td>\n",
       "      <td>19067</td>\n",
       "      <td>Jim Beam</td>\n",
       "      <td>1000</td>\n",
       "      <td>$12.59</td>\n",
       "      <td>$18.89</td>\n",
       "      <td>24</td>\n",
       "      <td>$453.36</td>\n",
       "      <td>24.0</td>\n",
       "      <td>6.34</td>\n",
       "    </tr>\n",
       "  </tbody>\n",
       "</table>\n",
       "</div>"
      ],
      "text/plain": [
       "         Date  Store Number         City Zip Code  County Number      County  \\\n",
       "0  11/04/2015          3717       SUMNER    50674            9.0      Bremer   \n",
       "1  03/02/2016          2614    DAVENPORT    52807           82.0       Scott   \n",
       "2  02/11/2016          2106  CEDAR FALLS    50613            7.0  Black Hawk   \n",
       "\n",
       "    Category              Category Name  Vendor Number  Item Number  \\\n",
       "0  1051100.0           APRICOT BRANDIES             55        54436   \n",
       "1  1011100.0           BLENDED WHISKIES            395        27605   \n",
       "2  1011200.0  STRAIGHT BOURBON WHISKIES             65        19067   \n",
       "\n",
       "            Item Description  Bottle Volume (ml) State Bottle Cost  \\\n",
       "0  Mr. Boston Apricot Brandy                 750             $4.50   \n",
       "1                    Tin Cup                 750            $13.75   \n",
       "2                   Jim Beam                1000            $12.59   \n",
       "\n",
       "  State Bottle Retail  Bottles Sold Sale (Dollars)  Volume Sold (Liters)  \\\n",
       "0               $6.75            12         $81.00                   9.0   \n",
       "1              $20.63             2         $41.26                   1.5   \n",
       "2              $18.89            24        $453.36                  24.0   \n",
       "\n",
       "   Volume Sold (Gallons)  \n",
       "0                   2.38  \n",
       "1                   0.40  \n",
       "2                   6.34  "
      ]
     },
     "execution_count": 3,
     "metadata": {},
     "output_type": "execute_result"
    }
   ],
   "source": [
    "iowa.head(3)"
   ]
  },
  {
   "cell_type": "code",
   "execution_count": 4,
   "metadata": {
    "collapsed": false
   },
   "outputs": [
    {
     "name": "stdout",
     "output_type": "stream",
     "text": [
      "Rows : 270955\n",
      "Columns : 18\n",
      "<class 'pandas.core.frame.DataFrame'>\n",
      "RangeIndex: 270955 entries, 0 to 270954\n",
      "Data columns (total 18 columns):\n",
      "Date                     270955 non-null object\n",
      "Store Number             270955 non-null int64\n",
      "City                     270955 non-null object\n",
      "Zip Code                 270955 non-null object\n",
      "County Number            269878 non-null float64\n",
      "County                   269878 non-null object\n",
      "Category                 270887 non-null float64\n",
      "Category Name            270323 non-null object\n",
      "Vendor Number            270955 non-null int64\n",
      "Item Number              270955 non-null int64\n",
      "Item Description         270955 non-null object\n",
      "Bottle Volume (ml)       270955 non-null int64\n",
      "State Bottle Cost        270955 non-null object\n",
      "State Bottle Retail      270955 non-null object\n",
      "Bottles Sold             270955 non-null int64\n",
      "Sale (Dollars)           270955 non-null object\n",
      "Volume Sold (Liters)     270955 non-null float64\n",
      "Volume Sold (Gallons)    270955 non-null float64\n",
      "dtypes: float64(4), int64(5), object(9)\n",
      "memory usage: 37.2+ MB\n",
      "None\n"
     ]
    }
   ],
   "source": [
    "print 'Rows : %s\\nColumns : %s' % (iowa.shape[0], iowa.shape[1])\n",
    "print iowa.info()"
   ]
  },
  {
   "cell_type": "code",
   "execution_count": 5,
   "metadata": {
    "collapsed": false
   },
   "outputs": [
    {
     "name": "stderr",
     "output_type": "stream",
     "text": [
      "/Users/alexanderhalcomb/anaconda/envs/dsi/lib/python2.7/site-packages/numpy/lib/function_base.py:3834: RuntimeWarning: Invalid value encountered in percentile\n",
      "  RuntimeWarning)\n"
     ]
    },
    {
     "data": {
      "text/html": [
       "<div>\n",
       "<table border=\"1\" class=\"dataframe\">\n",
       "  <thead>\n",
       "    <tr style=\"text-align: right;\">\n",
       "      <th></th>\n",
       "      <th>count</th>\n",
       "      <th>mean</th>\n",
       "      <th>std</th>\n",
       "      <th>min</th>\n",
       "      <th>25%</th>\n",
       "      <th>50%</th>\n",
       "      <th>75%</th>\n",
       "      <th>max</th>\n",
       "    </tr>\n",
       "  </thead>\n",
       "  <tbody>\n",
       "    <tr>\n",
       "      <th>Store Number</th>\n",
       "      <td>270955.0</td>\n",
       "      <td>3.590264e+03</td>\n",
       "      <td>947.662050</td>\n",
       "      <td>2106.00</td>\n",
       "      <td>2604.0</td>\n",
       "      <td>3722.00</td>\n",
       "      <td>4378.00</td>\n",
       "      <td>9023.00</td>\n",
       "    </tr>\n",
       "    <tr>\n",
       "      <th>County Number</th>\n",
       "      <td>269878.0</td>\n",
       "      <td>5.723164e+01</td>\n",
       "      <td>27.341205</td>\n",
       "      <td>1.00</td>\n",
       "      <td>NaN</td>\n",
       "      <td>NaN</td>\n",
       "      <td>NaN</td>\n",
       "      <td>99.00</td>\n",
       "    </tr>\n",
       "    <tr>\n",
       "      <th>Category</th>\n",
       "      <td>270887.0</td>\n",
       "      <td>1.043888e+06</td>\n",
       "      <td>50182.111075</td>\n",
       "      <td>1011100.00</td>\n",
       "      <td>NaN</td>\n",
       "      <td>NaN</td>\n",
       "      <td>NaN</td>\n",
       "      <td>1701100.00</td>\n",
       "    </tr>\n",
       "    <tr>\n",
       "      <th>Vendor Number</th>\n",
       "      <td>270955.0</td>\n",
       "      <td>2.564344e+02</td>\n",
       "      <td>141.014890</td>\n",
       "      <td>10.00</td>\n",
       "      <td>115.0</td>\n",
       "      <td>260.00</td>\n",
       "      <td>380.00</td>\n",
       "      <td>978.00</td>\n",
       "    </tr>\n",
       "    <tr>\n",
       "      <th>Item Number</th>\n",
       "      <td>270955.0</td>\n",
       "      <td>4.597496e+04</td>\n",
       "      <td>52757.043086</td>\n",
       "      <td>168.00</td>\n",
       "      <td>26827.0</td>\n",
       "      <td>38176.00</td>\n",
       "      <td>64573.00</td>\n",
       "      <td>995507.00</td>\n",
       "    </tr>\n",
       "    <tr>\n",
       "      <th>Bottle Volume (ml)</th>\n",
       "      <td>270955.0</td>\n",
       "      <td>9.248303e+02</td>\n",
       "      <td>493.088489</td>\n",
       "      <td>50.00</td>\n",
       "      <td>750.0</td>\n",
       "      <td>750.00</td>\n",
       "      <td>1000.00</td>\n",
       "      <td>6000.00</td>\n",
       "    </tr>\n",
       "    <tr>\n",
       "      <th>Bottles Sold</th>\n",
       "      <td>270955.0</td>\n",
       "      <td>9.871285e+00</td>\n",
       "      <td>24.040912</td>\n",
       "      <td>1.00</td>\n",
       "      <td>2.0</td>\n",
       "      <td>6.00</td>\n",
       "      <td>12.00</td>\n",
       "      <td>2508.00</td>\n",
       "    </tr>\n",
       "    <tr>\n",
       "      <th>Volume Sold (Liters)</th>\n",
       "      <td>270955.0</td>\n",
       "      <td>8.981351e+00</td>\n",
       "      <td>28.913690</td>\n",
       "      <td>0.10</td>\n",
       "      <td>1.5</td>\n",
       "      <td>5.25</td>\n",
       "      <td>10.50</td>\n",
       "      <td>2508.00</td>\n",
       "    </tr>\n",
       "    <tr>\n",
       "      <th>Volume Sold (Gallons)</th>\n",
       "      <td>270955.0</td>\n",
       "      <td>2.372830e+00</td>\n",
       "      <td>7.638182</td>\n",
       "      <td>0.03</td>\n",
       "      <td>0.4</td>\n",
       "      <td>1.39</td>\n",
       "      <td>2.77</td>\n",
       "      <td>662.54</td>\n",
       "    </tr>\n",
       "  </tbody>\n",
       "</table>\n",
       "</div>"
      ],
      "text/plain": [
       "                          count          mean           std         min  \\\n",
       "Store Number           270955.0  3.590264e+03    947.662050     2106.00   \n",
       "County Number          269878.0  5.723164e+01     27.341205        1.00   \n",
       "Category               270887.0  1.043888e+06  50182.111075  1011100.00   \n",
       "Vendor Number          270955.0  2.564344e+02    141.014890       10.00   \n",
       "Item Number            270955.0  4.597496e+04  52757.043086      168.00   \n",
       "Bottle Volume (ml)     270955.0  9.248303e+02    493.088489       50.00   \n",
       "Bottles Sold           270955.0  9.871285e+00     24.040912        1.00   \n",
       "Volume Sold (Liters)   270955.0  8.981351e+00     28.913690        0.10   \n",
       "Volume Sold (Gallons)  270955.0  2.372830e+00      7.638182        0.03   \n",
       "\n",
       "                           25%       50%       75%         max  \n",
       "Store Number            2604.0   3722.00   4378.00     9023.00  \n",
       "County Number              NaN       NaN       NaN       99.00  \n",
       "Category                   NaN       NaN       NaN  1701100.00  \n",
       "Vendor Number            115.0    260.00    380.00      978.00  \n",
       "Item Number            26827.0  38176.00  64573.00   995507.00  \n",
       "Bottle Volume (ml)       750.0    750.00   1000.00     6000.00  \n",
       "Bottles Sold               2.0      6.00     12.00     2508.00  \n",
       "Volume Sold (Liters)       1.5      5.25     10.50     2508.00  \n",
       "Volume Sold (Gallons)      0.4      1.39      2.77      662.54  "
      ]
     },
     "execution_count": 5,
     "metadata": {},
     "output_type": "execute_result"
    }
   ],
   "source": [
    "iowa.describe().T"
   ]
  },
  {
   "cell_type": "code",
   "execution_count": 6,
   "metadata": {
    "collapsed": false
   },
   "outputs": [
    {
     "data": {
      "text/plain": [
       "Date                        0\n",
       "Store Number                0\n",
       "City                        0\n",
       "Zip Code                    0\n",
       "County Number            1077\n",
       "County                   1077\n",
       "Category                   68\n",
       "Category Name             632\n",
       "Vendor Number               0\n",
       "Item Number                 0\n",
       "Item Description            0\n",
       "Bottle Volume (ml)          0\n",
       "State Bottle Cost           0\n",
       "State Bottle Retail         0\n",
       "Bottles Sold                0\n",
       "Sale (Dollars)              0\n",
       "Volume Sold (Liters)        0\n",
       "Volume Sold (Gallons)       0\n",
       "dtype: int64"
      ]
     },
     "execution_count": 6,
     "metadata": {},
     "output_type": "execute_result"
    }
   ],
   "source": [
    "iowa.isnull().sum()"
   ]
  },
  {
   "cell_type": "code",
   "execution_count": 7,
   "metadata": {
    "collapsed": false
   },
   "outputs": [
    {
     "data": {
      "text/html": [
       "<div>\n",
       "<table border=\"1\" class=\"dataframe\">\n",
       "  <thead>\n",
       "    <tr style=\"text-align: right;\">\n",
       "      <th></th>\n",
       "      <th>Date</th>\n",
       "      <th>Store Number</th>\n",
       "      <th>City</th>\n",
       "      <th>Zip Code</th>\n",
       "      <th>County Number</th>\n",
       "      <th>County</th>\n",
       "      <th>Category</th>\n",
       "      <th>Category Name</th>\n",
       "      <th>Vendor Number</th>\n",
       "      <th>Item Number</th>\n",
       "      <th>Item Description</th>\n",
       "      <th>Bottle Volume (ml)</th>\n",
       "      <th>State Bottle Cost</th>\n",
       "      <th>State Bottle Retail</th>\n",
       "      <th>Bottles Sold</th>\n",
       "      <th>Sale (Dollars)</th>\n",
       "      <th>Volume Sold (Liters)</th>\n",
       "      <th>Volume Sold (Gallons)</th>\n",
       "    </tr>\n",
       "  </thead>\n",
       "  <tbody>\n",
       "    <tr>\n",
       "      <th>135</th>\n",
       "      <td>01/20/2016</td>\n",
       "      <td>5222</td>\n",
       "      <td>CEDAR RAPIDS</td>\n",
       "      <td>52402</td>\n",
       "      <td>NaN</td>\n",
       "      <td>NaN</td>\n",
       "      <td>1051010.0</td>\n",
       "      <td>AMERICAN GRAPE BRANDIES</td>\n",
       "      <td>115</td>\n",
       "      <td>53214</td>\n",
       "      <td>Paul Masson Grande Amber Brandy</td>\n",
       "      <td>375</td>\n",
       "      <td>$3.22</td>\n",
       "      <td>$4.83</td>\n",
       "      <td>24</td>\n",
       "      <td>$115.92</td>\n",
       "      <td>9.0</td>\n",
       "      <td>2.38</td>\n",
       "    </tr>\n",
       "  </tbody>\n",
       "</table>\n",
       "</div>"
      ],
      "text/plain": [
       "           Date  Store Number          City Zip Code  County Number County  \\\n",
       "135  01/20/2016          5222  CEDAR RAPIDS    52402            NaN    NaN   \n",
       "\n",
       "      Category            Category Name  Vendor Number  Item Number  \\\n",
       "135  1051010.0  AMERICAN GRAPE BRANDIES            115        53214   \n",
       "\n",
       "                    Item Description  Bottle Volume (ml) State Bottle Cost  \\\n",
       "135  Paul Masson Grande Amber Brandy                 375             $3.22   \n",
       "\n",
       "    State Bottle Retail  Bottles Sold Sale (Dollars)  Volume Sold (Liters)  \\\n",
       "135               $4.83            24        $115.92                   9.0   \n",
       "\n",
       "     Volume Sold (Gallons)  \n",
       "135                   2.38  "
      ]
     },
     "execution_count": 7,
     "metadata": {},
     "output_type": "execute_result"
    }
   ],
   "source": [
    "iowa[iowa['County Number'].isnull()].head(1)"
   ]
  },
  {
   "cell_type": "code",
   "execution_count": 8,
   "metadata": {
    "collapsed": false
   },
   "outputs": [
    {
     "data": {
      "text/html": [
       "<div>\n",
       "<table border=\"1\" class=\"dataframe\">\n",
       "  <thead>\n",
       "    <tr style=\"text-align: right;\">\n",
       "      <th></th>\n",
       "      <th>Date</th>\n",
       "      <th>Store Number</th>\n",
       "      <th>City</th>\n",
       "      <th>Zip Code</th>\n",
       "      <th>County Number</th>\n",
       "      <th>County</th>\n",
       "      <th>Category</th>\n",
       "      <th>Category Name</th>\n",
       "      <th>Vendor Number</th>\n",
       "      <th>Item Number</th>\n",
       "      <th>Item Description</th>\n",
       "      <th>Bottle Volume (ml)</th>\n",
       "      <th>State Bottle Cost</th>\n",
       "      <th>State Bottle Retail</th>\n",
       "      <th>Bottles Sold</th>\n",
       "      <th>Sale (Dollars)</th>\n",
       "      <th>Volume Sold (Liters)</th>\n",
       "      <th>Volume Sold (Gallons)</th>\n",
       "    </tr>\n",
       "  </thead>\n",
       "  <tbody>\n",
       "    <tr>\n",
       "      <th>6744</th>\n",
       "      <td>11/16/2015</td>\n",
       "      <td>4857</td>\n",
       "      <td>WEST BURLINGTON</td>\n",
       "      <td>52655</td>\n",
       "      <td>29.0</td>\n",
       "      <td>Des Moines</td>\n",
       "      <td>NaN</td>\n",
       "      <td>NaN</td>\n",
       "      <td>85</td>\n",
       "      <td>333</td>\n",
       "      <td>Jack Daniels TN Honey &amp; Jack Daniels TN Fire 7...</td>\n",
       "      <td>1500</td>\n",
       "      <td>$15.07</td>\n",
       "      <td>$22.61</td>\n",
       "      <td>1</td>\n",
       "      <td>$22.61</td>\n",
       "      <td>1.5</td>\n",
       "      <td>0.4</td>\n",
       "    </tr>\n",
       "  </tbody>\n",
       "</table>\n",
       "</div>"
      ],
      "text/plain": [
       "            Date  Store Number             City Zip Code  County Number  \\\n",
       "6744  11/16/2015          4857  WEST BURLINGTON    52655           29.0   \n",
       "\n",
       "          County  Category Category Name  Vendor Number  Item Number  \\\n",
       "6744  Des Moines       NaN           NaN             85          333   \n",
       "\n",
       "                                       Item Description  Bottle Volume (ml)  \\\n",
       "6744  Jack Daniels TN Honey & Jack Daniels TN Fire 7...                1500   \n",
       "\n",
       "     State Bottle Cost State Bottle Retail  Bottles Sold Sale (Dollars)  \\\n",
       "6744            $15.07              $22.61             1         $22.61   \n",
       "\n",
       "      Volume Sold (Liters)  Volume Sold (Gallons)  \n",
       "6744                   1.5                    0.4  "
      ]
     },
     "execution_count": 8,
     "metadata": {},
     "output_type": "execute_result"
    }
   ],
   "source": [
    "iowa[iowa['Category'].isnull()].head(1)"
   ]
  },
  {
   "cell_type": "code",
   "execution_count": 9,
   "metadata": {
    "collapsed": false
   },
   "outputs": [
    {
     "data": {
      "text/html": [
       "<div>\n",
       "<table border=\"1\" class=\"dataframe\">\n",
       "  <thead>\n",
       "    <tr style=\"text-align: right;\">\n",
       "      <th></th>\n",
       "      <th>Date</th>\n",
       "      <th>Store Number</th>\n",
       "      <th>City</th>\n",
       "      <th>Zip Code</th>\n",
       "      <th>County Number</th>\n",
       "      <th>County</th>\n",
       "      <th>Category</th>\n",
       "      <th>Category Name</th>\n",
       "      <th>Vendor Number</th>\n",
       "      <th>Item Number</th>\n",
       "      <th>Item Description</th>\n",
       "      <th>Bottle Volume (ml)</th>\n",
       "      <th>State Bottle Cost</th>\n",
       "      <th>State Bottle Retail</th>\n",
       "      <th>Bottles Sold</th>\n",
       "      <th>Sale (Dollars)</th>\n",
       "      <th>Volume Sold (Liters)</th>\n",
       "      <th>Volume Sold (Gallons)</th>\n",
       "    </tr>\n",
       "  </thead>\n",
       "  <tbody>\n",
       "    <tr>\n",
       "      <th>896</th>\n",
       "      <td>02/05/2015</td>\n",
       "      <td>4829</td>\n",
       "      <td>DES MOINES</td>\n",
       "      <td>50314</td>\n",
       "      <td>77.0</td>\n",
       "      <td>Polk</td>\n",
       "      <td>1022200.0</td>\n",
       "      <td>NaN</td>\n",
       "      <td>85</td>\n",
       "      <td>3657</td>\n",
       "      <td>Herradura Gold Reposado 6pak</td>\n",
       "      <td>750</td>\n",
       "      <td>$23.58</td>\n",
       "      <td>$35.37</td>\n",
       "      <td>6</td>\n",
       "      <td>$212.22</td>\n",
       "      <td>4.5</td>\n",
       "      <td>1.19</td>\n",
       "    </tr>\n",
       "  </tbody>\n",
       "</table>\n",
       "</div>"
      ],
      "text/plain": [
       "           Date  Store Number        City Zip Code  County Number County  \\\n",
       "896  02/05/2015          4829  DES MOINES    50314           77.0   Polk   \n",
       "\n",
       "      Category Category Name  Vendor Number  Item Number  \\\n",
       "896  1022200.0           NaN             85         3657   \n",
       "\n",
       "                 Item Description  Bottle Volume (ml) State Bottle Cost  \\\n",
       "896  Herradura Gold Reposado 6pak                 750            $23.58   \n",
       "\n",
       "    State Bottle Retail  Bottles Sold Sale (Dollars)  Volume Sold (Liters)  \\\n",
       "896              $35.37             6        $212.22                   4.5   \n",
       "\n",
       "     Volume Sold (Gallons)  \n",
       "896                   1.19  "
      ]
     },
     "execution_count": 9,
     "metadata": {},
     "output_type": "execute_result"
    }
   ],
   "source": [
    "iowa[iowa['Category Name'].isnull()].head(1)"
   ]
  },
  {
   "cell_type": "markdown",
   "metadata": {},
   "source": [
    "<img src=\"http://imgur.com/l5NasQj.png\" style=\"float: left; margin: 25px 15px 0px 0px; height: 25px\">\n",
    "\n",
    "## 3. Clean the dataset\n",
    "\n",
    "---\n",
    "\n",
    "### 3.1 Identify columns that you will need to convert and clean. Where and how is the data corrupted?\n",
    "\n",
    "Don't worry about converting the date column to a pandas/numpy \"datetime\" datatype, unless you want to (not required for these problems and is a challenging thing to work with in its own right.)"
   ]
  },
  {
   "cell_type": "code",
   "execution_count": 10,
   "metadata": {
    "collapsed": false
   },
   "outputs": [],
   "source": [
    "# Null values are in the 'County Number','County','Category', and 'Category Name', \n",
    "# therefore these will need to be cleaned\n",
    "#\n",
    "# The 'Bottle Cost' columns contain dollar signs, and need to be converted to floats"
   ]
  },
  {
   "cell_type": "markdown",
   "metadata": {},
   "source": [
    "### 3.2 Clean the columns"
   ]
  },
  {
   "cell_type": "code",
   "execution_count": 11,
   "metadata": {
    "collapsed": false
   },
   "outputs": [
    {
     "name": "stderr",
     "output_type": "stream",
     "text": [
      "/Users/alexanderhalcomb/anaconda/envs/dsi/lib/python2.7/site-packages/pandas/core/indexing.py:465: SettingWithCopyWarning: \n",
      "A value is trying to be set on a copy of a slice from a DataFrame.\n",
      "Try using .loc[row_indexer,col_indexer] = value instead\n",
      "\n",
      "See the caveats in the documentation: http://pandas.pydata.org/pandas-docs/stable/indexing.html#indexing-view-versus-copy\n",
      "  self.obj[item] = s\n"
     ]
    }
   ],
   "source": [
    "# Eliminate rows with null values\n",
    "iowa_clean = iowa.dropna()\n",
    "\n",
    "# Convert strings with dollar signs into floats\n",
    "\n",
    "launder = lambda x: float(x.replace('$',''))\n",
    "\n",
    "iowa_clean.loc[:,'State Bottle Cost'] = iowa.loc[:,'State Bottle Cost'].map(launder)\n",
    "iowa_clean.loc[:,'State Bottle Retail'] = iowa.loc[:,'State Bottle Retail'].map(launder)\n",
    "iowa_clean.loc[:,'Sale (Dollars)'] = iowa.loc[:,'Sale (Dollars)'].map(launder)"
   ]
  },
  {
   "cell_type": "code",
   "execution_count": 12,
   "metadata": {
    "collapsed": false
   },
   "outputs": [
    {
     "name": "stdout",
     "output_type": "stream",
     "text": [
      "Rows : 269258\n",
      "Columns : 18\n",
      "<class 'pandas.core.frame.DataFrame'>\n",
      "Int64Index: 269258 entries, 0 to 270954\n",
      "Data columns (total 18 columns):\n",
      "Date                     269258 non-null object\n",
      "Store Number             269258 non-null int64\n",
      "City                     269258 non-null object\n",
      "Zip Code                 269258 non-null object\n",
      "County Number            269258 non-null float64\n",
      "County                   269258 non-null object\n",
      "Category                 269258 non-null float64\n",
      "Category Name            269258 non-null object\n",
      "Vendor Number            269258 non-null int64\n",
      "Item Number              269258 non-null int64\n",
      "Item Description         269258 non-null object\n",
      "Bottle Volume (ml)       269258 non-null int64\n",
      "State Bottle Cost        269258 non-null float64\n",
      "State Bottle Retail      269258 non-null float64\n",
      "Bottles Sold             269258 non-null int64\n",
      "Sale (Dollars)           269258 non-null float64\n",
      "Volume Sold (Liters)     269258 non-null float64\n",
      "Volume Sold (Gallons)    269258 non-null float64\n",
      "dtypes: float64(7), int64(5), object(6)\n",
      "memory usage: 39.0+ MB\n",
      "None\n"
     ]
    }
   ],
   "source": [
    "print 'Rows : %s\\nColumns : %s' % (iowa_clean.shape[0], iowa_clean.shape[1])\n",
    "print iowa_clean.info()"
   ]
  },
  {
   "cell_type": "markdown",
   "metadata": {},
   "source": [
    "<img src=\"http://imgur.com/xDpSobf.png\" style=\"float: left; margin: 25px 15px 0px 0px; height: 25px\">\n",
    "\n",
    "### 3.3 Perform more extensive cleaning of the dataset\n",
    "\n",
    "Cleaning of data can mean a lot more than just fixing strings and numbers in columns. There are often logical errors with data, useless or nonsensical categories, redundancy of information, outliers, and many more problems.\n",
    "\n",
    "This dataset has problems beyond just fixing the types of columns. Though resolving them may not be required for EDA and analysis, if you want experience with \"deeper\" cleaning of data this is a great dataset to start practicing with.\n",
    "\n",
    "Keep in mind that some types of \"data cleaning\" is subjective: it's not always a cut-and-dry conversion of type or removal of null values. Subjectivity when dealing with data is just a fact of life for a data scientist. This isn't a kind of programming where things are just right or wrong."
   ]
  },
  {
   "cell_type": "code",
   "execution_count": null,
   "metadata": {
    "collapsed": true
   },
   "outputs": [],
   "source": []
  },
  {
   "cell_type": "markdown",
   "metadata": {},
   "source": [
    "<img src=\"http://imgur.com/l5NasQj.png\" style=\"float: left; margin: 25px 15px 0px 0px; height: 25px\">\n",
    "\n",
    "## 4. Filter/adjust the store data\n",
    "\n",
    "---\n",
    "\n",
    "Some stores may have opened or closed in 2015. These stores will have incorrect yearly summary statistics since they were not open the full year. We need to filter them out or find another way to deal with the inconsistent numbers of months across stores.\n",
    "\n",
    "It is up to you how you want to deal with this problem.\n",
    "\n",
    "1. Investigate problematic stores.\n",
    "2. Decide on an approach to deal with stores not open for the full 2015 year.\n",
    "3. Implement your plan.\n",
    "4. Briefly report on what you did and why.\n"
   ]
  },
  {
   "cell_type": "code",
   "execution_count": 351,
   "metadata": {
    "collapsed": false
   },
   "outputs": [
    {
     "data": {
      "text/html": [
       "<div>\n",
       "<table border=\"1\" class=\"dataframe\">\n",
       "  <thead>\n",
       "    <tr style=\"text-align: right;\">\n",
       "      <th></th>\n",
       "      <th>Date</th>\n",
       "      <th>Store Number</th>\n",
       "      <th>City</th>\n",
       "      <th>Zip Code</th>\n",
       "      <th>County Number</th>\n",
       "      <th>County</th>\n",
       "      <th>Category</th>\n",
       "      <th>Category Name</th>\n",
       "      <th>Vendor Number</th>\n",
       "      <th>Item Number</th>\n",
       "      <th>...</th>\n",
       "      <th>Bottle Volume (ml)</th>\n",
       "      <th>State Bottle Cost</th>\n",
       "      <th>State Bottle Retail</th>\n",
       "      <th>Bottles Sold</th>\n",
       "      <th>Sale (Dollars)</th>\n",
       "      <th>Volume Sold (Liters)</th>\n",
       "      <th>Volume Sold (Gallons)</th>\n",
       "      <th>Date_Time</th>\n",
       "      <th>Month</th>\n",
       "      <th>Year</th>\n",
       "    </tr>\n",
       "  </thead>\n",
       "  <tbody>\n",
       "    <tr>\n",
       "      <th>0</th>\n",
       "      <td>11/04/2015</td>\n",
       "      <td>3717</td>\n",
       "      <td>SUMNER</td>\n",
       "      <td>50674</td>\n",
       "      <td>9.0</td>\n",
       "      <td>Bremer</td>\n",
       "      <td>1051100.0</td>\n",
       "      <td>APRICOT BRANDIES</td>\n",
       "      <td>55</td>\n",
       "      <td>54436</td>\n",
       "      <td>...</td>\n",
       "      <td>750</td>\n",
       "      <td>4.50</td>\n",
       "      <td>6.75</td>\n",
       "      <td>12</td>\n",
       "      <td>81.00</td>\n",
       "      <td>9.0</td>\n",
       "      <td>2.38</td>\n",
       "      <td>2015-11-04</td>\n",
       "      <td>11</td>\n",
       "      <td>2015</td>\n",
       "    </tr>\n",
       "    <tr>\n",
       "      <th>1</th>\n",
       "      <td>03/02/2016</td>\n",
       "      <td>2614</td>\n",
       "      <td>DAVENPORT</td>\n",
       "      <td>52807</td>\n",
       "      <td>82.0</td>\n",
       "      <td>Scott</td>\n",
       "      <td>1011100.0</td>\n",
       "      <td>BLENDED WHISKIES</td>\n",
       "      <td>395</td>\n",
       "      <td>27605</td>\n",
       "      <td>...</td>\n",
       "      <td>750</td>\n",
       "      <td>13.75</td>\n",
       "      <td>20.63</td>\n",
       "      <td>2</td>\n",
       "      <td>41.26</td>\n",
       "      <td>1.5</td>\n",
       "      <td>0.40</td>\n",
       "      <td>2016-03-02</td>\n",
       "      <td>3</td>\n",
       "      <td>2016</td>\n",
       "    </tr>\n",
       "  </tbody>\n",
       "</table>\n",
       "<p>2 rows × 21 columns</p>\n",
       "</div>"
      ],
      "text/plain": [
       "         Date  Store Number       City Zip Code  County Number  County  \\\n",
       "0  11/04/2015          3717     SUMNER    50674            9.0  Bremer   \n",
       "1  03/02/2016          2614  DAVENPORT    52807           82.0   Scott   \n",
       "\n",
       "    Category     Category Name  Vendor Number  Item Number  ...   \\\n",
       "0  1051100.0  APRICOT BRANDIES             55        54436  ...    \n",
       "1  1011100.0  BLENDED WHISKIES            395        27605  ...    \n",
       "\n",
       "  Bottle Volume (ml)  State Bottle Cost  State Bottle Retail  Bottles Sold  \\\n",
       "0                750               4.50                 6.75            12   \n",
       "1                750              13.75                20.63             2   \n",
       "\n",
       "   Sale (Dollars)  Volume Sold (Liters)  Volume Sold (Gallons)  Date_Time  \\\n",
       "0           81.00                   9.0                   2.38 2015-11-04   \n",
       "1           41.26                   1.5                   0.40 2016-03-02   \n",
       "\n",
       "  Month  Year  \n",
       "0    11  2015  \n",
       "1     3  2016  \n",
       "\n",
       "[2 rows x 21 columns]"
      ]
     },
     "execution_count": 351,
     "metadata": {},
     "output_type": "execute_result"
    }
   ],
   "source": [
    "iowa_clean.head(2)"
   ]
  },
  {
   "cell_type": "code",
   "execution_count": 13,
   "metadata": {
    "collapsed": false
   },
   "outputs": [
    {
     "name": "stderr",
     "output_type": "stream",
     "text": [
      "/Users/alexanderhalcomb/anaconda/envs/dsi/lib/python2.7/site-packages/pandas/core/indexing.py:288: SettingWithCopyWarning: \n",
      "A value is trying to be set on a copy of a slice from a DataFrame.\n",
      "Try using .loc[row_indexer,col_indexer] = value instead\n",
      "\n",
      "See the caveats in the documentation: http://pandas.pydata.org/pandas-docs/stable/indexing.html#indexing-view-versus-copy\n",
      "  self.obj[key] = _infer_fill_value(value)\n"
     ]
    }
   ],
   "source": [
    "# Methodology: \n",
    "# Step 1. Convert Date column to datetime format and extract Month and Year (put into new columns)\n",
    "# Step 2. Filter total sales by store number, year, and month  to identify which stores had partial sales in 2015\n",
    "# Step 3. Sum total sales and count total months, then annualize sales for stores that had partial sales \n",
    "# Conclusion: In order to make an apples to apples comparison w other stores, I normalized the problematic stores\n",
    "\n",
    "# Add datetime formatted column\n",
    "iowa_clean.loc[:,'Date_Time'] = pd.to_datetime(iowa_clean.loc[:,'Date'])"
   ]
  },
  {
   "cell_type": "code",
   "execution_count": 345,
   "metadata": {
    "collapsed": false
   },
   "outputs": [],
   "source": [
    "# Add column for month and year (switched everything to .loc bc of all those error messages!)\n",
    "iowa_clean.loc[:,'Month'] = iowa_clean.loc[:,'Date_Time'].map(lambda x: x.month)\n",
    "iowa_clean.loc[:,'Year'] = iowa_clean.loc[:,'Date_Time'].map(lambda x: x.year)"
   ]
  },
  {
   "cell_type": "code",
   "execution_count": 346,
   "metadata": {
    "collapsed": false
   },
   "outputs": [],
   "source": [
    "# Group by store number, year, and month. Look for total sales.\n",
    "grouped_df = iowa_clean.groupby(['Store Number','Year','Month'])[['Sale (Dollars)']].sum()"
   ]
  },
  {
   "cell_type": "code",
   "execution_count": 352,
   "metadata": {
    "collapsed": false
   },
   "outputs": [
    {
     "data": {
      "text/html": [
       "<div>\n",
       "<table border=\"1\" class=\"dataframe\">\n",
       "  <thead>\n",
       "    <tr style=\"text-align: right;\">\n",
       "      <th></th>\n",
       "      <th></th>\n",
       "      <th></th>\n",
       "      <th>Sale (Dollars)</th>\n",
       "    </tr>\n",
       "    <tr>\n",
       "      <th>Store Number</th>\n",
       "      <th>Year</th>\n",
       "      <th>Month</th>\n",
       "      <th></th>\n",
       "    </tr>\n",
       "  </thead>\n",
       "  <tbody>\n",
       "    <tr>\n",
       "      <th rowspan=\"5\" valign=\"top\">2106</th>\n",
       "      <th rowspan=\"5\" valign=\"top\">2015</th>\n",
       "      <th>1</th>\n",
       "      <td>13567.80</td>\n",
       "    </tr>\n",
       "    <tr>\n",
       "      <th>2</th>\n",
       "      <td>12873.14</td>\n",
       "    </tr>\n",
       "    <tr>\n",
       "      <th>3</th>\n",
       "      <td>12846.35</td>\n",
       "    </tr>\n",
       "    <tr>\n",
       "      <th>4</th>\n",
       "      <td>11957.86</td>\n",
       "    </tr>\n",
       "    <tr>\n",
       "      <th>5</th>\n",
       "      <td>7526.88</td>\n",
       "    </tr>\n",
       "  </tbody>\n",
       "</table>\n",
       "</div>"
      ],
      "text/plain": [
       "                         Sale (Dollars)\n",
       "Store Number Year Month                \n",
       "2106         2015 1            13567.80\n",
       "                  2            12873.14\n",
       "                  3            12846.35\n",
       "                  4            11957.86\n",
       "                  5             7526.88"
      ]
     },
     "execution_count": 352,
     "metadata": {},
     "output_type": "execute_result"
    }
   ],
   "source": [
    "grouped_df.head()"
   ]
  },
  {
   "cell_type": "code",
   "execution_count": 353,
   "metadata": {
    "collapsed": false
   },
   "outputs": [
    {
     "data": {
      "text/html": [
       "<div>\n",
       "<table border=\"1\" class=\"dataframe\">\n",
       "  <thead>\n",
       "    <tr style=\"text-align: right;\">\n",
       "      <th></th>\n",
       "      <th>Month</th>\n",
       "      <th>Sale (Dollars)</th>\n",
       "      <th>Annualized Sale</th>\n",
       "    </tr>\n",
       "    <tr>\n",
       "      <th>Store Number</th>\n",
       "      <th></th>\n",
       "      <th></th>\n",
       "      <th></th>\n",
       "    </tr>\n",
       "  </thead>\n",
       "  <tbody>\n",
       "    <tr>\n",
       "      <th>2106</th>\n",
       "      <td>12</td>\n",
       "      <td>146038.70</td>\n",
       "      <td>146038.70</td>\n",
       "    </tr>\n",
       "    <tr>\n",
       "      <th>2113</th>\n",
       "      <td>12</td>\n",
       "      <td>9310.22</td>\n",
       "      <td>9310.22</td>\n",
       "    </tr>\n",
       "    <tr>\n",
       "      <th>2130</th>\n",
       "      <td>12</td>\n",
       "      <td>111583.91</td>\n",
       "      <td>111583.91</td>\n",
       "    </tr>\n",
       "    <tr>\n",
       "      <th>2152</th>\n",
       "      <td>12</td>\n",
       "      <td>7721.08</td>\n",
       "      <td>7721.08</td>\n",
       "    </tr>\n",
       "    <tr>\n",
       "      <th>2178</th>\n",
       "      <td>12</td>\n",
       "      <td>24324.18</td>\n",
       "      <td>24324.18</td>\n",
       "    </tr>\n",
       "  </tbody>\n",
       "</table>\n",
       "</div>"
      ],
      "text/plain": [
       "              Month  Sale (Dollars)  Annualized Sale\n",
       "Store Number                                        \n",
       "2106             12       146038.70        146038.70\n",
       "2113             12         9310.22          9310.22\n",
       "2130             12       111583.91        111583.91\n",
       "2152             12         7721.08          7721.08\n",
       "2178             12        24324.18         24324.18"
      ]
     },
     "execution_count": 353,
     "metadata": {},
     "output_type": "execute_result"
    }
   ],
   "source": [
    "# Count number of months in 2015 in which there were sales\n",
    "subset_month = grouped_df.groupby(level=[0,1]).count().xs(2015,level=1)\n",
    "subset_month = subset_month.rename(columns = {'Sale (Dollars)': 'Month'})\n",
    "\n",
    "# Sum total sales in 2015, by store\n",
    "subset_sales = grouped_df.groupby(level=[0,1]).sum().xs(2015,level=1)\n",
    "\n",
    "# Combine into one df\n",
    "result = subset_month.join(subset_sales)\n",
    "\n",
    "# Add column with annualized sales for stores that closed early in 2015\n",
    "result['Annualized Sale'] = result['Sale (Dollars)'] / (result['Month'] / 12)\n",
    "result.head()\n",
    "\n",
    "# Question - Is there a better way to do the above? Spun my wheels trying to filter the hierarchical index..."
   ]
  },
  {
   "cell_type": "markdown",
   "metadata": {},
   "source": [
    "<img src=\"http://imgur.com/l5NasQj.png\" style=\"float: left; margin: 25px 15px 0px 0px; height: 25px\">\n",
    "\n",
    "## 5. Proposals for new tax rates (Scenario 1)\n",
    "\n",
    "---\n",
    "\n",
    "You are a data scientist in residence at the Iowa State tax board. The Iowa State legislature is considering changes in the liquor tax rates and has assigned you to the project.\n",
    "\n",
    "### 5.1 Calculate yearly liquor sales for each store in 2015."
   ]
  },
  {
   "cell_type": "code",
   "execution_count": 364,
   "metadata": {
    "collapsed": false
   },
   "outputs": [
    {
     "data": {
      "text/html": [
       "<div>\n",
       "<table border=\"1\" class=\"dataframe\">\n",
       "  <thead>\n",
       "    <tr style=\"text-align: right;\">\n",
       "      <th></th>\n",
       "      <th>Sale (Dollars)</th>\n",
       "    </tr>\n",
       "    <tr>\n",
       "      <th>Store Number</th>\n",
       "      <th></th>\n",
       "    </tr>\n",
       "  </thead>\n",
       "  <tbody>\n",
       "    <tr>\n",
       "      <th>2106</th>\n",
       "      <td>146038.70</td>\n",
       "    </tr>\n",
       "    <tr>\n",
       "      <th>2113</th>\n",
       "      <td>9310.22</td>\n",
       "    </tr>\n",
       "    <tr>\n",
       "      <th>2130</th>\n",
       "      <td>111583.91</td>\n",
       "    </tr>\n",
       "    <tr>\n",
       "      <th>2152</th>\n",
       "      <td>7721.08</td>\n",
       "    </tr>\n",
       "    <tr>\n",
       "      <th>2178</th>\n",
       "      <td>24324.18</td>\n",
       "    </tr>\n",
       "  </tbody>\n",
       "</table>\n",
       "</div>"
      ],
      "text/plain": [
       "              Sale (Dollars)\n",
       "Store Number                \n",
       "2106               146038.70\n",
       "2113                 9310.22\n",
       "2130               111583.91\n",
       "2152                 7721.08\n",
       "2178                24324.18"
      ]
     },
     "execution_count": 364,
     "metadata": {},
     "output_type": "execute_result"
    }
   ],
   "source": [
    "# Note - The below calculations do not include the annualization process done in Question 4\n",
    "\n",
    "# Add columns for total cost, and then calculate total profit\n",
    "iowa_clean.loc[:,'Cost (Dollars)'] = iowa_clean.loc[:,'State Bottle Cost'] * iowa_clean.loc[:,'Bottles Sold']\n",
    "iowa_clean.loc[:,'Profit (Dollars)'] = iowa_clean.loc[:,'Sale (Dollars)'] - iowa_clean.loc[:,'Cost (Dollars)']\n",
    "\n",
    "# Calculate yearly liquor sales for each store in 2015\n",
    "iowa_clean[iowa_clean['Year'] == 2015].groupby(['Store Number'])[['Sale (Dollars)']].sum().head()"
   ]
  },
  {
   "cell_type": "markdown",
   "metadata": {},
   "source": [
    "### 5.2 Calculate the profit each store is making in 2015.\n"
   ]
  },
  {
   "cell_type": "code",
   "execution_count": 366,
   "metadata": {
    "collapsed": false
   },
   "outputs": [
    {
     "data": {
      "text/html": [
       "<div>\n",
       "<table border=\"1\" class=\"dataframe\">\n",
       "  <thead>\n",
       "    <tr style=\"text-align: right;\">\n",
       "      <th></th>\n",
       "      <th>Profit (Dollars)</th>\n",
       "    </tr>\n",
       "    <tr>\n",
       "      <th>Store Number</th>\n",
       "      <th></th>\n",
       "    </tr>\n",
       "  </thead>\n",
       "  <tbody>\n",
       "    <tr>\n",
       "      <th>2106</th>\n",
       "      <td>48742.20</td>\n",
       "    </tr>\n",
       "    <tr>\n",
       "      <th>2113</th>\n",
       "      <td>3109.04</td>\n",
       "    </tr>\n",
       "    <tr>\n",
       "      <th>2130</th>\n",
       "      <td>37229.32</td>\n",
       "    </tr>\n",
       "    <tr>\n",
       "      <th>2152</th>\n",
       "      <td>2587.53</td>\n",
       "    </tr>\n",
       "    <tr>\n",
       "      <th>2178</th>\n",
       "      <td>8165.70</td>\n",
       "    </tr>\n",
       "  </tbody>\n",
       "</table>\n",
       "</div>"
      ],
      "text/plain": [
       "              Profit (Dollars)\n",
       "Store Number                  \n",
       "2106                  48742.20\n",
       "2113                   3109.04\n",
       "2130                  37229.32\n",
       "2152                   2587.53\n",
       "2178                   8165.70"
      ]
     },
     "execution_count": 366,
     "metadata": {},
     "output_type": "execute_result"
    }
   ],
   "source": [
    "# Calculate profit for each store in 2015\n",
    "iowa_clean[iowa_clean['Year'] == 2015].groupby(['Store Number'])[['Profit (Dollars)']].sum().head()"
   ]
  },
  {
   "cell_type": "markdown",
   "metadata": {},
   "source": [
    "### 5.3 Investigate which Iowa counties are making the most profit on liquor per gallon in 2015."
   ]
  },
  {
   "cell_type": "code",
   "execution_count": 416,
   "metadata": {
    "collapsed": false
   },
   "outputs": [
    {
     "data": {
      "text/html": [
       "<div>\n",
       "<table border=\"1\" class=\"dataframe\">\n",
       "  <thead>\n",
       "    <tr style=\"text-align: right;\">\n",
       "      <th></th>\n",
       "      <th>Cost (Dollars)</th>\n",
       "      <th>Sale (Dollars)</th>\n",
       "      <th>Profit (Dollars)</th>\n",
       "      <th>Volume Sold (Gallons)</th>\n",
       "      <th>Profit / Gallon</th>\n",
       "    </tr>\n",
       "    <tr>\n",
       "      <th>County</th>\n",
       "      <th></th>\n",
       "      <th></th>\n",
       "      <th></th>\n",
       "      <th></th>\n",
       "      <th></th>\n",
       "    </tr>\n",
       "  </thead>\n",
       "  <tbody>\n",
       "    <tr>\n",
       "      <th>Dallas</th>\n",
       "      <td>333037.75</td>\n",
       "      <td>500766.01</td>\n",
       "      <td>167728.26</td>\n",
       "      <td>7927.89</td>\n",
       "      <td>21.156734</td>\n",
       "    </tr>\n",
       "    <tr>\n",
       "      <th>Johnson</th>\n",
       "      <td>1144423.49</td>\n",
       "      <td>1718425.51</td>\n",
       "      <td>574002.02</td>\n",
       "      <td>27958.19</td>\n",
       "      <td>20.530729</td>\n",
       "    </tr>\n",
       "    <tr>\n",
       "      <th>Polk</th>\n",
       "      <td>4252709.11</td>\n",
       "      <td>6386721.54</td>\n",
       "      <td>2134012.43</td>\n",
       "      <td>109269.47</td>\n",
       "      <td>19.529814</td>\n",
       "    </tr>\n",
       "    <tr>\n",
       "      <th>Scott</th>\n",
       "      <td>1359485.16</td>\n",
       "      <td>2041085.70</td>\n",
       "      <td>681600.54</td>\n",
       "      <td>35216.02</td>\n",
       "      <td>19.354843</td>\n",
       "    </tr>\n",
       "    <tr>\n",
       "      <th>Jefferson</th>\n",
       "      <td>55663.96</td>\n",
       "      <td>83560.91</td>\n",
       "      <td>27896.95</td>\n",
       "      <td>1446.20</td>\n",
       "      <td>19.289829</td>\n",
       "    </tr>\n",
       "    <tr>\n",
       "      <th>Des Moines</th>\n",
       "      <td>256591.07</td>\n",
       "      <td>385621.77</td>\n",
       "      <td>129030.70</td>\n",
       "      <td>6808.22</td>\n",
       "      <td>18.952193</td>\n",
       "    </tr>\n",
       "    <tr>\n",
       "      <th>Woodbury</th>\n",
       "      <td>666116.18</td>\n",
       "      <td>1000327.36</td>\n",
       "      <td>334211.18</td>\n",
       "      <td>17823.96</td>\n",
       "      <td>18.750669</td>\n",
       "    </tr>\n",
       "    <tr>\n",
       "      <th>Washington</th>\n",
       "      <td>95845.78</td>\n",
       "      <td>143907.46</td>\n",
       "      <td>48061.68</td>\n",
       "      <td>2569.91</td>\n",
       "      <td>18.701698</td>\n",
       "    </tr>\n",
       "    <tr>\n",
       "      <th>Buena Vista</th>\n",
       "      <td>115451.24</td>\n",
       "      <td>173439.66</td>\n",
       "      <td>57988.42</td>\n",
       "      <td>3111.79</td>\n",
       "      <td>18.635069</td>\n",
       "    </tr>\n",
       "    <tr>\n",
       "      <th>Marshall</th>\n",
       "      <td>184515.22</td>\n",
       "      <td>277097.18</td>\n",
       "      <td>92581.96</td>\n",
       "      <td>4991.56</td>\n",
       "      <td>18.547701</td>\n",
       "    </tr>\n",
       "  </tbody>\n",
       "</table>\n",
       "</div>"
      ],
      "text/plain": [
       "             Cost (Dollars)  Sale (Dollars)  Profit (Dollars)  \\\n",
       "County                                                          \n",
       "Dallas            333037.75       500766.01         167728.26   \n",
       "Johnson          1144423.49      1718425.51         574002.02   \n",
       "Polk             4252709.11      6386721.54        2134012.43   \n",
       "Scott            1359485.16      2041085.70         681600.54   \n",
       "Jefferson          55663.96        83560.91          27896.95   \n",
       "Des Moines        256591.07       385621.77         129030.70   \n",
       "Woodbury          666116.18      1000327.36         334211.18   \n",
       "Washington         95845.78       143907.46          48061.68   \n",
       "Buena Vista       115451.24       173439.66          57988.42   \n",
       "Marshall          184515.22       277097.18          92581.96   \n",
       "\n",
       "             Volume Sold (Gallons)  Profit / Gallon  \n",
       "County                                               \n",
       "Dallas                     7927.89        21.156734  \n",
       "Johnson                   27958.19        20.530729  \n",
       "Polk                     109269.47        19.529814  \n",
       "Scott                     35216.02        19.354843  \n",
       "Jefferson                  1446.20        19.289829  \n",
       "Des Moines                 6808.22        18.952193  \n",
       "Woodbury                  17823.96        18.750669  \n",
       "Washington                 2569.91        18.701698  \n",
       "Buena Vista                3111.79        18.635069  \n",
       "Marshall                   4991.56        18.547701  "
      ]
     },
     "execution_count": 416,
     "metadata": {},
     "output_type": "execute_result"
    }
   ],
   "source": [
    "county_df = iowa_clean[iowa_clean['Year'] == 2015].groupby(['County'])[['Cost (Dollars)','Sale (Dollars)',\n",
    "                                                            'Profit (Dollars)','Volume Sold (Gallons)']].sum()\n",
    "\n",
    "county_df['Profit / Gallon'] = county_df['Profit (Dollars)'] / county_df['Volume Sold (Gallons)']\n",
    "\n",
    "county_df.sort_values('Profit / Gallon', ascending=False).head(10)"
   ]
  },
  {
   "cell_type": "markdown",
   "metadata": {},
   "source": [
    "<img src=\"http://imgur.com/xDpSobf.png\" style=\"float: left; margin: 25px 15px 0px 0px; height: 25px\">\n",
    "\n",
    "### 5.4 Plot a color map of average profit per county in 2015.\n",
    "\n",
    "[Check out this site](http://flowingdata.com/2009/11/12/how-to-make-a-us-county-thematic-map-using-free-tools/) for  information on how to create map visualizations in python. There are other resources online for map plotting in python as well.\n",
    "\n",
    "Another interesting map plot might show the difference in profit between time periods. Change in profit from November to December, for example."
   ]
  },
  {
   "cell_type": "code",
   "execution_count": null,
   "metadata": {
    "collapsed": true
   },
   "outputs": [],
   "source": []
  },
  {
   "cell_type": "markdown",
   "metadata": {},
   "source": [
    "### 5.5  Does profit scale proportionally to store size?\n",
    "\n",
    "Size of a store can be defined as the total gallons sold in 2015. Is the profit to store size ratio increasing as store size increases? Decreasing? Consistent?"
   ]
  },
  {
   "cell_type": "code",
   "execution_count": 421,
   "metadata": {
    "collapsed": false
   },
   "outputs": [
    {
     "name": "stdout",
     "output_type": "stream",
     "text": [
      "[[ 1.          0.44732444]\n",
      " [ 0.44732444  1.        ]]\n"
     ]
    },
    {
     "data": {
      "image/png": "[encoded data removed]",
      "text/plain": [
       "<matplotlib.figure.Figure at 0x111203e50>"
      ]
     },
     "metadata": {
      "image/png": {
       "height": 255,
       "width": 388
      }
     },
     "output_type": "display_data"
    }
   ],
   "source": [
    "import matplotlib.pyplot as plt\n",
    "\n",
    "X = county_df['Volume Sold (Gallons)']\n",
    "y = county_df['Profit / Gallon']\n",
    "\n",
    "print np.corrcoef(X,y)\n",
    "plt.scatter(X,y)\n",
    "plt.show()\n",
    "\n",
    "# Profit tends to increase with store size"
   ]
  },
  {
   "cell_type": "markdown",
   "metadata": {},
   "source": [
    "### 5.6 Create a broader category for liquor type.\n",
    "\n",
    "Liquor types are pretty granular in this dataset. Create a column that categorizes these types into a smaller amount of categories. The categories you decide on are up to you."
   ]
  },
  {
   "cell_type": "code",
   "execution_count": 482,
   "metadata": {
    "collapsed": false
   },
   "outputs": [
    {
     "data": {
      "text/plain": [
       "VODKA 80 PROOF               35256\n",
       "CANADIAN WHISKIES            26967\n",
       "STRAIGHT BOURBON WHISKIES    15290\n",
       "SPICED RUM                   14575\n",
       "VODKA FLAVORED               13931\n",
       "Name: Category Name, dtype: int64"
      ]
     },
     "execution_count": 482,
     "metadata": {},
     "output_type": "execute_result"
    }
   ],
   "source": [
    "# Check unique categories \n",
    "iowa_clean['Category Name'].value_counts().head()"
   ]
  },
  {
   "cell_type": "code",
   "execution_count": 493,
   "metadata": {
    "collapsed": false
   },
   "outputs": [
    {
     "data": {
      "text/plain": [
       "Whisky      70890\n",
       "Vodka       69690\n",
       "Rum         32618\n",
       "Liqueur     29423\n",
       "Brandy      14978\n",
       "Schnapps    13599\n",
       "Tequila     12044\n",
       "Gin          9882\n",
       "Cocktail     6883\n",
       "Other        6071\n",
       "Scotch       3180\n",
       "Name: Broad Category Name, dtype: int64"
      ]
     },
     "execution_count": 493,
     "metadata": {},
     "output_type": "execute_result"
    }
   ],
   "source": [
    "# Question - Is there a more efficient way to do this? \n",
    "\n",
    "def new_cats(x):\n",
    "    x = x.lower()\n",
    "    if 'whiskies' in x or 'whisky' in x or 'bourbon' in x:\n",
    "        return 'Whisky'\n",
    "    elif 'scotch' in x:\n",
    "        return 'Scotch'\n",
    "    elif 'rum' in x:\n",
    "        return 'Rum'\n",
    "    elif 'vodka' in x:\n",
    "        return 'Vodka'  \n",
    "    elif 'gin' in x:\n",
    "        return 'Gin' \n",
    "    elif 'tequila' in x:\n",
    "        return 'Tequila'\n",
    "    elif 'liqueur' in x:\n",
    "        return 'Liqueur'   \n",
    "    elif 'creme' in x:\n",
    "        return 'Liqueur'\n",
    "    elif 'brandies' in x:\n",
    "        return 'Brandy'   \n",
    "    elif 'cocktail' in x:\n",
    "        return 'Cocktail' \n",
    "    elif 'schnapps' in x:\n",
    "        return 'Schnapps' \n",
    "    else:\n",
    "        return 'Other'\n",
    "\n",
    "iowa_clean.loc[:,'Broad Category Name'] = iowa_clean.loc[:,'Category Name'].map(new_cats)\n",
    "iowa_clean['Broad Category Name'].value_counts()"
   ]
  },
  {
   "cell_type": "markdown",
   "metadata": {},
   "source": [
    "### 5.7 Do relationships exist between the broader liquor type and profit?"
   ]
  },
  {
   "cell_type": "code",
   "execution_count": 499,
   "metadata": {
    "collapsed": false
   },
   "outputs": [
    {
     "data": {
      "text/html": [
       "<div>\n",
       "<table border=\"1\" class=\"dataframe\">\n",
       "  <thead>\n",
       "    <tr style=\"text-align: right;\">\n",
       "      <th></th>\n",
       "      <th>Profit / Gallon</th>\n",
       "    </tr>\n",
       "    <tr>\n",
       "      <th>Broad Category Name</th>\n",
       "      <th></th>\n",
       "    </tr>\n",
       "  </thead>\n",
       "  <tbody>\n",
       "    <tr>\n",
       "      <th>Scotch</th>\n",
       "      <td>58.652497</td>\n",
       "    </tr>\n",
       "    <tr>\n",
       "      <th>Tequila</th>\n",
       "      <td>37.572061</td>\n",
       "    </tr>\n",
       "    <tr>\n",
       "      <th>Brandy</th>\n",
       "      <td>27.254403</td>\n",
       "    </tr>\n",
       "    <tr>\n",
       "      <th>Liqueur</th>\n",
       "      <td>26.528856</td>\n",
       "    </tr>\n",
       "    <tr>\n",
       "      <th>Whisky</th>\n",
       "      <td>25.527520</td>\n",
       "    </tr>\n",
       "    <tr>\n",
       "      <th>Other</th>\n",
       "      <td>19.886595</td>\n",
       "    </tr>\n",
       "    <tr>\n",
       "      <th>Rum</th>\n",
       "      <td>18.530535</td>\n",
       "    </tr>\n",
       "    <tr>\n",
       "      <th>Gin</th>\n",
       "      <td>18.435738</td>\n",
       "    </tr>\n",
       "    <tr>\n",
       "      <th>Vodka</th>\n",
       "      <td>18.208866</td>\n",
       "    </tr>\n",
       "    <tr>\n",
       "      <th>Schnapps</th>\n",
       "      <td>17.805462</td>\n",
       "    </tr>\n",
       "    <tr>\n",
       "      <th>Cocktail</th>\n",
       "      <td>9.434812</td>\n",
       "    </tr>\n",
       "  </tbody>\n",
       "</table>\n",
       "</div>"
      ],
      "text/plain": [
       "                     Profit / Gallon\n",
       "Broad Category Name                 \n",
       "Scotch                     58.652497\n",
       "Tequila                    37.572061\n",
       "Brandy                     27.254403\n",
       "Liqueur                    26.528856\n",
       "Whisky                     25.527520\n",
       "Other                      19.886595\n",
       "Rum                        18.530535\n",
       "Gin                        18.435738\n",
       "Vodka                      18.208866\n",
       "Schnapps                   17.805462\n",
       "Cocktail                    9.434812"
      ]
     },
     "execution_count": 499,
     "metadata": {},
     "output_type": "execute_result"
    }
   ],
   "source": [
    "# Absolutely. \n",
    "# Question - Is there a good way to create a df (one operation) that includes the group by above (sum of each category) \n",
    "# and below (mean of profit / gallon for each category)?\n",
    "\n",
    "iowa_clean.loc[:,'Profit / Gallon'] = iowa_clean.loc[:,'Profit (Dollars)'] / iowa_clean.loc[:,'Volume Sold (Gallons)']\n",
    "iowa_clean.loc[:,['Profit / Gallon','Broad Category Name']]\n",
    "\n",
    "iowa_clean.groupby(['Broad Category Name'])[['Profit / Gallon']].mean().sort_values('Profit / Gallon',ascending=False)"
   ]
  },
  {
   "cell_type": "markdown",
   "metadata": {},
   "source": [
    "<img src=\"http://imgur.com/xDpSobf.png\" style=\"float: left; margin: 25px 15px 0px 0px; height: 25px\">\n",
    "\n",
    "### 5.8 Are there any noticeable relationships between liquor brand and sales? Profit?"
   ]
  },
  {
   "cell_type": "code",
   "execution_count": null,
   "metadata": {
    "collapsed": true
   },
   "outputs": [],
   "source": []
  },
  {
   "cell_type": "markdown",
   "metadata": {},
   "source": [
    "### 5.9 The tax board wants to design a tax or taxes that affect larger stores more than smaller \"mom and pop\" stores.\n",
    "\n",
    "Based on your investigations into the data, come up with a way you could design a tax that achieves this goal **without explicitly taxing stores based on size or county critera.** The liqour board does not want to obviously punish larger stores or speific counties for fear of backlash, but is willing to tax hard alcohol more than beer, for example.\n",
    "\n",
    "Feel free to do more EDA if it helps.\n",
    "\n",
    "Your report should describe whether such a tax is possible or not, and the specifics of what the tax will target/do."
   ]
  },
  {
   "cell_type": "code",
   "execution_count": 509,
   "metadata": {
    "collapsed": false
   },
   "outputs": [
    {
     "data": {
      "text/html": [
       "<div>\n",
       "<table border=\"1\" class=\"dataframe\">\n",
       "  <thead>\n",
       "    <tr style=\"text-align: right;\">\n",
       "      <th></th>\n",
       "      <th>0</th>\n",
       "      <th>1</th>\n",
       "      <th>2</th>\n",
       "      <th>3</th>\n",
       "      <th>4</th>\n",
       "    </tr>\n",
       "  </thead>\n",
       "  <tbody>\n",
       "    <tr>\n",
       "      <th>Date</th>\n",
       "      <td>11/04/2015</td>\n",
       "      <td>03/02/2016</td>\n",
       "      <td>02/11/2016</td>\n",
       "      <td>02/03/2016</td>\n",
       "      <td>08/18/2015</td>\n",
       "    </tr>\n",
       "    <tr>\n",
       "      <th>Store Number</th>\n",
       "      <td>3717</td>\n",
       "      <td>2614</td>\n",
       "      <td>2106</td>\n",
       "      <td>2501</td>\n",
       "      <td>3654</td>\n",
       "    </tr>\n",
       "    <tr>\n",
       "      <th>City</th>\n",
       "      <td>SUMNER</td>\n",
       "      <td>DAVENPORT</td>\n",
       "      <td>CEDAR FALLS</td>\n",
       "      <td>AMES</td>\n",
       "      <td>BELMOND</td>\n",
       "    </tr>\n",
       "    <tr>\n",
       "      <th>Zip Code</th>\n",
       "      <td>50674</td>\n",
       "      <td>52807</td>\n",
       "      <td>50613</td>\n",
       "      <td>50010</td>\n",
       "      <td>50421</td>\n",
       "    </tr>\n",
       "    <tr>\n",
       "      <th>County Number</th>\n",
       "      <td>9</td>\n",
       "      <td>82</td>\n",
       "      <td>7</td>\n",
       "      <td>85</td>\n",
       "      <td>99</td>\n",
       "    </tr>\n",
       "    <tr>\n",
       "      <th>County</th>\n",
       "      <td>Bremer</td>\n",
       "      <td>Scott</td>\n",
       "      <td>Black Hawk</td>\n",
       "      <td>Story</td>\n",
       "      <td>Wright</td>\n",
       "    </tr>\n",
       "    <tr>\n",
       "      <th>Category</th>\n",
       "      <td>1.0511e+06</td>\n",
       "      <td>1.0111e+06</td>\n",
       "      <td>1.0112e+06</td>\n",
       "      <td>1.0711e+06</td>\n",
       "      <td>1.03108e+06</td>\n",
       "    </tr>\n",
       "    <tr>\n",
       "      <th>Category Name</th>\n",
       "      <td>APRICOT BRANDIES</td>\n",
       "      <td>BLENDED WHISKIES</td>\n",
       "      <td>STRAIGHT BOURBON WHISKIES</td>\n",
       "      <td>AMERICAN COCKTAILS</td>\n",
       "      <td>VODKA 80 PROOF</td>\n",
       "    </tr>\n",
       "    <tr>\n",
       "      <th>Vendor Number</th>\n",
       "      <td>55</td>\n",
       "      <td>395</td>\n",
       "      <td>65</td>\n",
       "      <td>395</td>\n",
       "      <td>297</td>\n",
       "    </tr>\n",
       "    <tr>\n",
       "      <th>Item Number</th>\n",
       "      <td>54436</td>\n",
       "      <td>27605</td>\n",
       "      <td>19067</td>\n",
       "      <td>59154</td>\n",
       "      <td>35918</td>\n",
       "    </tr>\n",
       "    <tr>\n",
       "      <th>Item Description</th>\n",
       "      <td>Mr. Boston Apricot Brandy</td>\n",
       "      <td>Tin Cup</td>\n",
       "      <td>Jim Beam</td>\n",
       "      <td>1800 Ultimate Margarita</td>\n",
       "      <td>Five O'clock Vodka</td>\n",
       "    </tr>\n",
       "    <tr>\n",
       "      <th>Bottle Volume (ml)</th>\n",
       "      <td>750</td>\n",
       "      <td>750</td>\n",
       "      <td>1000</td>\n",
       "      <td>1750</td>\n",
       "      <td>1750</td>\n",
       "    </tr>\n",
       "    <tr>\n",
       "      <th>State Bottle Cost</th>\n",
       "      <td>4.5</td>\n",
       "      <td>13.75</td>\n",
       "      <td>12.59</td>\n",
       "      <td>9.5</td>\n",
       "      <td>7.2</td>\n",
       "    </tr>\n",
       "    <tr>\n",
       "      <th>State Bottle Retail</th>\n",
       "      <td>6.75</td>\n",
       "      <td>20.63</td>\n",
       "      <td>18.89</td>\n",
       "      <td>14.25</td>\n",
       "      <td>10.8</td>\n",
       "    </tr>\n",
       "    <tr>\n",
       "      <th>Bottles Sold</th>\n",
       "      <td>12</td>\n",
       "      <td>2</td>\n",
       "      <td>24</td>\n",
       "      <td>6</td>\n",
       "      <td>12</td>\n",
       "    </tr>\n",
       "    <tr>\n",
       "      <th>Sale (Dollars)</th>\n",
       "      <td>81</td>\n",
       "      <td>41.26</td>\n",
       "      <td>453.36</td>\n",
       "      <td>85.5</td>\n",
       "      <td>129.6</td>\n",
       "    </tr>\n",
       "    <tr>\n",
       "      <th>Volume Sold (Liters)</th>\n",
       "      <td>9</td>\n",
       "      <td>1.5</td>\n",
       "      <td>24</td>\n",
       "      <td>10.5</td>\n",
       "      <td>21</td>\n",
       "    </tr>\n",
       "    <tr>\n",
       "      <th>Volume Sold (Gallons)</th>\n",
       "      <td>2.38</td>\n",
       "      <td>0.4</td>\n",
       "      <td>6.34</td>\n",
       "      <td>2.77</td>\n",
       "      <td>5.55</td>\n",
       "    </tr>\n",
       "    <tr>\n",
       "      <th>Date_Time</th>\n",
       "      <td>2015-11-04 00:00:00</td>\n",
       "      <td>2016-03-02 00:00:00</td>\n",
       "      <td>2016-02-11 00:00:00</td>\n",
       "      <td>2016-02-03 00:00:00</td>\n",
       "      <td>2015-08-18 00:00:00</td>\n",
       "    </tr>\n",
       "    <tr>\n",
       "      <th>Month</th>\n",
       "      <td>11</td>\n",
       "      <td>3</td>\n",
       "      <td>2</td>\n",
       "      <td>2</td>\n",
       "      <td>8</td>\n",
       "    </tr>\n",
       "    <tr>\n",
       "      <th>Year</th>\n",
       "      <td>2015</td>\n",
       "      <td>2016</td>\n",
       "      <td>2016</td>\n",
       "      <td>2016</td>\n",
       "      <td>2015</td>\n",
       "    </tr>\n",
       "    <tr>\n",
       "      <th>Cost (Dollars)</th>\n",
       "      <td>54</td>\n",
       "      <td>27.5</td>\n",
       "      <td>302.16</td>\n",
       "      <td>57</td>\n",
       "      <td>86.4</td>\n",
       "    </tr>\n",
       "    <tr>\n",
       "      <th>Profit (Dollars)</th>\n",
       "      <td>27</td>\n",
       "      <td>13.76</td>\n",
       "      <td>151.2</td>\n",
       "      <td>28.5</td>\n",
       "      <td>43.2</td>\n",
       "    </tr>\n",
       "    <tr>\n",
       "      <th>Broad Category Name</th>\n",
       "      <td>Brandy</td>\n",
       "      <td>Whisky</td>\n",
       "      <td>Whisky</td>\n",
       "      <td>Cocktail</td>\n",
       "      <td>Vodka</td>\n",
       "    </tr>\n",
       "    <tr>\n",
       "      <th>Profit / Gallon</th>\n",
       "      <td>11.3445</td>\n",
       "      <td>34.4</td>\n",
       "      <td>23.8486</td>\n",
       "      <td>10.2888</td>\n",
       "      <td>7.78378</td>\n",
       "    </tr>\n",
       "    <tr>\n",
       "      <th>Quarter</th>\n",
       "      <td>Q42015</td>\n",
       "      <td>Q12016</td>\n",
       "      <td>Q12016</td>\n",
       "      <td>Q12016</td>\n",
       "      <td>Q32015</td>\n",
       "    </tr>\n",
       "  </tbody>\n",
       "</table>\n",
       "</div>"
      ],
      "text/plain": [
       "                                               0                    1  \\\n",
       "Date                                  11/04/2015           03/02/2016   \n",
       "Store Number                                3717                 2614   \n",
       "City                                      SUMNER            DAVENPORT   \n",
       "Zip Code                                   50674                52807   \n",
       "County Number                                  9                   82   \n",
       "County                                    Bremer                Scott   \n",
       "Category                              1.0511e+06           1.0111e+06   \n",
       "Category Name                   APRICOT BRANDIES     BLENDED WHISKIES   \n",
       "Vendor Number                                 55                  395   \n",
       "Item Number                                54436                27605   \n",
       "Item Description       Mr. Boston Apricot Brandy              Tin Cup   \n",
       "Bottle Volume (ml)                           750                  750   \n",
       "State Bottle Cost                            4.5                13.75   \n",
       "State Bottle Retail                         6.75                20.63   \n",
       "Bottles Sold                                  12                    2   \n",
       "Sale (Dollars)                                81                41.26   \n",
       "Volume Sold (Liters)                           9                  1.5   \n",
       "Volume Sold (Gallons)                       2.38                  0.4   \n",
       "Date_Time                    2015-11-04 00:00:00  2016-03-02 00:00:00   \n",
       "Month                                         11                    3   \n",
       "Year                                        2015                 2016   \n",
       "Cost (Dollars)                                54                 27.5   \n",
       "Profit (Dollars)                              27                13.76   \n",
       "Broad Category Name                       Brandy               Whisky   \n",
       "Profit / Gallon                          11.3445                 34.4   \n",
       "Quarter                                   Q42015               Q12016   \n",
       "\n",
       "                                               2                        3  \\\n",
       "Date                                  02/11/2016               02/03/2016   \n",
       "Store Number                                2106                     2501   \n",
       "City                                 CEDAR FALLS                     AMES   \n",
       "Zip Code                                   50613                    50010   \n",
       "County Number                                  7                       85   \n",
       "County                                Black Hawk                    Story   \n",
       "Category                              1.0112e+06               1.0711e+06   \n",
       "Category Name          STRAIGHT BOURBON WHISKIES       AMERICAN COCKTAILS   \n",
       "Vendor Number                                 65                      395   \n",
       "Item Number                                19067                    59154   \n",
       "Item Description                        Jim Beam  1800 Ultimate Margarita   \n",
       "Bottle Volume (ml)                          1000                     1750   \n",
       "State Bottle Cost                          12.59                      9.5   \n",
       "State Bottle Retail                        18.89                    14.25   \n",
       "Bottles Sold                                  24                        6   \n",
       "Sale (Dollars)                            453.36                     85.5   \n",
       "Volume Sold (Liters)                          24                     10.5   \n",
       "Volume Sold (Gallons)                       6.34                     2.77   \n",
       "Date_Time                    2016-02-11 00:00:00      2016-02-03 00:00:00   \n",
       "Month                                          2                        2   \n",
       "Year                                        2016                     2016   \n",
       "Cost (Dollars)                            302.16                       57   \n",
       "Profit (Dollars)                           151.2                     28.5   \n",
       "Broad Category Name                       Whisky                 Cocktail   \n",
       "Profit / Gallon                          23.8486                  10.2888   \n",
       "Quarter                                   Q12016                   Q12016   \n",
       "\n",
       "                                         4  \n",
       "Date                            08/18/2015  \n",
       "Store Number                          3654  \n",
       "City                               BELMOND  \n",
       "Zip Code                             50421  \n",
       "County Number                           99  \n",
       "County                              Wright  \n",
       "Category                       1.03108e+06  \n",
       "Category Name               VODKA 80 PROOF  \n",
       "Vendor Number                          297  \n",
       "Item Number                          35918  \n",
       "Item Description        Five O'clock Vodka  \n",
       "Bottle Volume (ml)                    1750  \n",
       "State Bottle Cost                      7.2  \n",
       "State Bottle Retail                   10.8  \n",
       "Bottles Sold                            12  \n",
       "Sale (Dollars)                       129.6  \n",
       "Volume Sold (Liters)                    21  \n",
       "Volume Sold (Gallons)                 5.55  \n",
       "Date_Time              2015-08-18 00:00:00  \n",
       "Month                                    8  \n",
       "Year                                  2015  \n",
       "Cost (Dollars)                        86.4  \n",
       "Profit (Dollars)                      43.2  \n",
       "Broad Category Name                  Vodka  \n",
       "Profit / Gallon                    7.78378  \n",
       "Quarter                             Q32015  "
      ]
     },
     "execution_count": 509,
     "metadata": {},
     "output_type": "execute_result"
    }
   ],
   "source": [
    "iowa_clean.head().T"
   ]
  },
  {
   "cell_type": "markdown",
   "metadata": {},
   "source": [
    "<img src=\"http://imgur.com/l5NasQj.png\" style=\"float: left; margin: 25px 15px 0px 0px; height: 25px\">\n",
    "\n",
    "## 6. Market research for new store locations (Scenario 2)\n",
    "\n",
    "A liquor store owner in Iowa is looking to open a store in a new location and has hired you to investigate the market data for potential new locations. The business owner is interested in what you can discover from the data that will help him evaluate a good location for a new storefront.\n",
    "\n",
    "---\n",
    "\n",
    "### 6.1 Create columns for Q1 2015 sales and Q1 2016 sales.\n",
    "\n",
    "The owner is not just interested in what locations are currently selling well, but also which areas are showing the most promising sales growth from 2015 to 2016. \n",
    "\n",
    "For yearly changes we will focus on the changes from Q1 2015 to Q1 2016 specifically (avoiding effects of season changes).\n",
    "\n",
    "Note: Q1 is months: January, February, and March.\n"
   ]
  },
  {
   "cell_type": "code",
   "execution_count": 560,
   "metadata": {
    "collapsed": false
   },
   "outputs": [
    {
     "data": {
      "text/html": [
       "<div>\n",
       "<table border=\"1\" class=\"dataframe\">\n",
       "  <thead>\n",
       "    <tr style=\"text-align: right;\">\n",
       "      <th></th>\n",
       "      <th>Q12015 Sales</th>\n",
       "      <th>Q12016 Sales</th>\n",
       "      <th>% Increase</th>\n",
       "    </tr>\n",
       "    <tr>\n",
       "      <th>City</th>\n",
       "      <th></th>\n",
       "      <th></th>\n",
       "      <th></th>\n",
       "    </tr>\n",
       "  </thead>\n",
       "  <tbody>\n",
       "    <tr>\n",
       "      <th>OKOBOJI</th>\n",
       "      <td>11.21</td>\n",
       "      <td>944.98</td>\n",
       "      <td>8329.794826</td>\n",
       "    </tr>\n",
       "    <tr>\n",
       "      <th>HARPERS FERRY</th>\n",
       "      <td>60.12</td>\n",
       "      <td>883.47</td>\n",
       "      <td>1369.510978</td>\n",
       "    </tr>\n",
       "    <tr>\n",
       "      <th>STANWOOD</th>\n",
       "      <td>148.80</td>\n",
       "      <td>1615.68</td>\n",
       "      <td>985.806452</td>\n",
       "    </tr>\n",
       "    <tr>\n",
       "      <th>SULLY</th>\n",
       "      <td>60.84</td>\n",
       "      <td>593.88</td>\n",
       "      <td>876.134122</td>\n",
       "    </tr>\n",
       "    <tr>\n",
       "      <th>SCRANTON</th>\n",
       "      <td>121.44</td>\n",
       "      <td>959.01</td>\n",
       "      <td>689.698617</td>\n",
       "    </tr>\n",
       "  </tbody>\n",
       "</table>\n",
       "</div>"
      ],
      "text/plain": [
       "               Q12015 Sales  Q12016 Sales   % Increase\n",
       "City                                                  \n",
       "OKOBOJI               11.21        944.98  8329.794826\n",
       "HARPERS FERRY         60.12        883.47  1369.510978\n",
       "STANWOOD             148.80       1615.68   985.806452\n",
       "SULLY                 60.84        593.88   876.134122\n",
       "SCRANTON             121.44        959.01   689.698617"
      ]
     },
     "execution_count": 560,
     "metadata": {},
     "output_type": "execute_result"
    }
   ],
   "source": [
    "# Add column for quarter and year\n",
    "def add_quarter(x):\n",
    "    if x < 4:\n",
    "        return 'Q1'\n",
    "    elif x < 7:\n",
    "        return 'Q2'\n",
    "    elif x < 10:\n",
    "        return 'Q3'\n",
    "    else:\n",
    "        return 'Q4'\n",
    "\n",
    "iowa_clean.loc[:,'Quarter'] = iowa_clean.loc[:,'Month'].map(add_quarter) + iowa_clean.loc[:,'Year'].map(lambda x: str(x))\n",
    "\n",
    "# Add columns for sales in Q12015 and Q12016\n",
    "iowa_clean.loc[:,'Q12015 Sales'] = iowa_clean[iowa_clean.loc[:,'Quarter'] == 'Q12015'].loc[:,'Sale (Dollars)']\n",
    "iowa_clean.loc[:,'Q12016 Sales'] = iowa_clean[iowa_clean.loc[:,'Quarter'] == 'Q12016'].loc[:,'Sale (Dollars)']\n",
    "\n",
    "# Create new df for Q1 data only \n",
    "city_df = iowa_clean.groupby(['City'])[['Q12015 Sales','Q12016 Sales']].sum()\n",
    "\n",
    "# Add column to show % increase in sales\n",
    "city_df.loc[:,'% Increase'] = (city_df.loc[:,'Q12016 Sales'] / city_df.loc[:,'Q12015 Sales'] - 1) * 100\n",
    "\n",
    "# Sort descending, drop rows that only had data for one quarter\n",
    "city_df.sort_values('% Increase', ascending=False).dropna().head()"
   ]
  },
  {
   "cell_type": "markdown",
   "metadata": {},
   "source": [
    "### 6.2 Decide on a metric for performance that combines Q1 2016 sales as well as growth in sales from Q1 2015.\n",
    "\n",
    "Again, the owner wants to know that his store will be in a good position to sell a large amount of liquor now, but also have his store be more likely to grow and sell even more going forward. \n",
    "\n",
    "In particular, he is worried about opening a store in an area that is showing a decline in liquor sales between Q1 2015 and Q1 2016."
   ]
  },
  {
   "cell_type": "code",
   "execution_count": null,
   "metadata": {
    "collapsed": true
   },
   "outputs": [],
   "source": []
  },
  {
   "cell_type": "markdown",
   "metadata": {},
   "source": [
    "### 6.3 Recommend a location based on your metric.\n",
    "\n",
    "The owner asks you to make a recommendation for a new store location. Explain why you recommended this area."
   ]
  },
  {
   "cell_type": "code",
   "execution_count": null,
   "metadata": {
    "collapsed": true
   },
   "outputs": [],
   "source": []
  },
  {
   "cell_type": "markdown",
   "metadata": {},
   "source": [
    "### 6.4 Recommend a location based also on a restricted inventory type.\n",
    "\n",
    "Your employer has now decided he wants his store to focus on one type of liquor only. He askes you:\n",
    "\n",
    "1. What would be the best type of liquor to sell to maximize profit?\n",
    "2. Should the recommended location change if he is only selling one type of liquor?"
   ]
  },
  {
   "cell_type": "code",
   "execution_count": null,
   "metadata": {
    "collapsed": true
   },
   "outputs": [],
   "source": []
  },
  {
   "cell_type": "markdown",
   "metadata": {},
   "source": [
    "<img src=\"http://imgur.com/GCAf1UX.png\" style=\"float: left; margin: 25px 15px 0px 0px; height: 25px\">\n",
    "\n",
    "## 7. Time-related effects\n",
    "\n",
    "---\n",
    "\n",
    "You could imagine that liquor sales might be affected by a variety of effects related to time. Do people buy more beer in the summer? Do liquor sales skyrocket in december? Do people buy less liquor on Tuesdays?\n",
    "\n",
    "You have the date of sales in your dataset, which you can use to pull out time components.\n",
    "\n",
    "1. Come up with 3 different hypotheses about how liquor sales may vary with time-related variables. \n",
    "2. Create a visualization exploring each hypothesis.\n",
    "3. Write brief concluding remarks on what you observed.\n"
   ]
  },
  {
   "cell_type": "code",
   "execution_count": null,
   "metadata": {
    "collapsed": true
   },
   "outputs": [],
   "source": []
  },
  {
   "cell_type": "markdown",
   "metadata": {},
   "source": [
    "<img src=\"http://imgur.com/GCAf1UX.png\" style=\"float: left; margin: 25px 15px 0px 0px; height: 25px\">\n",
    "\n",
    "## 8. Appropriate spending\n",
    "\n",
    "---\n",
    "\n",
    "The owner you worked with before realized that opening new stores cost money, something he had completely overlooked earlier. He brings you back in to help him figure out how much he should be willing to spend on opening his store.\n",
    "\n",
    "### 8.1 Calculate costs and time to recoup.\n",
    "\n",
    "The owner has decided he will buy 20,000 gallons of the liquor type you recommended (randomly sampled across the different brands/subtypes). He will also be opening his store in the area you recommended.\n",
    "\n",
    "The cost of buying the property for his store will be $150,000.\n",
    "\n",
    "1. How much should he expect to spend on the 20,000 gallons of liquor alone?\n",
    "2. Based on the amount he's spent on the liquor and property, and on the profit per time period he is expected to have, how long will it take him to recoup the costs?"
   ]
  },
  {
   "cell_type": "code",
   "execution_count": null,
   "metadata": {
    "collapsed": true
   },
   "outputs": [],
   "source": []
  },
  {
   "cell_type": "markdown",
   "metadata": {},
   "source": [
    "<img src=\"http://imgur.com/gGrau8s.png\" style=\"float: left; margin: 25px 15px 0px 0px; height: 25px\">\n",
    "\n",
    "\n",
    "### 8.2 Calculate maximum loan interest rate.\n",
    "\n",
    "The owner unfortunately has to take out a loan to to pay for the entirety of the property and liquor. \n",
    "\n",
    "**Conditions of the loan**:\n",
    "\n",
    "Every quarter, (except for Q1 when he takes out the loan), the interest rate is applied to the remaining balance on the loan and added to his debt. \n",
    "\n",
    "If, for example, he made no payments whatsoever, not only would the amount of debt he owed keep increasing by quarter but the debt incurred from interest would keep increasing as well. (Since his debt keeps growing, the interest rate is applied each month to the bigger balance, incurring more debt each time.)\n",
    "\n",
    "**Determining maximum acceptable interest:**\n",
    "\n",
    "Given this, _the owner wants to be 99% confident that he will be able to pay off his loans._ If the interest rate is too high he will have to eventually declare bankruptcy.\n",
    "\n",
    "Based on his expected profits per quarter (assume the expected profit stays the same for all future quarters), what is the maximum interest rate he should accept on the loan to be 99% confident he will be able to pay it off?"
   ]
  },
  {
   "cell_type": "code",
   "execution_count": null,
   "metadata": {
    "collapsed": true
   },
   "outputs": [],
   "source": []
  }
 ],
 "metadata": {
  "anaconda-cloud": {},
  "kernelspec": {
   "display_name": "Python [dsi]",
   "language": "python",
   "name": "Python [dsi]"
  },
  "language_info": {
   "codemirror_mode": {
    "name": "ipython",
    "version": 2
   },
   "file_extension": ".py",
   "mimetype": "text/x-python",
   "name": "python",
   "nbconvert_exporter": "python",
   "pygments_lexer": "ipython2",
   "version": "2.7.12"
  }
 },
 "nbformat": 4,
 "nbformat_minor": 0
}
