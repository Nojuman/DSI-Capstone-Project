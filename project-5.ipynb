{
 "cells": [
  {
   "cell_type": "markdown",
   "metadata": {},
   "source": [
    "<img src=\"http://imgur.com/1ZcRyrc.png\" style=\"float: left; margin: 15px; height: 80px\">\n",
    "\n",
    "# Project 4\n",
    "\n",
    "## Help Yelp\n",
    "\n",
    "---\n",
    "\n",
    "In this project you will be investigating a small version of the [Yelp challenge dataset](https://www.yelp.com/dataset_challenge). You'll practice using classification algorithms, cross-validation, gridsearching – all that good stuff.\n",
    "\n"
   ]
  },
  {
   "cell_type": "markdown",
   "metadata": {},
   "source": [
    "---\n",
    "\n",
    "### The data\n",
    "\n",
    "There are 5 individual .csv files that have the information, zipped into .7z format like with the SF data last project. The dataset is located in your datasets folder:\n",
    "\n",
    "    DSI-SF-2/datasets/yelp_arizona_data.7z\n",
    "\n",
    "The columns in each are:\n",
    "\n",
    "    businesses_small_parsed.csv\n",
    "        business_id: unique business identifier\n",
    "        name: name of the business\n",
    "        review_count: number of reviews per business\n",
    "        city: city business resides in\n",
    "        stars: average rating\n",
    "        categories: categories the business falls into (can be one or multiple)\n",
    "        latitude\n",
    "        longitude\n",
    "        neighborhoods: neighborhoods business belongs to\n",
    "        variable: \"property\" of the business (a tag)\n",
    "        value: True/False for the property\n",
    "        \n",
    "    reviews_small_nlp_parsed.csv\n",
    "        user_id: unique user identifier\n",
    "        review_id: unique review identifier\n",
    "        votes.cool: how many thought the review was \"cool\"\n",
    "        business_id: unique business id the review is for\n",
    "        votes.funny: how many thought the review was funny\n",
    "        stars: rating given\n",
    "        date: date of review\n",
    "        votes.useful: how many thought the review was useful\n",
    "        ... 100 columns of counts of most common 2 word phrases that appear in reviews in this review\n",
    "        \n",
    "    users_small_parsed.csv\n",
    "        yelping_since: signup date\n",
    "        compliments.plain: # of compliments \"plain\"\n",
    "        review_count: # of reviews:\n",
    "        compliments.cute: total # of compliments \"cute\"\n",
    "        compliments.writer: # of compliments \"writer\"\n",
    "        compliments.note: # of compliments \"note\" (not sure what this is)\n",
    "        compliments.hot: # of compliments \"hot\" (?)\n",
    "        compliments.cool: # of compliments \"cool\"\n",
    "        compliments.profile: # of compliments \"profile\"\n",
    "        average_stars: average rating\n",
    "        compliments.more: # of compliments \"more\"\n",
    "        elite: years considered \"elite\"\n",
    "        name: user's name\n",
    "        user_id: unique user id\n",
    "        votes.cool: # of votes \"cool\"\n",
    "        compliments.list: # of compliments \"list\"\n",
    "        votes.funny: # of compliments \"funny\"\n",
    "        compliments.photos: # of compliments \"photos\"\n",
    "        compliments.funny: # of compliments \"funny\"\n",
    "        votes.useful: # of votes \"useful\"\n",
    "       \n",
    "    checkins_small_parsed.csv\n",
    "        business_id: unique business identifier\n",
    "        variable: day-time identifier of checkins (0-0 is Sunday 0:00 - 1:00am,  for example)\n",
    "        value: # of checkins at that time\n",
    "    \n",
    "    tips_small_nlp_parsed.csv\n",
    "        user_id: unique user identifier\n",
    "        business_id: unique business identifier\n",
    "        likes: likes that the tip has\n",
    "        date: date of tip\n",
    "        ... 100 columns of counts of most common 2 word phrases that appear in tips in this tip\n",
    "\n",
    "The reviews and tips datasets in particular have parsed \"NLP\" columns with counts of 2-word phrases in that review or tip (a \"tip\", it seems, is some kind of smaller review).\n",
    "\n",
    "The user dataset has a lot of columns of counts of different compliments and votes. I'm not sure whether the compliments or votes are _by_ the user or _for_ the user.\n",
    "\n",
    "---\n",
    "\n",
    "If you look at the website, or the full data, you'll see I have removed pieces of the data and cut it down quite a bit. This is to simplify it for this project. Specifically, business are limited to be in these cities:\n",
    "\n",
    "    Phoenix\n",
    "    Surprise\n",
    "    Las Vegas\n",
    "    Waterloo\n",
    "\n",
    "Apparently there is a city called \"Surprise\" in Arizona. \n",
    "\n",
    "Businesses are also restricted to at least be in one of the following categories, because I thought the mix of them was funny:\n",
    "\n",
    "    Airports\n",
    "    Breakfast & Brunch\n",
    "    Bubble Tea\n",
    "    Burgers\n",
    "    Bars\n",
    "    Bakeries\n",
    "    Breweries\n",
    "    Cafes\n",
    "    Candy Stores\n",
    "    Comedy Clubs\n",
    "    Courthouses\n",
    "    Dance Clubs\n",
    "    Fast Food\n",
    "    Museums\n",
    "    Tattoo\n",
    "    Vape Shops\n",
    "    Yoga\n",
    "    \n",
    "---\n",
    "\n",
    "### Project requirements\n",
    "\n",
    "**You will be performing 4 different sections of analysis, like in the last project.**\n",
    "\n",
    "Remember that classification targets are categorical and regression targets are continuous variables."
   ]
  },
  {
   "cell_type": "markdown",
   "metadata": {},
   "source": [
    "<img src=\"http://imgur.com/l5NasQj.png\" style=\"float: left; margin: 25px 15px 0px 0px; height: 25px\">\n",
    "\n",
    "## 1. Constructing a \"profile\" for Las Vegas\n",
    "\n",
    "---\n",
    "\n",
    "Yelp is interested in building out what they are calling \"profiles\" for cities. They want you to start with just Las Vegas to see what a prototype of this would look like. Essentially, they want to know what makes Las Vegas distinct from the other four.\n",
    "\n",
    "Use the data you have to predict Las Vegas from the other variables you have. You should not be predicting the city from any kind of location data or other data perfectly associated with that city (or another city).\n",
    "\n",
    "You may use any classification algorithm you deem appropriate, or even multiple models. You should:\n",
    "\n",
    "1. Build at least one model predicting Las Vegas vs. the other cities.\n",
    "- Validate your model(s).\n",
    "- Interpret and visualize, in some way, the results.\n",
    "- Write up a \"profile\" for Las Vegas. This should be a writeup converting your findings from the model(s) into a human-readable description of the city."
   ]
  },
  {
   "cell_type": "code",
   "execution_count": 1,
   "metadata": {
    "collapsed": true
   },
   "outputs": [],
   "source": [
    "# Import modules\n",
    "\n",
    "import numpy as np\n",
    "import scipy \n",
    "import seaborn as sns\n",
    "import pandas as pd\n",
    "\n",
    "import patsy\n",
    "\n",
    "from sklearn.linear_model import LogisticRegression, LinearRegression\n",
    "from sklearn.neighbors import KNeighborsClassifier\n",
    "\n",
    "from sklearn.cross_validation import cross_val_score, StratifiedKFold, train_test_split\n",
    "from sklearn.grid_search import GridSearchCV\n",
    "from sklearn.preprocessing import StandardScaler\n",
    "\n",
    "import matplotlib\n",
    "import matplotlib.pyplot as plt\n",
    "\n",
    "%config InlineBackend.figure_format = 'retina'\n",
    "%matplotlib inline\n",
    "\n",
    "plt.style.use('fivethirtyeight')"
   ]
  },
  {
   "cell_type": "code",
   "execution_count": 2,
   "metadata": {
    "collapsed": true
   },
   "outputs": [],
   "source": [
    "# Read csv files to DFs\n",
    "\n",
    "businesses = pd.read_csv('../Extracted_Data/yelp_arizona_data/businesses_small_parsed.csv')\n",
    "checkins = pd.read_csv('../Extracted_Data/yelp_arizona_data/checkins_small_parsed.csv')\n",
    "reviews = pd.read_csv('../Extracted_Data/yelp_arizona_data/reviews_small_nlp_parsed.csv')\n",
    "tips = pd.read_csv('../Extracted_Data/yelp_arizona_data/tips_small_nlp_parsed.csv')\n",
    "users = pd.read_csv('../Extracted_Data/yelp_arizona_data/users_small_parsed.csv')"
   ]
  },
  {
   "cell_type": "code",
   "execution_count": 3,
   "metadata": {
    "collapsed": false
   },
   "outputs": [
    {
     "name": "stdout",
     "output_type": "stream",
     "text": [
      "businesses\n",
      "Rows:  152832\n",
      "Columns:  11\n",
      "<class 'pandas.core.frame.DataFrame'>\n",
      "RangeIndex: 152832 entries, 0 to 152831\n",
      "Data columns (total 11 columns):\n",
      "business_id      152832 non-null object\n",
      "name             152832 non-null object\n",
      "review_count     152832 non-null int64\n",
      "city             152832 non-null object\n",
      "stars            152832 non-null float64\n",
      "categories       152832 non-null object\n",
      "latitude         152832 non-null float64\n",
      "longitude        152832 non-null float64\n",
      "neighborhoods    152832 non-null object\n",
      "variable         152832 non-null object\n",
      "value            152832 non-null object\n",
      "dtypes: float64(3), int64(1), object(7)\n",
      "memory usage: 12.8+ MB\n",
      "None \n",
      "\n",
      "checkins\n",
      "Rows:  214299\n",
      "Columns:  3\n",
      "<class 'pandas.core.frame.DataFrame'>\n",
      "RangeIndex: 214299 entries, 0 to 214298\n",
      "Data columns (total 3 columns):\n",
      "business_id    214299 non-null object\n",
      "variable       214299 non-null object\n",
      "value          214299 non-null float64\n",
      "dtypes: float64(1), object(2)\n",
      "memory usage: 4.9+ MB\n",
      "None \n",
      "\n",
      "reviews\n",
      "Rows:  322398\n",
      "Columns:  108\n",
      "<class 'pandas.core.frame.DataFrame'>\n",
      "RangeIndex: 322398 entries, 0 to 322397\n",
      "Columns: 108 entries, user_id to wait staff\n",
      "dtypes: int64(104), object(4)\n",
      "memory usage: 265.6+ MB\n",
      "None \n",
      "\n",
      "tips\n",
      "Rows:  101991\n",
      "Columns:  104\n",
      "<class 'pandas.core.frame.DataFrame'>\n",
      "RangeIndex: 101991 entries, 0 to 101990\n",
      "Columns: 104 entries, user_id to worth wait\n",
      "dtypes: int64(101), object(3)\n",
      "memory usage: 80.9+ MB\n",
      "None \n",
      "\n",
      "users\n",
      "Rows:  144206\n",
      "Columns:  21\n",
      "<class 'pandas.core.frame.DataFrame'>\n",
      "RangeIndex: 144206 entries, 0 to 144205\n",
      "Data columns (total 21 columns):\n",
      "yelping_since          144206 non-null object\n",
      "compliments.plain      47034 non-null float64\n",
      "review_count           144206 non-null int64\n",
      "compliments.cute       13133 non-null float64\n",
      "compliments.writer     33222 non-null float64\n",
      "fans                   144206 non-null int64\n",
      "compliments.note       39872 non-null float64\n",
      "compliments.hot        31748 non-null float64\n",
      "compliments.cool       41069 non-null float64\n",
      "compliments.profile    12368 non-null float64\n",
      "average_stars          144206 non-null float64\n",
      "compliments.more       25066 non-null float64\n",
      "elite                  144206 non-null object\n",
      "name                   144206 non-null object\n",
      "user_id                144206 non-null object\n",
      "votes.cool             144206 non-null int64\n",
      "compliments.list       7180 non-null float64\n",
      "votes.funny            144206 non-null int64\n",
      "compliments.photos     18759 non-null float64\n",
      "compliments.funny      30612 non-null float64\n",
      "votes.useful           144206 non-null int64\n",
      "dtypes: float64(12), int64(5), object(4)\n",
      "memory usage: 23.1+ MB\n",
      "None \n",
      "\n"
     ]
    }
   ],
   "source": [
    "# Check shape and datatypes of all data\n",
    "\n",
    "dfs = [businesses, checkins, reviews, tips, users]\n",
    "dfs_names = ['businesses', 'checkins', 'reviews', 'tips', 'users']\n",
    "\n",
    "for index, x in enumerate(dfs):\n",
    "    print dfs_names[index]\n",
    "    print 'Rows: ', x.shape[0]\n",
    "    print 'Columns: ', x.shape[1]\n",
    "    print x.info(),'\\n'"
   ]
  },
  {
   "cell_type": "code",
   "execution_count": 4,
   "metadata": {
    "collapsed": false
   },
   "outputs": [
    {
     "data": {
      "text/html": [
       "<div>\n",
       "<table border=\"1\" class=\"dataframe\">\n",
       "  <thead>\n",
       "    <tr style=\"text-align: right;\">\n",
       "      <th></th>\n",
       "      <th>0</th>\n",
       "      <th>1</th>\n",
       "      <th>2</th>\n",
       "      <th>3</th>\n",
       "      <th>4</th>\n",
       "    </tr>\n",
       "  </thead>\n",
       "  <tbody>\n",
       "    <tr>\n",
       "      <th>business_id</th>\n",
       "      <td>EmzaQR5hQlF0WIl24NxAZA</td>\n",
       "      <td>SiwN7f0N4bs4ZtPc4yPgiA</td>\n",
       "      <td>e5kc0CQ4R-PCCDgb274gSg</td>\n",
       "      <td>neGAQFkBNI8-rpPBLBzNkw</td>\n",
       "      <td>45puCRQ6Vh_IIAy7kkfFDQ</td>\n",
       "    </tr>\n",
       "    <tr>\n",
       "      <th>name</th>\n",
       "      <td>Sky Lounge</td>\n",
       "      <td>Palazzo</td>\n",
       "      <td>Canyon Cafe</td>\n",
       "      <td>Taco Bell</td>\n",
       "      <td>Majerle's Sports Grill</td>\n",
       "    </tr>\n",
       "    <tr>\n",
       "      <th>review_count</th>\n",
       "      <td>25</td>\n",
       "      <td>19</td>\n",
       "      <td>238</td>\n",
       "      <td>10</td>\n",
       "      <td>205</td>\n",
       "    </tr>\n",
       "    <tr>\n",
       "      <th>city</th>\n",
       "      <td>Phoenix</td>\n",
       "      <td>Phoenix</td>\n",
       "      <td>Phoenix</td>\n",
       "      <td>Phoenix</td>\n",
       "      <td>Phoenix</td>\n",
       "    </tr>\n",
       "    <tr>\n",
       "      <th>stars</th>\n",
       "      <td>2.5</td>\n",
       "      <td>3</td>\n",
       "      <td>3.5</td>\n",
       "      <td>4</td>\n",
       "      <td>3.5</td>\n",
       "    </tr>\n",
       "    <tr>\n",
       "      <th>categories</th>\n",
       "      <td>['American (New)', 'Nightlife', 'Dance Clubs',...</td>\n",
       "      <td>['Bars', 'Nightlife', 'Dance Clubs']</td>\n",
       "      <td>['Cafes', 'Mexican', 'Tex-Mex', 'Restaurants']</td>\n",
       "      <td>['Fast Food', 'Mexican', 'Tex-Mex', 'Restauran...</td>\n",
       "      <td>['Bars', 'Restaurants', 'American (Traditional...</td>\n",
       "    </tr>\n",
       "    <tr>\n",
       "      <th>latitude</th>\n",
       "      <td>33.4484</td>\n",
       "      <td>33.4559</td>\n",
       "      <td>33.4522</td>\n",
       "      <td>33.4654</td>\n",
       "      <td>33.4485</td>\n",
       "    </tr>\n",
       "    <tr>\n",
       "      <th>longitude</th>\n",
       "      <td>-112.072</td>\n",
       "      <td>-112.074</td>\n",
       "      <td>-112.069</td>\n",
       "      <td>-112.069</td>\n",
       "      <td>-112.071</td>\n",
       "    </tr>\n",
       "    <tr>\n",
       "      <th>neighborhoods</th>\n",
       "      <td>[]</td>\n",
       "      <td>[]</td>\n",
       "      <td>[]</td>\n",
       "      <td>[]</td>\n",
       "      <td>[]</td>\n",
       "    </tr>\n",
       "    <tr>\n",
       "      <th>variable</th>\n",
       "      <td>attributes.Ambience.divey</td>\n",
       "      <td>attributes.Ambience.divey</td>\n",
       "      <td>attributes.Ambience.divey</td>\n",
       "      <td>attributes.Ambience.divey</td>\n",
       "      <td>attributes.Ambience.divey</td>\n",
       "    </tr>\n",
       "    <tr>\n",
       "      <th>value</th>\n",
       "      <td>False</td>\n",
       "      <td>False</td>\n",
       "      <td>False</td>\n",
       "      <td>False</td>\n",
       "      <td>False</td>\n",
       "    </tr>\n",
       "  </tbody>\n",
       "</table>\n",
       "</div>"
      ],
      "text/plain": [
       "                                                               0  \\\n",
       "business_id                               EmzaQR5hQlF0WIl24NxAZA   \n",
       "name                                                  Sky Lounge   \n",
       "review_count                                                  25   \n",
       "city                                                     Phoenix   \n",
       "stars                                                        2.5   \n",
       "categories     ['American (New)', 'Nightlife', 'Dance Clubs',...   \n",
       "latitude                                                 33.4484   \n",
       "longitude                                               -112.072   \n",
       "neighborhoods                                                 []   \n",
       "variable                               attributes.Ambience.divey   \n",
       "value                                                      False   \n",
       "\n",
       "                                                  1  \\\n",
       "business_id                  SiwN7f0N4bs4ZtPc4yPgiA   \n",
       "name                                        Palazzo   \n",
       "review_count                                     19   \n",
       "city                                        Phoenix   \n",
       "stars                                             3   \n",
       "categories     ['Bars', 'Nightlife', 'Dance Clubs']   \n",
       "latitude                                    33.4559   \n",
       "longitude                                  -112.074   \n",
       "neighborhoods                                    []   \n",
       "variable                  attributes.Ambience.divey   \n",
       "value                                         False   \n",
       "\n",
       "                                                            2  \\\n",
       "business_id                            e5kc0CQ4R-PCCDgb274gSg   \n",
       "name                                              Canyon Cafe   \n",
       "review_count                                              238   \n",
       "city                                                  Phoenix   \n",
       "stars                                                     3.5   \n",
       "categories     ['Cafes', 'Mexican', 'Tex-Mex', 'Restaurants']   \n",
       "latitude                                              33.4522   \n",
       "longitude                                            -112.069   \n",
       "neighborhoods                                              []   \n",
       "variable                            attributes.Ambience.divey   \n",
       "value                                                   False   \n",
       "\n",
       "                                                               3  \\\n",
       "business_id                               neGAQFkBNI8-rpPBLBzNkw   \n",
       "name                                                   Taco Bell   \n",
       "review_count                                                  10   \n",
       "city                                                     Phoenix   \n",
       "stars                                                          4   \n",
       "categories     ['Fast Food', 'Mexican', 'Tex-Mex', 'Restauran...   \n",
       "latitude                                                 33.4654   \n",
       "longitude                                               -112.069   \n",
       "neighborhoods                                                 []   \n",
       "variable                               attributes.Ambience.divey   \n",
       "value                                                      False   \n",
       "\n",
       "                                                               4  \n",
       "business_id                               45puCRQ6Vh_IIAy7kkfFDQ  \n",
       "name                                      Majerle's Sports Grill  \n",
       "review_count                                                 205  \n",
       "city                                                     Phoenix  \n",
       "stars                                                        3.5  \n",
       "categories     ['Bars', 'Restaurants', 'American (Traditional...  \n",
       "latitude                                                 33.4485  \n",
       "longitude                                               -112.071  \n",
       "neighborhoods                                                 []  \n",
       "variable                               attributes.Ambience.divey  \n",
       "value                                                      False  "
      ]
     },
     "execution_count": 4,
     "metadata": {},
     "output_type": "execute_result"
    }
   ],
   "source": [
    "businesses.head().T"
   ]
  },
  {
   "cell_type": "code",
   "execution_count": null,
   "metadata": {
    "collapsed": false
   },
   "outputs": [],
   "source": []
  },
  {
   "cell_type": "code",
   "execution_count": 5,
   "metadata": {
    "collapsed": true
   },
   "outputs": [],
   "source": [
    "# Question 1 / 2\n",
    "\n",
    "# Add bool for Las Vegas\n",
    "\n",
    "businesses_mod = businesses.copy()\n",
    "businesses_mod['is_vegas'] = businesses_mod['city'].map(lambda x: 1 if x.lower() == 'las vegas' else 0)\n",
    "\n",
    "# Define target and predictors\n",
    "\n",
    "X = businesses_mod[['review_count', 'stars']]\n",
    "y = businesses_mod['is_vegas']\n",
    "\n",
    "# Initialize KNN classification model, with GridSearchCV\n",
    "\n",
    "params = {\n",
    "    'n_neighbors':range(1,101),\n",
    "    'weights':['uniform','distance']\n",
    "}\n",
    "\n",
    "knn = KNeighborsClassifier()\n",
    "\n",
    "knn_gs = GridSearchCV(knn, params, cv=5, verbose=1)"
   ]
  },
  {
   "cell_type": "code",
   "execution_count": 6,
   "metadata": {
    "collapsed": false
   },
   "outputs": [
    {
     "name": "stdout",
     "output_type": "stream",
     "text": [
      "Fitting 5 folds for each of 200 candidates, totalling 1000 fits\n"
     ]
    },
    {
     "name": "stderr",
     "output_type": "stream",
     "text": [
      "[Parallel(n_jobs=1)]: Done  49 tasks       | elapsed:   32.3s\n",
      "[Parallel(n_jobs=1)]: Done 199 tasks       | elapsed:  2.3min\n",
      "[Parallel(n_jobs=1)]: Done 449 tasks       | elapsed:  6.1min\n",
      "[Parallel(n_jobs=1)]: Done 799 tasks       | elapsed: 13.1min\n"
     ]
    },
    {
     "name": "stdout",
     "output_type": "stream",
     "text": [
      "{'n_neighbors': 95, 'weights': 'distance'}\n"
     ]
    },
    {
     "name": "stderr",
     "output_type": "stream",
     "text": [
      "[Parallel(n_jobs=1)]: Done 1000 out of 1000 | elapsed: 17.8min finished\n"
     ]
    }
   ],
   "source": [
    "# Run GridSearchCV\n",
    "\n",
    "knn_gs.fit(X, y)\n",
    "\n",
    "print knn_gs.best_params_\n",
    "best_knn = knn_gs.best_estimator_"
   ]
  },
  {
   "cell_type": "code",
   "execution_count": 7,
   "metadata": {
    "collapsed": false
   },
   "outputs": [
    {
     "name": "stdout",
     "output_type": "stream",
     "text": [
      "KNN CV scores: [ 0.74488828  0.73998103  0.74894494  0.74609043  0.74320301]\n",
      "KNN mean score: 0.744621536274\n",
      "Baseline accuracy: 0.613863588777\n"
     ]
    }
   ],
   "source": [
    "# Use GridSearch'd params and print CV scores, compare to baseline\n",
    "\n",
    "scores = cross_val_score(best_knn, X, y, cv=5)\n",
    "\n",
    "print 'KNN CV scores:', scores\n",
    "print 'KNN mean score:', np.mean(scores)\n",
    "print 'Baseline accuracy:', np.mean(y)"
   ]
  },
  {
   "cell_type": "code",
   "execution_count": 8,
   "metadata": {
    "collapsed": false
   },
   "outputs": [
    {
     "data": {
      "text/html": [
       "<div>\n",
       "<table border=\"1\" class=\"dataframe\">\n",
       "  <thead>\n",
       "    <tr style=\"text-align: right;\">\n",
       "      <th></th>\n",
       "      <th>review_count</th>\n",
       "      <th>stars</th>\n",
       "      <th>latitude</th>\n",
       "      <th>longitude</th>\n",
       "      <th>is_vegas</th>\n",
       "    </tr>\n",
       "    <tr>\n",
       "      <th>city</th>\n",
       "      <th></th>\n",
       "      <th></th>\n",
       "      <th></th>\n",
       "      <th></th>\n",
       "      <th></th>\n",
       "    </tr>\n",
       "  </thead>\n",
       "  <tbody>\n",
       "    <tr>\n",
       "      <th>Las Vegas</th>\n",
       "      <td>133.364674</td>\n",
       "      <td>3.474983</td>\n",
       "      <td>36.128327</td>\n",
       "      <td>-115.192257</td>\n",
       "      <td>1.0</td>\n",
       "    </tr>\n",
       "    <tr>\n",
       "      <th>Phoenix</th>\n",
       "      <td>87.031701</td>\n",
       "      <td>3.489471</td>\n",
       "      <td>33.523585</td>\n",
       "      <td>-112.056129</td>\n",
       "      <td>0.0</td>\n",
       "    </tr>\n",
       "    <tr>\n",
       "      <th>Surprise</th>\n",
       "      <td>43.865837</td>\n",
       "      <td>3.017989</td>\n",
       "      <td>33.634243</td>\n",
       "      <td>-112.376170</td>\n",
       "      <td>0.0</td>\n",
       "    </tr>\n",
       "    <tr>\n",
       "      <th>Waterloo</th>\n",
       "      <td>15.971749</td>\n",
       "      <td>3.520645</td>\n",
       "      <td>43.472572</td>\n",
       "      <td>-80.527774</td>\n",
       "      <td>0.0</td>\n",
       "    </tr>\n",
       "  </tbody>\n",
       "</table>\n",
       "</div>"
      ],
      "text/plain": [
       "           review_count     stars   latitude   longitude  is_vegas\n",
       "city                                                              \n",
       "Las Vegas    133.364674  3.474983  36.128327 -115.192257       1.0\n",
       "Phoenix       87.031701  3.489471  33.523585 -112.056129       0.0\n",
       "Surprise      43.865837  3.017989  33.634243 -112.376170       0.0\n",
       "Waterloo      15.971749  3.520645  43.472572  -80.527774       0.0"
      ]
     },
     "execution_count": 8,
     "metadata": {},
     "output_type": "execute_result"
    }
   ],
   "source": [
    "businesses_mod.groupby(['city']).mean()"
   ]
  },
  {
   "cell_type": "code",
   "execution_count": 9,
   "metadata": {
    "collapsed": false
   },
   "outputs": [
    {
     "data": {
      "text/html": [
       "<div>\n",
       "<table border=\"1\" class=\"dataframe\">\n",
       "  <thead>\n",
       "    <tr style=\"text-align: right;\">\n",
       "      <th></th>\n",
       "      <th>review_count</th>\n",
       "      <th>stars</th>\n",
       "      <th>latitude</th>\n",
       "      <th>longitude</th>\n",
       "      <th>is_vegas</th>\n",
       "    </tr>\n",
       "  </thead>\n",
       "  <tbody>\n",
       "    <tr>\n",
       "      <th>count</th>\n",
       "      <td>152832.00000</td>\n",
       "      <td>152832.000000</td>\n",
       "      <td>152832.000000</td>\n",
       "      <td>152832.000000</td>\n",
       "      <td>152832.000000</td>\n",
       "    </tr>\n",
       "    <tr>\n",
       "      <th>mean</th>\n",
       "      <td>113.35011</td>\n",
       "      <td>3.471966</td>\n",
       "      <td>35.304429</td>\n",
       "      <td>-113.417933</td>\n",
       "      <td>0.613864</td>\n",
       "    </tr>\n",
       "    <tr>\n",
       "      <th>std</th>\n",
       "      <td>262.24581</td>\n",
       "      <td>0.768355</td>\n",
       "      <td>1.669487</td>\n",
       "      <td>4.706022</td>\n",
       "      <td>0.486864</td>\n",
       "    </tr>\n",
       "    <tr>\n",
       "      <th>min</th>\n",
       "      <td>3.00000</td>\n",
       "      <td>1.000000</td>\n",
       "      <td>33.281526</td>\n",
       "      <td>-115.386550</td>\n",
       "      <td>0.000000</td>\n",
       "    </tr>\n",
       "    <tr>\n",
       "      <th>25%</th>\n",
       "      <td>12.00000</td>\n",
       "      <td>3.000000</td>\n",
       "      <td>33.582160</td>\n",
       "      <td>-115.194814</td>\n",
       "      <td>0.000000</td>\n",
       "    </tr>\n",
       "    <tr>\n",
       "      <th>50%</th>\n",
       "      <td>34.00000</td>\n",
       "      <td>3.500000</td>\n",
       "      <td>36.096639</td>\n",
       "      <td>-115.140690</td>\n",
       "      <td>1.000000</td>\n",
       "    </tr>\n",
       "    <tr>\n",
       "      <th>75%</th>\n",
       "      <td>101.00000</td>\n",
       "      <td>4.000000</td>\n",
       "      <td>36.135012</td>\n",
       "      <td>-112.074115</td>\n",
       "      <td>1.000000</td>\n",
       "    </tr>\n",
       "    <tr>\n",
       "      <th>max</th>\n",
       "      <td>5642.00000</td>\n",
       "      <td>5.000000</td>\n",
       "      <td>43.514662</td>\n",
       "      <td>-80.515244</td>\n",
       "      <td>1.000000</td>\n",
       "    </tr>\n",
       "  </tbody>\n",
       "</table>\n",
       "</div>"
      ],
      "text/plain": [
       "       review_count          stars       latitude      longitude  \\\n",
       "count  152832.00000  152832.000000  152832.000000  152832.000000   \n",
       "mean      113.35011       3.471966      35.304429    -113.417933   \n",
       "std       262.24581       0.768355       1.669487       4.706022   \n",
       "min         3.00000       1.000000      33.281526    -115.386550   \n",
       "25%        12.00000       3.000000      33.582160    -115.194814   \n",
       "50%        34.00000       3.500000      36.096639    -115.140690   \n",
       "75%       101.00000       4.000000      36.135012    -112.074115   \n",
       "max      5642.00000       5.000000      43.514662     -80.515244   \n",
       "\n",
       "            is_vegas  \n",
       "count  152832.000000  \n",
       "mean        0.613864  \n",
       "std         0.486864  \n",
       "min         0.000000  \n",
       "25%         0.000000  \n",
       "50%         1.000000  \n",
       "75%         1.000000  \n",
       "max         1.000000  "
      ]
     },
     "execution_count": 9,
     "metadata": {},
     "output_type": "execute_result"
    }
   ],
   "source": [
    "businesses_mod.describe()"
   ]
  },
  {
   "cell_type": "code",
   "execution_count": 11,
   "metadata": {
    "collapsed": false
   },
   "outputs": [
    {
     "data": {
      "image/png": "[encoded data removed]",
      "text/plain": [
       "<matplotlib.figure.Figure at 0x1045e36d0>"
      ]
     },
     "metadata": {
      "image/png": {
       "height": 295,
       "width": 433
      }
     },
     "output_type": "display_data"
    }
   ],
   "source": [
    "fig = plt.figure(figsize=(6,4))\n",
    "ax = fig.gca()\n",
    "\n",
    "ax = sns.distplot(businesses[businesses['city'] == 'Las Vegas'].review_count)\n",
    "plt.show()"
   ]
  },
  {
   "cell_type": "code",
   "execution_count": 12,
   "metadata": {
    "collapsed": false
   },
   "outputs": [
    {
     "data": {
      "image/png": "[encoded data removed]",
      "text/plain": [
       "<matplotlib.figure.Figure at 0x1121e0410>"
      ]
     },
     "metadata": {
      "image/png": {
       "height": 295,
       "width": 433
      }
     },
     "output_type": "display_data"
    }
   ],
   "source": [
    "fig = plt.figure(figsize=(6,4))\n",
    "ax = fig.gca()\n",
    "\n",
    "ax = sns.distplot(businesses[businesses['city'] == 'Phoenix'].review_count)\n",
    "plt.show()"
   ]
  },
  {
   "cell_type": "code",
   "execution_count": null,
   "metadata": {
    "collapsed": true
   },
   "outputs": [],
   "source": [
    "# Next step would be to add data from other tables. I have a sneaking suspicion that check-in times / frequency \n",
    "# would improve the results here. But I wanted to make sure I got to the other two problems. "
   ]
  },
  {
   "cell_type": "markdown",
   "metadata": {},
   "source": [
    "<img src=\"http://imgur.com/l5NasQj.png\" style=\"float: left; margin: 25px 15px 0px 0px; height: 25px\">\n",
    "\n",
    "## 2. Different categories of ratings\n",
    "\n",
    "---\n",
    "\n",
    "Yelp is finally ready to admit that their rating system sucks. No one cares about the ratings, they just use the site to find out what's nearby. The ratings are simply too unreliable for people. \n",
    "\n",
    "Yelp hypothesizes that this is, in fact, because different people tend to give their ratings based on different things. They believe that perhaps some people always base their ratings on quality of food, others on service, and perhaps other categories as well. \n",
    "\n",
    "1. Do some users tend to talk about service more than others in reviews/tips? Divide up the tips/reviews into more \"service-focused\" ones and those less concerned with service.\n",
    "2. Create two new ratings for businesses: ratings from just the service-focused reviews and ratings from the non-service reviews.\n",
    "3. Construct a regression model for each of the two ratings. They should use the same predictor variables (of your choice). \n",
    "4. Validate the performance of the models.\n",
    "5. Do the models coefficients differ at all? What does this tell you about the hypothesis that there are in fact two different kinds of ratings?"
   ]
  },
  {
   "cell_type": "code",
   "execution_count": 13,
   "metadata": {
    "collapsed": false
   },
   "outputs": [
    {
     "name": "stdout",
     "output_type": "stream",
     "text": [
      "(322398, 108)\n",
      "(322398, 24)\n",
      "(322398, 92)\n"
     ]
    }
   ],
   "source": [
    "# Question 1 / Question 2\n",
    "\n",
    "# Establish which columns are service related\n",
    "\n",
    "base_cols = list(reviews.columns[0:8])\n",
    "\n",
    "service_cols = [col for col in reviews.columns[8:] if 'service' in col]\n",
    "service_cols.extend(['wait staff','right away','10 minutes','15 minutes','20 minutes','30 minutes'])\n",
    "\n",
    "other_cols = [col for col in reviews.columns[8:] if col not in service_cols]\n",
    "\n",
    "# Split reviews table into service related and non service related\n",
    "\n",
    "service_reviews = reviews.ix[:,(base_cols + service_cols)]\n",
    "other_reviews = reviews.ix[:, (base_cols + other_cols)]\n",
    "\n",
    "print reviews.shape\n",
    "print service_reviews.shape\n",
    "print other_reviews.shape"
   ]
  },
  {
   "cell_type": "code",
   "execution_count": 14,
   "metadata": {
    "collapsed": false
   },
   "outputs": [
    {
     "name": "stdout",
     "output_type": "stream",
     "text": [
      "Users: 144206\n",
      "Max reviews per user: 110\n",
      "Min reviews per user: 0\n",
      "Mean reviews per user: 0.558062771313\n"
     ]
    }
   ],
   "source": [
    "# Create list of users who have the most service related word pairs in their reviews\n",
    "\n",
    "user_list = service_reviews.groupby(['user_id'])[service_cols].sum().sum(axis=1).sort_values(ascending=False)\n",
    "\n",
    "# Print summary statistics\n",
    "\n",
    "print 'Users:', reviews['user_id'].unique().size\n",
    "print 'Max reviews per user:', np.max(user_list)\n",
    "print 'Min reviews per user:', np.min(user_list)\n",
    "print 'Mean reviews per user:', np.mean(user_list)\n",
    "\n",
    "# Some users are especially prolific (lots of outliers in distribution)"
   ]
  },
  {
   "cell_type": "code",
   "execution_count": 15,
   "metadata": {
    "collapsed": false
   },
   "outputs": [
    {
     "data": {
      "image/png": "[encoded data removed]",
      "text/plain": [
       "<matplotlib.figure.Figure at 0x1139132d0>"
      ]
     },
     "metadata": {
      "image/png": {
       "height": 513,
       "width": 683
      }
     },
     "output_type": "display_data"
    }
   ],
   "source": [
    "# Plot distribution (x-axis is logarithmic (ln)) \n",
    "\n",
    "fig, ax = plt.subplots(figsize=(10,8))\n",
    "user_list.map(lambda x: np.log(1 + x)).hist(bins=40, ax=ax)\n",
    "plt.show()"
   ]
  },
  {
   "cell_type": "code",
   "execution_count": 16,
   "metadata": {
    "collapsed": false
   },
   "outputs": [
    {
     "name": "stdout",
     "output_type": "stream",
     "text": [
      "R2 scores:  [ 0.07719527  0.07780093  0.07634872  0.10348139  0.10114397]\n",
      "Mean R2:  0.0871940573748\n"
     ]
    }
   ],
   "source": [
    "# Question 3 / 4, Part 1 (Run CV LinearRegression on entire service focused dataset)\n",
    "\n",
    "# Establish excluded columns and create X and y \n",
    "\n",
    "excluded_cols = ['stars', 'business_id', 'user_id', 'business_id', 'review_id', 'date']\n",
    "X = service_reviews[[col for col in service_reviews.columns if col not in excluded_cols]]\n",
    "y = service_reviews['stars']\n",
    "\n",
    "# Initialize, fit, CV, and score LinearRegression\n",
    "\n",
    "linreg = LinearRegression()\n",
    "linreg.fit(X, y)\n",
    "lr_scores = cross_val_score(linreg, X, y, cv=5)\n",
    "\n",
    "print 'R2 scores: ', lr_scores\n",
    "print 'Mean R2: ', np.mean(lr_scores)"
   ]
  },
  {
   "cell_type": "code",
   "execution_count": 17,
   "metadata": {
    "collapsed": true
   },
   "outputs": [],
   "source": [
    "# Create function to optimize CV LinReg score by subsetting review data by only reviews that \n",
    "# have received a specified number of votes in a specified category (e.g. useful, cool, funny)\n",
    "\n",
    "def votes_optimizer(df, kind='votes.useful', votes=5, sort=False, folds=5):\n",
    "    \n",
    "    output_dict = {\n",
    "        kind       : [],\n",
    "        'R2_score' : []\n",
    "    }\n",
    "    \n",
    "    excluded_cols = ['stars', 'business_id', 'user_id', 'business_id', 'review_id', 'date']\n",
    "\n",
    "    # Simulate different subsetting conditions     \n",
    "    for i in range(0, votes + 1):\n",
    "        \n",
    "        # Create new df using iterator to subset original df by votes       \n",
    "        df_sub = df[df[kind] > i]\n",
    "\n",
    "        # Create X and y variables\n",
    "        X = df_sub[[col for col in df_sub.columns if col not in excluded_cols]]\n",
    "        y = df_sub['stars']\n",
    "\n",
    "        # Initialize, fit, CV, and score LinearRegression\n",
    "        linreg = LinearRegression()\n",
    "        linreg.fit(X, y)\n",
    "\n",
    "        output_dict[kind].append(i)\n",
    "        output_dict['R2_score'].append(np.mean(cross_val_score(linreg, X, y, cv=folds)))\n",
    "        \n",
    "    if sort:\n",
    "        return pd.DataFrame(output_dict, columns=[kind, 'R2_score']).sort_values(by='R2_score', ascending=False)\n",
    "    else:\n",
    "        return pd.DataFrame(output_dict, columns=[kind, 'R2_score'])"
   ]
  },
  {
   "cell_type": "code",
   "execution_count": 18,
   "metadata": {
    "collapsed": false
   },
   "outputs": [
    {
     "data": {
      "text/html": [
       "<div>\n",
       "<table border=\"1\" class=\"dataframe\">\n",
       "  <thead>\n",
       "    <tr style=\"text-align: right;\">\n",
       "      <th></th>\n",
       "      <th>votes.useful</th>\n",
       "      <th>R2_score</th>\n",
       "    </tr>\n",
       "  </thead>\n",
       "  <tbody>\n",
       "    <tr>\n",
       "      <th>15</th>\n",
       "      <td>15</td>\n",
       "      <td>0.359375</td>\n",
       "    </tr>\n",
       "    <tr>\n",
       "      <th>13</th>\n",
       "      <td>13</td>\n",
       "      <td>0.352624</td>\n",
       "    </tr>\n",
       "    <tr>\n",
       "      <th>14</th>\n",
       "      <td>14</td>\n",
       "      <td>0.351235</td>\n",
       "    </tr>\n",
       "    <tr>\n",
       "      <th>12</th>\n",
       "      <td>12</td>\n",
       "      <td>0.350956</td>\n",
       "    </tr>\n",
       "    <tr>\n",
       "      <th>11</th>\n",
       "      <td>11</td>\n",
       "      <td>0.346101</td>\n",
       "    </tr>\n",
       "  </tbody>\n",
       "</table>\n",
       "</div>"
      ],
      "text/plain": [
       "    votes.useful  R2_score\n",
       "15            15  0.359375\n",
       "13            13  0.352624\n",
       "14            14  0.351235\n",
       "12            12  0.350956\n",
       "11            11  0.346101"
      ]
     },
     "execution_count": 18,
     "metadata": {},
     "output_type": "execute_result"
    }
   ],
   "source": [
    "# Use custom function to return top results\n",
    "\n",
    "votes_optimizer(service_reviews, votes=30, kind='votes.useful', sort=True).head()"
   ]
  },
  {
   "cell_type": "code",
   "execution_count": 19,
   "metadata": {
    "collapsed": false
   },
   "outputs": [
    {
     "data": {
      "image/png": "[encoded data removed]",
      "text/plain": [
       "<matplotlib.figure.Figure at 0x1045e1050>"
      ]
     },
     "metadata": {
      "image/png": {
       "height": 295,
       "width": 437
      }
     },
     "output_type": "display_data"
    }
   ],
   "source": [
    "# Use custom function to return graph of R2 score for different subset values\n",
    "\n",
    "graph_df = votes_optimizer(service_reviews, votes=30, kind='votes.useful')\n",
    "\n",
    "sns.barplot(graph_df['votes.useful'], graph_df['R2_score'])\n",
    "plt.show()"
   ]
  },
  {
   "cell_type": "code",
   "execution_count": 20,
   "metadata": {
    "collapsed": false
   },
   "outputs": [
    {
     "name": "stdout",
     "output_type": "stream",
     "text": [
      "R2 scores:  [ 0.3789642   0.3170019   0.30794863  0.46349513  0.32946561]\n",
      "Mean R2:  0.359375094439\n"
     ]
    }
   ],
   "source": [
    "# Refit LinearRegression model using optimized parameters\n",
    "\n",
    "service_reviews_sub = service_reviews[service_reviews['votes.useful'] > 15]\n",
    "\n",
    "X = service_reviews_sub[[col for col in service_reviews_sub.columns if col not in excluded_cols]]\n",
    "y = service_reviews_sub['stars']\n",
    "\n",
    "linreg = LinearRegression()\n",
    "linreg.fit(X, y)\n",
    "lr_scores = cross_val_score(linreg, X, y, cv=5)\n",
    "\n",
    "print 'R2 scores: ', lr_scores\n",
    "print 'Mean R2: ', np.mean(lr_scores)"
   ]
  },
  {
   "cell_type": "code",
   "execution_count": 21,
   "metadata": {
    "collapsed": false
   },
   "outputs": [
    {
     "data": {
      "text/html": [
       "<div>\n",
       "<table border=\"1\" class=\"dataframe\">\n",
       "  <thead>\n",
       "    <tr style=\"text-align: right;\">\n",
       "      <th></th>\n",
       "      <th>abs_coef</th>\n",
       "      <th>coef</th>\n",
       "      <th>variable</th>\n",
       "    </tr>\n",
       "  </thead>\n",
       "  <tbody>\n",
       "    <tr>\n",
       "      <th>16</th>\n",
       "      <td>0.510687</td>\n",
       "      <td>-0.510687</td>\n",
       "      <td>15 minutes</td>\n",
       "    </tr>\n",
       "    <tr>\n",
       "      <th>17</th>\n",
       "      <td>0.496928</td>\n",
       "      <td>-0.496928</td>\n",
       "      <td>20 minutes</td>\n",
       "    </tr>\n",
       "    <tr>\n",
       "      <th>8</th>\n",
       "      <td>0.458759</td>\n",
       "      <td>0.458759</td>\n",
       "      <td>service excellent</td>\n",
       "    </tr>\n",
       "    <tr>\n",
       "      <th>3</th>\n",
       "      <td>0.407387</td>\n",
       "      <td>0.407387</td>\n",
       "      <td>bottle service</td>\n",
       "    </tr>\n",
       "    <tr>\n",
       "      <th>18</th>\n",
       "      <td>0.375782</td>\n",
       "      <td>-0.375782</td>\n",
       "      <td>30 minutes</td>\n",
       "    </tr>\n",
       "    <tr>\n",
       "      <th>6</th>\n",
       "      <td>0.323407</td>\n",
       "      <td>0.323407</td>\n",
       "      <td>good service</td>\n",
       "    </tr>\n",
       "    <tr>\n",
       "      <th>4</th>\n",
       "      <td>0.300947</td>\n",
       "      <td>-0.300947</td>\n",
       "      <td>customer service</td>\n",
       "    </tr>\n",
       "    <tr>\n",
       "      <th>11</th>\n",
       "      <td>0.265059</td>\n",
       "      <td>-0.265059</td>\n",
       "      <td>service good</td>\n",
       "    </tr>\n",
       "    <tr>\n",
       "      <th>9</th>\n",
       "      <td>0.264589</td>\n",
       "      <td>-0.264589</td>\n",
       "      <td>service food</td>\n",
       "    </tr>\n",
       "    <tr>\n",
       "      <th>12</th>\n",
       "      <td>0.219242</td>\n",
       "      <td>-0.219242</td>\n",
       "      <td>service great</td>\n",
       "    </tr>\n",
       "  </tbody>\n",
       "</table>\n",
       "</div>"
      ],
      "text/plain": [
       "    abs_coef      coef           variable\n",
       "16  0.510687 -0.510687         15 minutes\n",
       "17  0.496928 -0.496928         20 minutes\n",
       "8   0.458759  0.458759  service excellent\n",
       "3   0.407387  0.407387     bottle service\n",
       "18  0.375782 -0.375782         30 minutes\n",
       "6   0.323407  0.323407       good service\n",
       "4   0.300947 -0.300947   customer service\n",
       "11  0.265059 -0.265059       service good\n",
       "9   0.264589 -0.264589       service food\n",
       "12  0.219242 -0.219242      service great"
      ]
     },
     "execution_count": 21,
     "metadata": {},
     "output_type": "execute_result"
    }
   ],
   "source": [
    "# Evaluate coefficients and isolate variables that are most predictive \n",
    "\n",
    "coefs = pd.DataFrame({'coef':linreg.coef_, 'abs_coef':np.abs(linreg.coef_), 'variable':[col for col in X.columns]})\n",
    "coefs.sort_values(by='abs_coef', ascending=False).head(10)"
   ]
  },
  {
   "cell_type": "code",
   "execution_count": 22,
   "metadata": {
    "collapsed": false
   },
   "outputs": [
    {
     "name": "stdout",
     "output_type": "stream",
     "text": [
      "R2 scores:  [ 0.12344962  0.13112839  0.12217174  0.15557357  0.16442623]\n",
      "Mean R2:  0.139349911537\n"
     ]
    }
   ],
   "source": [
    "# Question 3 / 4, Part 2 (Run CV LinearRegression on entire non-service focused dataset)\n",
    "\n",
    "# Establish excluded columns and create X and y \n",
    "\n",
    "excluded_cols = ['stars', 'business_id', 'user_id', 'business_id', 'review_id', 'date']\n",
    "X = other_reviews[[col for col in other_reviews.columns if col not in excluded_cols]]\n",
    "y = other_reviews['stars']\n",
    "\n",
    "# Initialize, fit, CV, and score LinearRegression\n",
    "\n",
    "linreg = LinearRegression()\n",
    "linreg.fit(X, y)\n",
    "lr_scores = cross_val_score(linreg, X, y, cv=5)\n",
    "\n",
    "print 'R2 scores: ', lr_scores\n",
    "print 'Mean R2: ', np.mean(lr_scores)"
   ]
  },
  {
   "cell_type": "code",
   "execution_count": 23,
   "metadata": {
    "collapsed": false
   },
   "outputs": [
    {
     "data": {
      "text/html": [
       "<div>\n",
       "<table border=\"1\" class=\"dataframe\">\n",
       "  <thead>\n",
       "    <tr style=\"text-align: right;\">\n",
       "      <th></th>\n",
       "      <th>votes.useful</th>\n",
       "      <th>R2_score</th>\n",
       "    </tr>\n",
       "  </thead>\n",
       "  <tbody>\n",
       "    <tr>\n",
       "      <th>12</th>\n",
       "      <td>12</td>\n",
       "      <td>0.348977</td>\n",
       "    </tr>\n",
       "    <tr>\n",
       "      <th>9</th>\n",
       "      <td>9</td>\n",
       "      <td>0.346926</td>\n",
       "    </tr>\n",
       "    <tr>\n",
       "      <th>10</th>\n",
       "      <td>10</td>\n",
       "      <td>0.345639</td>\n",
       "    </tr>\n",
       "    <tr>\n",
       "      <th>11</th>\n",
       "      <td>11</td>\n",
       "      <td>0.345473</td>\n",
       "    </tr>\n",
       "    <tr>\n",
       "      <th>13</th>\n",
       "      <td>13</td>\n",
       "      <td>0.344016</td>\n",
       "    </tr>\n",
       "  </tbody>\n",
       "</table>\n",
       "</div>"
      ],
      "text/plain": [
       "    votes.useful  R2_score\n",
       "12            12  0.348977\n",
       "9              9  0.346926\n",
       "10            10  0.345639\n",
       "11            11  0.345473\n",
       "13            13  0.344016"
      ]
     },
     "execution_count": 23,
     "metadata": {},
     "output_type": "execute_result"
    }
   ],
   "source": [
    "# Use function to return top results\n",
    "\n",
    "votes_optimizer(other_reviews, votes=20, kind='votes.useful', sort=True).head()"
   ]
  },
  {
   "cell_type": "code",
   "execution_count": 24,
   "metadata": {
    "collapsed": false
   },
   "outputs": [
    {
     "name": "stdout",
     "output_type": "stream",
     "text": [
      "R2 scores:  [ 0.34695277  0.31144783  0.31536762  0.43022397  0.34089388]\n",
      "Mean R2:  0.348977216827\n"
     ]
    }
   ],
   "source": [
    "# Refit LinearRegression model using optimized parameters\n",
    "\n",
    "other_reviews_sub = other_reviews[other_reviews['votes.useful'] > 12]\n",
    "\n",
    "X = other_reviews_sub[[col for col in other_reviews_sub.columns if col not in excluded_cols]]\n",
    "y = other_reviews_sub['stars']\n",
    "\n",
    "linreg = LinearRegression()\n",
    "linreg.fit(X, y)\n",
    "lr_scores = cross_val_score(linreg, X, y, cv=5)\n",
    "\n",
    "print 'R2 scores: ', lr_scores\n",
    "print 'Mean R2: ', np.mean(lr_scores)"
   ]
  },
  {
   "cell_type": "code",
   "execution_count": 25,
   "metadata": {
    "collapsed": false
   },
   "outputs": [
    {
     "data": {
      "text/html": [
       "<div>\n",
       "<table border=\"1\" class=\"dataframe\">\n",
       "  <thead>\n",
       "    <tr style=\"text-align: right;\">\n",
       "      <th></th>\n",
       "      <th>abs_coef</th>\n",
       "      <th>coef</th>\n",
       "      <th>variable</th>\n",
       "    </tr>\n",
       "  </thead>\n",
       "  <tbody>\n",
       "    <tr>\n",
       "      <th>11</th>\n",
       "      <td>0.852632</td>\n",
       "      <td>0.852632</td>\n",
       "      <td>definitely recommend</td>\n",
       "    </tr>\n",
       "    <tr>\n",
       "      <th>44</th>\n",
       "      <td>0.637936</td>\n",
       "      <td>0.637936</td>\n",
       "      <td>highly recommend</td>\n",
       "    </tr>\n",
       "    <tr>\n",
       "      <th>27</th>\n",
       "      <td>0.613942</td>\n",
       "      <td>-0.613942</td>\n",
       "      <td>food just</td>\n",
       "    </tr>\n",
       "    <tr>\n",
       "      <th>4</th>\n",
       "      <td>0.553012</td>\n",
       "      <td>0.553012</td>\n",
       "      <td>beer selection</td>\n",
       "    </tr>\n",
       "    <tr>\n",
       "      <th>48</th>\n",
       "      <td>0.534159</td>\n",
       "      <td>-0.534159</td>\n",
       "      <td>just ok</td>\n",
       "    </tr>\n",
       "    <tr>\n",
       "      <th>12</th>\n",
       "      <td>0.503780</td>\n",
       "      <td>-0.503780</td>\n",
       "      <td>didn want</td>\n",
       "    </tr>\n",
       "    <tr>\n",
       "      <th>5</th>\n",
       "      <td>0.494140</td>\n",
       "      <td>0.494140</td>\n",
       "      <td>best ve</td>\n",
       "    </tr>\n",
       "    <tr>\n",
       "      <th>57</th>\n",
       "      <td>0.449349</td>\n",
       "      <td>0.449349</td>\n",
       "      <td>love place</td>\n",
       "    </tr>\n",
       "    <tr>\n",
       "      <th>80</th>\n",
       "      <td>0.448160</td>\n",
       "      <td>0.448160</td>\n",
       "      <td>super friendly</td>\n",
       "    </tr>\n",
       "    <tr>\n",
       "      <th>55</th>\n",
       "      <td>0.426264</td>\n",
       "      <td>-0.426264</td>\n",
       "      <td>looked like</td>\n",
       "    </tr>\n",
       "  </tbody>\n",
       "</table>\n",
       "</div>"
      ],
      "text/plain": [
       "    abs_coef      coef              variable\n",
       "11  0.852632  0.852632  definitely recommend\n",
       "44  0.637936  0.637936      highly recommend\n",
       "27  0.613942 -0.613942             food just\n",
       "4   0.553012  0.553012        beer selection\n",
       "48  0.534159 -0.534159               just ok\n",
       "12  0.503780 -0.503780             didn want\n",
       "5   0.494140  0.494140               best ve\n",
       "57  0.449349  0.449349            love place\n",
       "80  0.448160  0.448160        super friendly\n",
       "55  0.426264 -0.426264           looked like"
      ]
     },
     "execution_count": 25,
     "metadata": {},
     "output_type": "execute_result"
    }
   ],
   "source": [
    "# Evaluate coefficients and isolate variables that are most predictive \n",
    "\n",
    "coefs = pd.DataFrame({'coef':linreg.coef_, 'abs_coef':np.abs(linreg.coef_), 'variable':[col for col in X.columns]})\n",
    "coefs.sort_values(by='abs_coef', ascending=False).head(10)"
   ]
  },
  {
   "cell_type": "code",
   "execution_count": 26,
   "metadata": {
    "collapsed": true
   },
   "outputs": [],
   "source": [
    "# Both regressions (service / non-service related) have R2 scores ~0.35, but achieve it via different \n",
    "# predictor variables. The score was optimized in both cases using a subsetting mechanism, whereby reviews \n",
    "# that had not recieved many votes.useful by the community, were filtered out. \n",
    "#\n",
    "# At first glance, the coefficient values dont appear heavily concentrated. However, many of the \n",
    "# variables are related to one another (e.g. \"definitely recommend\" / \"highly recommend\", or \n",
    "# \"service excellent\" / \"good service\"). This implies that the most predictive word \n",
    "# pairs are those that reflect a strong positive statement about service or the restaurant in general. "
   ]
  },
  {
   "cell_type": "markdown",
   "metadata": {},
   "source": [
    "<img src=\"http://imgur.com/l5NasQj.png\" style=\"float: left; margin: 25px 15px 0px 0px; height: 25px\">\n",
    "\n",
    "## 3. Identifying \"elite\" users\n",
    "\n",
    "---\n",
    "\n",
    "Yelp, though having their own formula for determining whether a user is elite or not, is interested in delving deeper into what differentiates an elite user from a normal user at a broader level.\n",
    "\n",
    "Use a classification model to predict whether a user is elite or not. Note that users can be elite in some years and not in others.\n",
    "\n",
    "1. What things predict well whether a user is elite or not?\n",
    "- Validate the model.\n",
    "- If you were to remove the \"counts\" metrics for users (reviews, votes, compliments), what distinguishes an elite user, if anything? Validate the model and compare it to the one with the count variables.\n",
    "- Think of a way to visually represent your results in a compelling way.\n",
    "- Give a brief write-up of your findings.\n"
   ]
  },
  {
   "cell_type": "code",
   "execution_count": 41,
   "metadata": {
    "collapsed": false
   },
   "outputs": [
    {
     "data": {
      "text/html": [
       "<div>\n",
       "<table border=\"1\" class=\"dataframe\">\n",
       "  <thead>\n",
       "    <tr style=\"text-align: right;\">\n",
       "      <th></th>\n",
       "      <th>0</th>\n",
       "      <th>1</th>\n",
       "      <th>2</th>\n",
       "      <th>3</th>\n",
       "      <th>4</th>\n",
       "    </tr>\n",
       "  </thead>\n",
       "  <tbody>\n",
       "    <tr>\n",
       "      <th>yelping_since</th>\n",
       "      <td>2004-10</td>\n",
       "      <td>2004-10</td>\n",
       "      <td>2004-10</td>\n",
       "      <td>2004-10</td>\n",
       "      <td>2004-10</td>\n",
       "    </tr>\n",
       "    <tr>\n",
       "      <th>compliments.plain</th>\n",
       "      <td>959</td>\n",
       "      <td>89</td>\n",
       "      <td>2</td>\n",
       "      <td>5</td>\n",
       "      <td>104</td>\n",
       "    </tr>\n",
       "    <tr>\n",
       "      <th>review_count</th>\n",
       "      <td>1274</td>\n",
       "      <td>442</td>\n",
       "      <td>66</td>\n",
       "      <td>101</td>\n",
       "      <td>983</td>\n",
       "    </tr>\n",
       "    <tr>\n",
       "      <th>compliments.cute</th>\n",
       "      <td>206</td>\n",
       "      <td>23</td>\n",
       "      <td>2</td>\n",
       "      <td>1</td>\n",
       "      <td>82</td>\n",
       "    </tr>\n",
       "    <tr>\n",
       "      <th>compliments.writer</th>\n",
       "      <td>327</td>\n",
       "      <td>24</td>\n",
       "      <td>2</td>\n",
       "      <td>3</td>\n",
       "      <td>17</td>\n",
       "    </tr>\n",
       "    <tr>\n",
       "      <th>fans</th>\n",
       "      <td>1179</td>\n",
       "      <td>100</td>\n",
       "      <td>4</td>\n",
       "      <td>7</td>\n",
       "      <td>78</td>\n",
       "    </tr>\n",
       "    <tr>\n",
       "      <th>compliments.note</th>\n",
       "      <td>611</td>\n",
       "      <td>83</td>\n",
       "      <td>1</td>\n",
       "      <td>3</td>\n",
       "      <td>85</td>\n",
       "    </tr>\n",
       "    <tr>\n",
       "      <th>compliments.hot</th>\n",
       "      <td>1094</td>\n",
       "      <td>101</td>\n",
       "      <td>1</td>\n",
       "      <td>5</td>\n",
       "      <td>265</td>\n",
       "    </tr>\n",
       "    <tr>\n",
       "      <th>compliments.cool</th>\n",
       "      <td>1642</td>\n",
       "      <td>145</td>\n",
       "      <td>1</td>\n",
       "      <td>4</td>\n",
       "      <td>212</td>\n",
       "    </tr>\n",
       "    <tr>\n",
       "      <th>compliments.profile</th>\n",
       "      <td>116</td>\n",
       "      <td>9</td>\n",
       "      <td>NaN</td>\n",
       "      <td>1</td>\n",
       "      <td>9</td>\n",
       "    </tr>\n",
       "    <tr>\n",
       "      <th>average_stars</th>\n",
       "      <td>3.66</td>\n",
       "      <td>3.6</td>\n",
       "      <td>3.8</td>\n",
       "      <td>3.58</td>\n",
       "      <td>4.02</td>\n",
       "    </tr>\n",
       "    <tr>\n",
       "      <th>compliments.more</th>\n",
       "      <td>134</td>\n",
       "      <td>19</td>\n",
       "      <td>1</td>\n",
       "      <td>2</td>\n",
       "      <td>16</td>\n",
       "    </tr>\n",
       "    <tr>\n",
       "      <th>elite</th>\n",
       "      <td>[2005, 2006, 2007, 2008, 2009, 2010, 2011, 201...</td>\n",
       "      <td>[2005, 2006, 2007, 2008, 2009, 2010, 2011, 201...</td>\n",
       "      <td>[2005]</td>\n",
       "      <td>[]</td>\n",
       "      <td>[2005, 2006, 2007, 2008, 2010, 2011, 2012]</td>\n",
       "    </tr>\n",
       "    <tr>\n",
       "      <th>name</th>\n",
       "      <td>Jeremy</td>\n",
       "      <td>Michael</td>\n",
       "      <td>Katherine</td>\n",
       "      <td>Nader</td>\n",
       "      <td>Helen</td>\n",
       "    </tr>\n",
       "    <tr>\n",
       "      <th>user_id</th>\n",
       "      <td>rpOyqD_893cqmDAtJLbdog</td>\n",
       "      <td>4U9kSBLuBDU391x6bxU-YA</td>\n",
       "      <td>SIBCL7HBkrP4llolm4SC2A</td>\n",
       "      <td>UTS9XcT14H2ZscRIf0MYHQ</td>\n",
       "      <td>ZWOj6LmzwGvMDh-A85EOtA</td>\n",
       "    </tr>\n",
       "    <tr>\n",
       "      <th>votes.cool</th>\n",
       "      <td>11093</td>\n",
       "      <td>732</td>\n",
       "      <td>13</td>\n",
       "      <td>49</td>\n",
       "      <td>1928</td>\n",
       "    </tr>\n",
       "    <tr>\n",
       "      <th>compliments.list</th>\n",
       "      <td>38</td>\n",
       "      <td>4</td>\n",
       "      <td>NaN</td>\n",
       "      <td>NaN</td>\n",
       "      <td>3</td>\n",
       "    </tr>\n",
       "    <tr>\n",
       "      <th>votes.funny</th>\n",
       "      <td>7681</td>\n",
       "      <td>908</td>\n",
       "      <td>11</td>\n",
       "      <td>53</td>\n",
       "      <td>1109</td>\n",
       "    </tr>\n",
       "    <tr>\n",
       "      <th>compliments.photos</th>\n",
       "      <td>330</td>\n",
       "      <td>24</td>\n",
       "      <td>NaN</td>\n",
       "      <td>1</td>\n",
       "      <td>57</td>\n",
       "    </tr>\n",
       "    <tr>\n",
       "      <th>compliments.funny</th>\n",
       "      <td>580</td>\n",
       "      <td>120</td>\n",
       "      <td>NaN</td>\n",
       "      <td>8</td>\n",
       "      <td>70</td>\n",
       "    </tr>\n",
       "    <tr>\n",
       "      <th>votes.useful</th>\n",
       "      <td>14199</td>\n",
       "      <td>1483</td>\n",
       "      <td>34</td>\n",
       "      <td>243</td>\n",
       "      <td>2404</td>\n",
       "    </tr>\n",
       "  </tbody>\n",
       "</table>\n",
       "</div>"
      ],
      "text/plain": [
       "                                                                     0  \\\n",
       "yelping_since                                                  2004-10   \n",
       "compliments.plain                                                  959   \n",
       "review_count                                                      1274   \n",
       "compliments.cute                                                   206   \n",
       "compliments.writer                                                 327   \n",
       "fans                                                              1179   \n",
       "compliments.note                                                   611   \n",
       "compliments.hot                                                   1094   \n",
       "compliments.cool                                                  1642   \n",
       "compliments.profile                                                116   \n",
       "average_stars                                                     3.66   \n",
       "compliments.more                                                   134   \n",
       "elite                [2005, 2006, 2007, 2008, 2009, 2010, 2011, 201...   \n",
       "name                                                            Jeremy   \n",
       "user_id                                         rpOyqD_893cqmDAtJLbdog   \n",
       "votes.cool                                                       11093   \n",
       "compliments.list                                                    38   \n",
       "votes.funny                                                       7681   \n",
       "compliments.photos                                                 330   \n",
       "compliments.funny                                                  580   \n",
       "votes.useful                                                     14199   \n",
       "\n",
       "                                                                     1  \\\n",
       "yelping_since                                                  2004-10   \n",
       "compliments.plain                                                   89   \n",
       "review_count                                                       442   \n",
       "compliments.cute                                                    23   \n",
       "compliments.writer                                                  24   \n",
       "fans                                                               100   \n",
       "compliments.note                                                    83   \n",
       "compliments.hot                                                    101   \n",
       "compliments.cool                                                   145   \n",
       "compliments.profile                                                  9   \n",
       "average_stars                                                      3.6   \n",
       "compliments.more                                                    19   \n",
       "elite                [2005, 2006, 2007, 2008, 2009, 2010, 2011, 201...   \n",
       "name                                                           Michael   \n",
       "user_id                                         4U9kSBLuBDU391x6bxU-YA   \n",
       "votes.cool                                                         732   \n",
       "compliments.list                                                     4   \n",
       "votes.funny                                                        908   \n",
       "compliments.photos                                                  24   \n",
       "compliments.funny                                                  120   \n",
       "votes.useful                                                      1483   \n",
       "\n",
       "                                          2                       3  \\\n",
       "yelping_since                       2004-10                 2004-10   \n",
       "compliments.plain                         2                       5   \n",
       "review_count                             66                     101   \n",
       "compliments.cute                          2                       1   \n",
       "compliments.writer                        2                       3   \n",
       "fans                                      4                       7   \n",
       "compliments.note                          1                       3   \n",
       "compliments.hot                           1                       5   \n",
       "compliments.cool                          1                       4   \n",
       "compliments.profile                     NaN                       1   \n",
       "average_stars                           3.8                    3.58   \n",
       "compliments.more                          1                       2   \n",
       "elite                                [2005]                      []   \n",
       "name                              Katherine                   Nader   \n",
       "user_id              SIBCL7HBkrP4llolm4SC2A  UTS9XcT14H2ZscRIf0MYHQ   \n",
       "votes.cool                               13                      49   \n",
       "compliments.list                        NaN                     NaN   \n",
       "votes.funny                              11                      53   \n",
       "compliments.photos                      NaN                       1   \n",
       "compliments.funny                       NaN                       8   \n",
       "votes.useful                             34                     243   \n",
       "\n",
       "                                                              4  \n",
       "yelping_since                                           2004-10  \n",
       "compliments.plain                                           104  \n",
       "review_count                                                983  \n",
       "compliments.cute                                             82  \n",
       "compliments.writer                                           17  \n",
       "fans                                                         78  \n",
       "compliments.note                                             85  \n",
       "compliments.hot                                             265  \n",
       "compliments.cool                                            212  \n",
       "compliments.profile                                           9  \n",
       "average_stars                                              4.02  \n",
       "compliments.more                                             16  \n",
       "elite                [2005, 2006, 2007, 2008, 2010, 2011, 2012]  \n",
       "name                                                      Helen  \n",
       "user_id                                  ZWOj6LmzwGvMDh-A85EOtA  \n",
       "votes.cool                                                 1928  \n",
       "compliments.list                                              3  \n",
       "votes.funny                                                1109  \n",
       "compliments.photos                                           57  \n",
       "compliments.funny                                            70  \n",
       "votes.useful                                               2404  "
      ]
     },
     "execution_count": 41,
     "metadata": {},
     "output_type": "execute_result"
    }
   ],
   "source": [
    "users.head().T"
   ]
  },
  {
   "cell_type": "code",
   "execution_count": 28,
   "metadata": {
    "collapsed": true
   },
   "outputs": [],
   "source": [
    "# Clean users table. Convert 'lists' to lists, then designate users as 'elite' if they have been elite \n",
    "# for at least one year. Increasing this threshold will improve the R2. \n",
    "\n",
    "from ast import literal_eval\n",
    "\n",
    "users_clean = users.copy()\n",
    "\n",
    "users_clean['elite'] = users_clean['elite'].map(lambda x: literal_eval(x))\n",
    "users_clean['is_elite'] = users_clean['elite'].map(lambda x: 1 if len(x) > 0 else 0)"
   ]
  },
  {
   "cell_type": "code",
   "execution_count": 29,
   "metadata": {
    "collapsed": false
   },
   "outputs": [
    {
     "name": "stdout",
     "output_type": "stream",
     "text": [
      "<class 'pandas.core.frame.DataFrame'>\n",
      "RangeIndex: 144206 entries, 0 to 144205\n",
      "Data columns (total 5 columns):\n",
      "review_count     144206 non-null int64\n",
      "fans             144206 non-null int64\n",
      "average_stars    144206 non-null float64\n",
      "votes.funny      144206 non-null int64\n",
      "votes.useful     144206 non-null int64\n",
      "dtypes: float64(1), int64(4)\n",
      "memory usage: 5.5 MB\n"
     ]
    }
   ],
   "source": [
    "# To simplify analysis, I will only focus on variables that have complete data. Therefore, I am exluding \n",
    "# the 'compliments' related columns. These variables are not expected to have large predictive power but \n",
    "# can be revisited if need be. \n",
    "#\n",
    "# Define X and y, and verify that there are no missing values in the predictors. \n",
    "\n",
    "excluded_cols = [col for col in users_clean.columns if 'compliments' in col] \n",
    "excluded_cols = excluded_cols + ['yelping_since', 'elite', 'votes.cool', 'user_id', 'name', 'is_elite'] \n",
    "predictors = [col for col in users_clean.columns if col not in excluded_cols]\n",
    "\n",
    "y = users_clean['is_elite']\n",
    "X = users_clean[predictors]\n",
    "X.info()"
   ]
  },
  {
   "cell_type": "code",
   "execution_count": 30,
   "metadata": {
    "collapsed": false
   },
   "outputs": [
    {
     "data": {
      "text/html": [
       "<div>\n",
       "<table border=\"1\" class=\"dataframe\">\n",
       "  <thead>\n",
       "    <tr style=\"text-align: right;\">\n",
       "      <th></th>\n",
       "      <th>review_count</th>\n",
       "      <th>fans</th>\n",
       "      <th>average_stars</th>\n",
       "      <th>votes.funny</th>\n",
       "      <th>votes.useful</th>\n",
       "    </tr>\n",
       "  </thead>\n",
       "  <tbody>\n",
       "    <tr>\n",
       "      <th>review_count</th>\n",
       "      <td>1.000000</td>\n",
       "      <td>0.599495</td>\n",
       "      <td>-0.005049</td>\n",
       "      <td>0.541561</td>\n",
       "      <td>0.670673</td>\n",
       "    </tr>\n",
       "    <tr>\n",
       "      <th>fans</th>\n",
       "      <td>0.599495</td>\n",
       "      <td>1.000000</td>\n",
       "      <td>0.009711</td>\n",
       "      <td>0.763179</td>\n",
       "      <td>0.821060</td>\n",
       "    </tr>\n",
       "    <tr>\n",
       "      <th>average_stars</th>\n",
       "      <td>-0.005049</td>\n",
       "      <td>0.009711</td>\n",
       "      <td>1.000000</td>\n",
       "      <td>0.001297</td>\n",
       "      <td>0.000787</td>\n",
       "    </tr>\n",
       "    <tr>\n",
       "      <th>votes.funny</th>\n",
       "      <td>0.541561</td>\n",
       "      <td>0.763179</td>\n",
       "      <td>0.001297</td>\n",
       "      <td>1.000000</td>\n",
       "      <td>0.955130</td>\n",
       "    </tr>\n",
       "    <tr>\n",
       "      <th>votes.useful</th>\n",
       "      <td>0.670673</td>\n",
       "      <td>0.821060</td>\n",
       "      <td>0.000787</td>\n",
       "      <td>0.955130</td>\n",
       "      <td>1.000000</td>\n",
       "    </tr>\n",
       "  </tbody>\n",
       "</table>\n",
       "</div>"
      ],
      "text/plain": [
       "               review_count      fans  average_stars  votes.funny  \\\n",
       "review_count       1.000000  0.599495      -0.005049     0.541561   \n",
       "fans               0.599495  1.000000       0.009711     0.763179   \n",
       "average_stars     -0.005049  0.009711       1.000000     0.001297   \n",
       "votes.funny        0.541561  0.763179       0.001297     1.000000   \n",
       "votes.useful       0.670673  0.821060       0.000787     0.955130   \n",
       "\n",
       "               votes.useful  \n",
       "review_count       0.670673  \n",
       "fans               0.821060  \n",
       "average_stars      0.000787  \n",
       "votes.funny        0.955130  \n",
       "votes.useful       1.000000  "
      ]
     },
     "execution_count": 30,
     "metadata": {},
     "output_type": "execute_result"
    }
   ],
   "source": [
    "# Evaluate colinearity among predictors\n",
    "\n",
    "X.corr()"
   ]
  },
  {
   "cell_type": "code",
   "execution_count": 31,
   "metadata": {
    "collapsed": true
   },
   "outputs": [],
   "source": [
    "# Question 1 / 2\n",
    "#\n",
    "# Initialize and fit LogisticRegression model\n",
    "\n",
    "ss = StandardScaler()\n",
    "Xn = ss.fit_transform(X)\n",
    "\n",
    "lr = LogisticRegression()\n",
    "lr.fit(Xn, y)\n",
    "\n",
    "lr_scores = cross_val_score(lr, Xn, y, cv=5)"
   ]
  },
  {
   "cell_type": "code",
   "execution_count": 32,
   "metadata": {
    "collapsed": false
   },
   "outputs": [
    {
     "name": "stdout",
     "output_type": "stream",
     "text": [
      "R2 scores: [ 0.9449414   0.94525345  0.94393593  0.9435853   0.94153953]\n",
      "Mean R2: 0.943851121626\n",
      "Baseline Model: 0.115272596147\n"
     ]
    }
   ],
   "source": [
    "# Evaluate CV results of LogisticRegression model and compare to baseline\n",
    "\n",
    "print 'R2 scores:', lr_scores\n",
    "print 'Mean R2:', np.mean(lr_scores)\n",
    "print 'Baseline Model:', np.mean(y)"
   ]
  },
  {
   "cell_type": "code",
   "execution_count": 33,
   "metadata": {
    "collapsed": false
   },
   "outputs": [
    {
     "data": {
      "text/html": [
       "<div>\n",
       "<table border=\"1\" class=\"dataframe\">\n",
       "  <thead>\n",
       "    <tr style=\"text-align: right;\">\n",
       "      <th></th>\n",
       "      <th>abs_coef</th>\n",
       "      <th>coef</th>\n",
       "      <th>variable</th>\n",
       "    </tr>\n",
       "  </thead>\n",
       "  <tbody>\n",
       "    <tr>\n",
       "      <th>4</th>\n",
       "      <td>4.297548</td>\n",
       "      <td>4.297548</td>\n",
       "      <td>votes.useful</td>\n",
       "    </tr>\n",
       "    <tr>\n",
       "      <th>3</th>\n",
       "      <td>2.880966</td>\n",
       "      <td>-2.880966</td>\n",
       "      <td>votes.funny</td>\n",
       "    </tr>\n",
       "    <tr>\n",
       "      <th>1</th>\n",
       "      <td>1.939288</td>\n",
       "      <td>1.939288</td>\n",
       "      <td>fans</td>\n",
       "    </tr>\n",
       "    <tr>\n",
       "      <th>0</th>\n",
       "      <td>1.857791</td>\n",
       "      <td>1.857791</td>\n",
       "      <td>review_count</td>\n",
       "    </tr>\n",
       "    <tr>\n",
       "      <th>2</th>\n",
       "      <td>0.208253</td>\n",
       "      <td>0.208253</td>\n",
       "      <td>average_stars</td>\n",
       "    </tr>\n",
       "  </tbody>\n",
       "</table>\n",
       "</div>"
      ],
      "text/plain": [
       "   abs_coef      coef       variable\n",
       "4  4.297548  4.297548   votes.useful\n",
       "3  2.880966 -2.880966    votes.funny\n",
       "1  1.939288  1.939288           fans\n",
       "0  1.857791  1.857791   review_count\n",
       "2  0.208253  0.208253  average_stars"
      ]
     },
     "execution_count": 33,
     "metadata": {},
     "output_type": "execute_result"
    }
   ],
   "source": [
    "# Evaluate coefficients and isolate variables that are most predictive \n",
    "#\n",
    "# Results indicate that votes.useful are the biggest driver in whether a user is 'elite' or not. Number of fans \n",
    "# and reviews posted are also contributing variables. The negative sign associated with votes.funny likely has to\n",
    "# do with colinearity among the predictors. \n",
    "\n",
    "coefs = pd.DataFrame({'coef':lr.coef_[0], 'abs_coef':np.abs(lr.coef_[0]), 'variable':[col for col in X.columns]})\n",
    "coefs.sort_values(by='abs_coef', ascending=False)"
   ]
  },
  {
   "cell_type": "code",
   "execution_count": 34,
   "metadata": {
    "collapsed": false
   },
   "outputs": [
    {
     "name": "stdout",
     "output_type": "stream",
     "text": [
      "Fitting 5 folds for each of 100 candidates, totalling 500 fits\n"
     ]
    },
    {
     "name": "stderr",
     "output_type": "stream",
     "text": [
      "[Parallel(n_jobs=1)]: Done  49 tasks       | elapsed:   19.9s\n",
      "[Parallel(n_jobs=1)]: Done 199 tasks       | elapsed:  1.4min\n",
      "[Parallel(n_jobs=1)]: Done 449 tasks       | elapsed:  3.1min\n",
      "[Parallel(n_jobs=1)]: Done 500 out of 500 | elapsed:  3.4min finished\n"
     ]
    },
    {
     "name": "stdout",
     "output_type": "stream",
     "text": [
      "{'penalty': 'l2', 'C': 102.04090612244897, 'solver': 'liblinear'}\n"
     ]
    }
   ],
   "source": [
    "# Rerun the same model, but utilize GridSearch\n",
    "#\n",
    "# Initialize and fit GridSearch LogisticRegression model\n",
    "\n",
    "lr_params = {\n",
    "    'penalty':['l1','l2'],\n",
    "    'solver':['liblinear'],\n",
    "    'C':np.linspace(0.0001, 1000, 50)\n",
    "}\n",
    "\n",
    "lr_gs = GridSearchCV(LogisticRegression(), lr_params, cv=5, verbose=1)\n",
    "lr_gs.fit(Xn, y)\n",
    "\n",
    "print lr_gs.best_params_\n",
    "best_lr = lr_gs.best_estimator_\n",
    "\n",
    "lr_gs_scores = cross_val_score(best_lr, Xn, y, cv=5)"
   ]
  },
  {
   "cell_type": "code",
   "execution_count": 35,
   "metadata": {
    "collapsed": false
   },
   "outputs": [
    {
     "name": "stdout",
     "output_type": "stream",
     "text": [
      "R2 scores: [ 0.94497608  0.94535746  0.94386658  0.94351595  0.94174757]\n",
      "Mean R2: 0.943892729541\n",
      "Baseline Model: 0.115272596147\n"
     ]
    }
   ],
   "source": [
    "# Evaluate CV results of LogisticRegression model and compare to baseline\n",
    "#\n",
    "# Surprised there is such a small difference between the GridSearch results\n",
    "# ...?\n",
    "\n",
    "print 'R2 scores:', lr_gs_scores\n",
    "print 'Mean R2:', np.mean(lr_gs_scores)\n",
    "print 'Baseline Model:', np.mean(y)"
   ]
  },
  {
   "cell_type": "code",
   "execution_count": 36,
   "metadata": {
    "collapsed": false
   },
   "outputs": [
    {
     "data": {
      "text/html": [
       "<div>\n",
       "<table border=\"1\" class=\"dataframe\">\n",
       "  <thead>\n",
       "    <tr style=\"text-align: right;\">\n",
       "      <th></th>\n",
       "      <th>abs_coef</th>\n",
       "      <th>coef</th>\n",
       "      <th>variable</th>\n",
       "    </tr>\n",
       "  </thead>\n",
       "  <tbody>\n",
       "    <tr>\n",
       "      <th>4</th>\n",
       "      <td>4.416432</td>\n",
       "      <td>4.416432</td>\n",
       "      <td>votes.useful</td>\n",
       "    </tr>\n",
       "    <tr>\n",
       "      <th>3</th>\n",
       "      <td>2.982911</td>\n",
       "      <td>-2.982911</td>\n",
       "      <td>votes.funny</td>\n",
       "    </tr>\n",
       "    <tr>\n",
       "      <th>1</th>\n",
       "      <td>1.941609</td>\n",
       "      <td>1.941609</td>\n",
       "      <td>fans</td>\n",
       "    </tr>\n",
       "    <tr>\n",
       "      <th>0</th>\n",
       "      <td>1.844000</td>\n",
       "      <td>1.844000</td>\n",
       "      <td>review_count</td>\n",
       "    </tr>\n",
       "    <tr>\n",
       "      <th>2</th>\n",
       "      <td>0.208785</td>\n",
       "      <td>0.208785</td>\n",
       "      <td>average_stars</td>\n",
       "    </tr>\n",
       "  </tbody>\n",
       "</table>\n",
       "</div>"
      ],
      "text/plain": [
       "   abs_coef      coef       variable\n",
       "4  4.416432  4.416432   votes.useful\n",
       "3  2.982911 -2.982911    votes.funny\n",
       "1  1.941609  1.941609           fans\n",
       "0  1.844000  1.844000   review_count\n",
       "2  0.208785  0.208785  average_stars"
      ]
     },
     "execution_count": 36,
     "metadata": {},
     "output_type": "execute_result"
    }
   ],
   "source": [
    "# Evaluate coefficients and isolate variables that are most predictive \n",
    "\n",
    "coefs = pd.DataFrame({'coef':best_lr.coef_[0], 'abs_coef':np.abs(best_lr.coef_[0]), 'variable':[col for col in X.columns]})\n",
    "coefs.sort_values(by='abs_coef', ascending=False)"
   ]
  },
  {
   "cell_type": "code",
   "execution_count": 37,
   "metadata": {
    "collapsed": true
   },
   "outputs": [],
   "source": [
    "# Question 3 \n",
    "#\n",
    "# Filter out counts related metrics (just to see which columns are left)\n",
    "\n",
    "counts_out = [col for col in users_clean.columns if 'review' not in col]\n",
    "counts_out = [col for col in counts_out if 'votes' not in col]\n",
    "counts_out = [col for col in counts_out if 'compliments' not in col] \n",
    "\n",
    "# Add column that converts 'yelping since' to number of years yelping\n",
    "\n",
    "users_clean['years_yelping'] = users_clean['yelping_since'].map(lambda x: 2016 - int(x[:4]))"
   ]
  },
  {
   "cell_type": "code",
   "execution_count": 38,
   "metadata": {
    "collapsed": true
   },
   "outputs": [],
   "source": [
    "# Initialize and fit LogisticRegression model\n",
    "\n",
    "X = users_clean[['fans', 'years_yelping', 'average_stars']]\n",
    "y = users_clean['is_elite']\n",
    "\n",
    "ss = StandardScaler()\n",
    "Xn = ss.fit_transform(X)\n",
    "\n",
    "lr = LogisticRegression()\n",
    "lr.fit(Xn, y)\n",
    "\n",
    "lr_scores = cross_val_score(lr, Xn, y, cv=5)"
   ]
  },
  {
   "cell_type": "code",
   "execution_count": 39,
   "metadata": {
    "collapsed": false
   },
   "outputs": [
    {
     "name": "stdout",
     "output_type": "stream",
     "text": [
      "R2 scores: [ 0.93994869  0.93752167  0.93616948  0.93457004  0.93231623]\n",
      "Mean R2: 0.936105219975\n",
      "Baseline Model: 0.115272596147\n"
     ]
    }
   ],
   "source": [
    "print 'R2 scores:', lr_scores\n",
    "print 'Mean R2:', np.mean(lr_scores)\n",
    "print 'Baseline Model:', np.mean(y)"
   ]
  },
  {
   "cell_type": "code",
   "execution_count": 40,
   "metadata": {
    "collapsed": false
   },
   "outputs": [
    {
     "data": {
      "text/html": [
       "<div>\n",
       "<table border=\"1\" class=\"dataframe\">\n",
       "  <thead>\n",
       "    <tr style=\"text-align: right;\">\n",
       "      <th></th>\n",
       "      <th>abs_coef</th>\n",
       "      <th>coef</th>\n",
       "      <th>variable</th>\n",
       "    </tr>\n",
       "  </thead>\n",
       "  <tbody>\n",
       "    <tr>\n",
       "      <th>0</th>\n",
       "      <td>6.168995</td>\n",
       "      <td>6.168995</td>\n",
       "      <td>fans</td>\n",
       "    </tr>\n",
       "    <tr>\n",
       "      <th>1</th>\n",
       "      <td>0.529743</td>\n",
       "      <td>0.529743</td>\n",
       "      <td>years_yelping</td>\n",
       "    </tr>\n",
       "    <tr>\n",
       "      <th>2</th>\n",
       "      <td>0.063913</td>\n",
       "      <td>0.063913</td>\n",
       "      <td>average_stars</td>\n",
       "    </tr>\n",
       "  </tbody>\n",
       "</table>\n",
       "</div>"
      ],
      "text/plain": [
       "   abs_coef      coef       variable\n",
       "0  6.168995  6.168995           fans\n",
       "1  0.529743  0.529743  years_yelping\n",
       "2  0.063913  0.063913  average_stars"
      ]
     },
     "execution_count": 40,
     "metadata": {},
     "output_type": "execute_result"
    }
   ],
   "source": [
    "# Much better than I expected, apparantly fans is quite the predictor\n",
    "\n",
    "coefs = pd.DataFrame({'coef': lr.coef_[0], 'abs_coef': np.abs(lr.coef_[0]), 'variable':[col for col in X.columns]})\n",
    "coefs.sort_values(by='abs_coef', ascending=False)"
   ]
  },
  {
   "cell_type": "markdown",
   "metadata": {},
   "source": [
    "<img src=\"http://imgur.com/GCAf1UX.png\" style=\"float: left; margin: 25px 15px 0px 0px; height: 25px\">\n",
    "\n",
    "## 4. Find something interesting on your own\n",
    "\n",
    "---\n",
    "\n",
    "You want to impress your superiors at Yelp by doing some investigation into the data on your own. You want to do classification, but you're not sure on what.\n",
    "\n",
    "1. Create a hypothesis or hypotheses about the data based on whatever you are interested in, as long as it is predicting a category of some kind (classification).\n",
    "2. Explore the data visually (ideally related to this hypothesis).\n",
    "3. Build one or more classification models to predict your target variable. **Your modeling should include gridsearching to find optimal model parameters.**\n",
    "4. Evaluate the performance of your model. Explain why your model may have chosen those specific parameters during the gridsearch process.\n",
    "5. Write up what the model tells you. Does it validate or invalidate your hypothesis? Write this up as if for a non-technical audience."
   ]
  },
  {
   "cell_type": "code",
   "execution_count": null,
   "metadata": {
    "collapsed": true
   },
   "outputs": [],
   "source": []
  },
  {
   "cell_type": "markdown",
   "metadata": {},
   "source": [
    "<img src=\"http://imgur.com/GCAf1UX.png\" style=\"float: left; margin: 25px 15px 0px 0px; height: 25px\">\n",
    "\n",
    "## 5. ROC and Precision-recall\n",
    "\n",
    "---\n",
    "\n",
    "Some categories have fewer overall businesses than others. Choose two categories of businesses to predict, one that makes your proportion of target classes as even as possible, and another that has very few businesses and thus makes the target varible imbalanced.\n",
    "\n",
    "1. Create two classification models predicting these categories. Optimize the models and choose variables as you see fit.\n",
    "- Make confusion matrices for your models. Describe the confusion matrices and explain what they tell you about your models' performance.\n",
    "- Make ROC curves for both models. What do the ROC curves describe and what do they tell you about your model?\n",
    "- Make Precision-Recall curves for the models. What do they describe? How do they compare to the ROC curves?\n",
    "- Explain when Precision-Recall may be preferable to ROC. Is that the case in either of your models?"
   ]
  },
  {
   "cell_type": "code",
   "execution_count": null,
   "metadata": {
    "collapsed": true
   },
   "outputs": [],
   "source": []
  }
 ],
 "metadata": {
  "anaconda-cloud": {},
  "kernelspec": {
   "display_name": "Python [dsi]",
   "language": "python",
   "name": "Python [dsi]"
  },
  "language_info": {
   "codemirror_mode": {
    "name": "ipython",
    "version": 2
   },
   "file_extension": ".py",
   "mimetype": "text/x-python",
   "name": "python",
   "nbconvert_exporter": "python",
   "pygments_lexer": "ipython2",
   "version": "2.7.12"
  }
 },
 "nbformat": 4,
 "nbformat_minor": 0
}
