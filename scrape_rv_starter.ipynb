{
 "cells": [
  {
   "cell_type": "markdown",
   "metadata": {},
   "source": [
    "<img src=\"http://imgur.com/1ZcRyrc.png\" style=\"float: left; margin: 15px; height: 80px\">\n",
    "\n",
    "# Project 6:  Web Scraping\n",
    "### Finding Underpriced RVs on Craigslist\n",
    "\n",
    "![](https://snag.gy/WrdUMx.jpg)"
   ]
  },
  {
   "cell_type": "markdown",
   "metadata": {},
   "source": [
    "In this project we will be practicing our web scraping skills.  You can use Scrapy or Python requests in order to complete this project.  It may be helpful to write some prototype code in this notebook to test your assumptions, then move it into a Python file that can be run from the command line.\n",
    "\n",
    "> In order to run code from the command line, instead of the notebook, you just need to save your code to a file (with a .py extension), and run it using the Python interpreter:<br><br>\n",
    "> `python my_file.py`\n",
    "\n",
    "You will be building a process to scrape a single category of search results on Craigslist, that can easily be applied to other categories by changing the search terms.  The main goal is to be able to target and scrape a single page given a set of parameters.\n",
    "\n",
    "**If you use Scrapy, provide your code in a folder.**"
   ]
  },
  {
   "cell_type": "markdown",
   "metadata": {},
   "source": [
    "## Import your libraries for scrapy / requests / pandas / numpy / etc\n",
    "Setup whichever libraries you need. Review past material for reference."
   ]
  },
  {
   "cell_type": "code",
   "execution_count": 1,
   "metadata": {
    "collapsed": true
   },
   "outputs": [],
   "source": [
    "# PREPARE REQUIRED LIBRARIES"
   ]
  },
  {
   "cell_type": "code",
   "execution_count": 2,
   "metadata": {
    "collapsed": true
   },
   "outputs": [],
   "source": [
    "import numpy as np\n",
    "import pandas as pd\n",
    "\n",
    "import matplotlib.pyplot as plt\n",
    "import seaborn as sns\n",
    "%matplotlib inline\n",
    "\n",
    "import requests\n",
    "from scrapy.selector import Selector\n",
    "from scrapy.http import HtmlResponse"
   ]
  },
  {
   "cell_type": "markdown",
   "metadata": {},
   "source": [
    "<img src=\"http://imgur.com/l5NasQj.png\" style=\"float: left; margin: 25px 15px 0px 0px; height: 25px\">\n",
    "\n",
    "## 1.  Scrape for the largest US cities (non-exhaustive list)\n",
    "Search, research, and scrape Wikipedia for a list of the largest US cities.  There are a few sources but find one that is in a nice table.  We don't want all cities, just signifficant cities.  Examine your source.  Look for what can be differentiable.\n",
    "\n",
    "- Use requests\n",
    "- Build XPath query(ies)\n",
    "- Extract to a list\n",
    "- Clean your list"
   ]
  },
  {
   "cell_type": "code",
   "execution_count": 3,
   "metadata": {
    "collapsed": false
   },
   "outputs": [],
   "source": [
    "# SCRAPE WIKIPEDIA FOR LARGEST US CITIES (NON-EXHAUSTIVE LIST)"
   ]
  },
  {
   "cell_type": "code",
   "execution_count": 4,
   "metadata": {
    "collapsed": true
   },
   "outputs": [],
   "source": [
    "# Use 'requests' from python to retrieve wikipedia HTML\n",
    "\n",
    "response = requests.get('https://simple.wikipedia.org/wiki/List_of_United_States_cities_by_population')\n",
    "HTML = response.text"
   ]
  },
  {
   "cell_type": "code",
   "execution_count": 5,
   "metadata": {
    "collapsed": false
   },
   "outputs": [],
   "source": [
    "# Use xpath to extract city/state data, then separate into lists\n",
    "\n",
    "wiki_data = Selector(text=HTML).xpath('//td/a/text()').extract()\n",
    "\n",
    "wiki_cities = []\n",
    "wiki_states = []\n",
    "\n",
    "for i in range(len(wiki_data)):\n",
    "    if i % 2 == 0:\n",
    "        wiki_cities.append(wiki_data[i])\n",
    "    else:\n",
    "        wiki_states.append(wiki_data[i])"
   ]
  },
  {
   "cell_type": "code",
   "execution_count": 6,
   "metadata": {
    "collapsed": false
   },
   "outputs": [
    {
     "data": {
      "text/html": [
       "<div>\n",
       "<table border=\"1\" class=\"dataframe\">\n",
       "  <thead>\n",
       "    <tr style=\"text-align: right;\">\n",
       "      <th></th>\n",
       "      <th>City</th>\n",
       "      <th>State</th>\n",
       "    </tr>\n",
       "  </thead>\n",
       "  <tbody>\n",
       "    <tr>\n",
       "      <th>0</th>\n",
       "      <td>New York</td>\n",
       "      <td>New York</td>\n",
       "    </tr>\n",
       "    <tr>\n",
       "      <th>1</th>\n",
       "      <td>Los Angeles</td>\n",
       "      <td>California</td>\n",
       "    </tr>\n",
       "    <tr>\n",
       "      <th>2</th>\n",
       "      <td>Chicago</td>\n",
       "      <td>Illinois</td>\n",
       "    </tr>\n",
       "    <tr>\n",
       "      <th>3</th>\n",
       "      <td>Houston</td>\n",
       "      <td>Texas</td>\n",
       "    </tr>\n",
       "    <tr>\n",
       "      <th>4</th>\n",
       "      <td>Philadelphia</td>\n",
       "      <td>Pennsylvania</td>\n",
       "    </tr>\n",
       "  </tbody>\n",
       "</table>\n",
       "</div>"
      ],
      "text/plain": [
       "           City         State\n",
       "0      New York      New York\n",
       "1   Los Angeles    California\n",
       "2       Chicago      Illinois\n",
       "3       Houston         Texas\n",
       "4  Philadelphia  Pennsylvania"
      ]
     },
     "execution_count": 6,
     "metadata": {},
     "output_type": "execute_result"
    }
   ],
   "source": [
    "# Create df based on list data (top 25)\n",
    "\n",
    "wiki_df = pd.DataFrame({\n",
    "    'City': wiki_cities[:25],\n",
    "    'State': wiki_states[:25]\n",
    "})\n",
    "\n",
    "wiki_df.head()"
   ]
  },
  {
   "cell_type": "code",
   "execution_count": 7,
   "metadata": {
    "collapsed": false
   },
   "outputs": [],
   "source": [
    "# Remove apostrophes, if any \n",
    "\n",
    "wiki_df = wiki_df.replace(\"'\",\"\")"
   ]
  },
  {
   "cell_type": "markdown",
   "metadata": {},
   "source": [
    "<img src=\"http://imgur.com/xDpSobf.png\" style=\"float: left; margin: 25px 15px 0px 0px; height: 25px\">\n",
    "\n",
    "## 1.2 Only retain cities with properly formed ASCII\n",
    "\n",
    "Optionally, filter out any cities with impropper ASCII characters.  A smaller list will be easier to look at.  However you may not need to filter these if you spend more time scraping a more concise city list.  This list should help you narrow down the list of regional Craigslist sites."
   ]
  },
  {
   "cell_type": "code",
   "execution_count": 8,
   "metadata": {
    "collapsed": true
   },
   "outputs": [],
   "source": [
    "# ONLY RETAIN PROPERLY FORMED CITIES WITH FILTERING FUNCTION"
   ]
  },
  {
   "cell_type": "markdown",
   "metadata": {},
   "source": [
    "<img src=\"http://imgur.com/l5NasQj.png\" style=\"float: left; margin: 25px 15px 0px 0px; height: 25px\">\n",
    "\n",
    "## 2.  Write a function to capture current pricing information via Craigslist in one city.\n",
    "Choose a city from your scraped data, then go to the cooresponding city section on Craigslist, searching for \"rv\" in the auto section.  Write a method that pulls out the prices."
   ]
  },
  {
   "cell_type": "code",
   "execution_count": 9,
   "metadata": {
    "collapsed": false
   },
   "outputs": [],
   "source": [
    "def extract_prices(link):\n",
    "    response = requests.get(link)\n",
    "    HTML = response.text\n",
    "    \n",
    "    # Extract prices from HTML\n",
    "    rv_prices = Selector(text=HTML).xpath(\"//span/span/span[@class='price']/text()\").extract() \n",
    "    \n",
    "    # Clean and convert to int\n",
    "    rv_prices = [int(x.replace('$','')) for x in rv_prices]\n",
    "    \n",
    "    # Remove outliers i.e. bottom 25th percentile / top 5th percentile (skewed towards removing of \n",
    "    # lower values bc of high occurences of parts sales, etc.)\n",
    "    rv_prices = [x for x in rv_prices if x > np.percentile(rv_prices, 25) and x < np.percentile(rv_prices, 95)]\n",
    "    \n",
    "    return rv_prices"
   ]
  },
  {
   "cell_type": "code",
   "execution_count": 10,
   "metadata": {
    "collapsed": false
   },
   "outputs": [],
   "source": [
    "# extract_prices('https://losangeles.craigslist.org/search/rva')"
   ]
  },
  {
   "cell_type": "markdown",
   "metadata": {},
   "source": [
    "<img src=\"http://imgur.com/l5NasQj.png\" style=\"float: left; margin: 25px 15px 0px 0px; height: 25px\">\n",
    "\n",
    "## 2.1 Create a mapping of cities to cooresponding regional Craigslist URLs\n",
    "\n",
    "Major US cities on Craigslist typically have their own cooresponding section (ie: SFBay Area, NYC, Boston, Miami, Seattle, etc).  Later, you will use these to query search results for various metropolitian regions listed on Craigslist.  Between the major metropolitan Craigslist sites, the only thing that will differ is the URL's that correspond to them.\n",
    "\n",
    "The point of the \"mapping\":  Create a data structure that allows you to iterate with both the name of the city from Wikipedia, with the cooresponding variable that that will allow you to construct each craigslist URL for each region.\n",
    "\n",
    "> For San Francsico (the Bay Area metropolitan area), the url for the RV search result is:\n",
    "> http://sfbay.craigslist.org/search/sss?query=rv\n",
    ">\n",
    "> The convention is http://[region].craigslist.org/search/sss?query=rf\n",
    "> Replacing [region] with the cooresponding city name will allow you to quickly iterate through each regional Craigslist site, and scrape the prices from the search results.  Keep this in mind while you build this \"mapping\".\n"
   ]
  },
  {
   "cell_type": "code",
   "execution_count": 11,
   "metadata": {
    "collapsed": false
   },
   "outputs": [],
   "source": [
    "# Prepare city names to be inserted into URL generator\n",
    "\n",
    "city_list = wiki_df['City'].map(lambda x: x.lower().replace(' ',''))\n",
    "\n",
    "# Insert cities into URLs and try to query, see which work and which dont \n",
    "\n",
    "url_list = []\n",
    "for city in city_list:\n",
    "    URL = 'http://%s.craigslist.org/search/rva/sss?query=rv' % (city)\n",
    "    try:\n",
    "        response = requests.get(URL)\n",
    "        HTML = response.text\n",
    "        url_list.append(URL)\n",
    "    except:\n",
    "        url_list.append(city)"
   ]
  },
  {
   "cell_type": "code",
   "execution_count": 12,
   "metadata": {
    "collapsed": false
   },
   "outputs": [
    {
     "name": "stdout",
     "output_type": "stream",
     "text": [
      "0 http://newyork.craigslist.org/search/rva/sss?query=rv\n",
      "1 http://losangeles.craigslist.org/search/rva/sss?query=rv\n",
      "2 http://chicago.craigslist.org/search/rva/sss?query=rv\n",
      "3 http://houston.craigslist.org/search/rva/sss?query=rv\n",
      "4 http://philadelphia.craigslist.org/search/rva/sss?query=rv\n",
      "5 http://phoenix.craigslist.org/search/rva/sss?query=rv\n",
      "6 http://sanantonio.craigslist.org/search/rva/sss?query=rv\n",
      "7 http://sandiego.craigslist.org/search/rva/sss?query=rv\n",
      "8 http://dallas.craigslist.org/search/rva/sss?query=rv\n",
      "9 sanjose\n",
      "10 http://austin.craigslist.org/search/rva/sss?query=rv\n",
      "11 http://jacksonville.craigslist.org/search/rva/sss?query=rv\n",
      "12 http://sanfrancisco.craigslist.org/search/rva/sss?query=rv\n",
      "13 http://indianapolis.craigslist.org/search/rva/sss?query=rv\n",
      "14 http://columbus.craigslist.org/search/rva/sss?query=rv\n",
      "15 fortworth\n",
      "16 http://charlotte.craigslist.org/search/rva/sss?query=rv\n",
      "17 http://detroit.craigslist.org/search/rva/sss?query=rv\n",
      "18 http://elpaso.craigslist.org/search/rva/sss?query=rv\n",
      "19 http://seattle.craigslist.org/search/rva/sss?query=rv\n",
      "20 http://denver.craigslist.org/search/rva/sss?query=rv\n",
      "21 http://washington.craigslist.org/search/rva/sss?query=rv\n",
      "22 http://memphis.craigslist.org/search/rva/sss?query=rv\n",
      "23 http://boston.craigslist.org/search/rva/sss?query=rv\n",
      "24 http://nashville.craigslist.org/search/rva/sss?query=rv\n"
     ]
    }
   ],
   "source": [
    "# Create mapping of cities and URLs, manually enter \"bad\" city URL\n",
    "\n",
    "for i, url in enumerate(url_list):\n",
    "    print i, url"
   ]
  },
  {
   "cell_type": "code",
   "execution_count": 13,
   "metadata": {
    "collapsed": false
   },
   "outputs": [],
   "source": [
    "# Replace problematic URLs with functioning URLs\n",
    "\n",
    "url_list[9] = 'http://sfbay.craigslist.org/search/sby/rva?nh=36&nh=37&nh=38&nh=39&nh=40'\n",
    "url_list[15] = 'https://dallas.craigslist.org/search/ftw/rva?query=rv'"
   ]
  },
  {
   "cell_type": "code",
   "execution_count": 14,
   "metadata": {
    "collapsed": false
   },
   "outputs": [
    {
     "data": {
      "text/plain": [
       "{u'Austin': u'http://austin.craigslist.org/search/rva/sss?query=rv',\n",
       " u'Boston': u'http://boston.craigslist.org/search/rva/sss?query=rv',\n",
       " u'Charlotte': u'http://charlotte.craigslist.org/search/rva/sss?query=rv',\n",
       " u'Chicago': u'http://chicago.craigslist.org/search/rva/sss?query=rv',\n",
       " u'Columbus': u'http://columbus.craigslist.org/search/rva/sss?query=rv',\n",
       " u'Dallas': u'http://dallas.craigslist.org/search/rva/sss?query=rv',\n",
       " u'Denver': u'http://denver.craigslist.org/search/rva/sss?query=rv',\n",
       " u'Detroit': u'http://detroit.craigslist.org/search/rva/sss?query=rv',\n",
       " u'El Paso': u'http://elpaso.craigslist.org/search/rva/sss?query=rv',\n",
       " u'Fort Worth': 'https://dallas.craigslist.org/search/ftw/rva?query=rv',\n",
       " u'Houston': u'http://houston.craigslist.org/search/rva/sss?query=rv',\n",
       " u'Indianapolis': u'http://indianapolis.craigslist.org/search/rva/sss?query=rv',\n",
       " u'Jacksonville': u'http://jacksonville.craigslist.org/search/rva/sss?query=rv',\n",
       " u'Los Angeles': u'http://losangeles.craigslist.org/search/rva/sss?query=rv',\n",
       " u'Memphis': u'http://memphis.craigslist.org/search/rva/sss?query=rv',\n",
       " u'Nashville': u'http://nashville.craigslist.org/search/rva/sss?query=rv',\n",
       " u'New York': u'http://newyork.craigslist.org/search/rva/sss?query=rv',\n",
       " u'Philadelphia': u'http://philadelphia.craigslist.org/search/rva/sss?query=rv',\n",
       " u'Phoenix': u'http://phoenix.craigslist.org/search/rva/sss?query=rv',\n",
       " u'San Antonio': u'http://sanantonio.craigslist.org/search/rva/sss?query=rv',\n",
       " u'San Diego': u'http://sandiego.craigslist.org/search/rva/sss?query=rv',\n",
       " u'San Francisco': u'http://sanfrancisco.craigslist.org/search/rva/sss?query=rv',\n",
       " u'San Jose': 'http://sfbay.craigslist.org/search/sby/rva?nh=36&nh=37&nh=38&nh=39&nh=40',\n",
       " u'Seattle': u'http://seattle.craigslist.org/search/rva/sss?query=rv',\n",
       " u'Washington': u'http://washington.craigslist.org/search/rva/sss?query=rv'}"
      ]
     },
     "execution_count": 14,
     "metadata": {},
     "output_type": "execute_result"
    }
   ],
   "source": [
    "# Create dictionary for mapping of city -> URL\n",
    "\n",
    "city_map = {}\n",
    "for i in range(len(url_list)):\n",
    "    city_map[wiki_cities[i]] = url_list[i]\n",
    "\n",
    "city_map"
   ]
  },
  {
   "cell_type": "markdown",
   "metadata": {},
   "source": [
    "<img src=\"http://imgur.com/l5NasQj.png\" style=\"float: left; margin: 25px 15px 0px 0px; height: 25px\">\n",
    "\n",
    "## 3. Define a function to caculate mean and median price per city.\n",
    "\n",
    "Now that you've created a list of cities you want to scrape, adapt your solution for grabbing data in one region site, to grab data for all regional sites that you collected, then calculate the mean and median price of RV results from each city.\n",
    "\n",
    "> Look at the URLs from a few different regions (ie: portland, phoenix, sfbay), and find what they have in common.  Determine the area in the URL string that needs to change the least, and figure out how to replace only that portion of the URL in order to iterate through each city."
   ]
  },
  {
   "cell_type": "code",
   "execution_count": 15,
   "metadata": {
    "collapsed": false
   },
   "outputs": [],
   "source": [
    "def scraper(city_map):\n",
    "    my_dict = {}\n",
    "    for k, v in city_map.items():\n",
    "        my_list = []\n",
    "        my_list.append(extract_prices(v))\n",
    "        my_dict[k] = {\n",
    "            'mean': np.mean(my_list), \n",
    "            'median':np.median(my_list)\n",
    "        }\n",
    "    return my_dict"
   ]
  },
  {
   "cell_type": "markdown",
   "metadata": {},
   "source": [
    "<img src=\"http://imgur.com/l5NasQj.png\" style=\"float: left; margin: 25px 15px 0px 0px; height: 25px\">\n",
    "\n",
    "## 4. Run your scraping process, and save your results to a CSV file."
   ]
  },
  {
   "cell_type": "code",
   "execution_count": 16,
   "metadata": {
    "collapsed": false,
    "scrolled": true
   },
   "outputs": [
    {
     "data": {
      "text/html": [
       "<div>\n",
       "<table border=\"1\" class=\"dataframe\">\n",
       "  <thead>\n",
       "    <tr style=\"text-align: right;\">\n",
       "      <th></th>\n",
       "      <th>mean</th>\n",
       "      <th>median</th>\n",
       "    </tr>\n",
       "  </thead>\n",
       "  <tbody>\n",
       "    <tr>\n",
       "      <th>Austin</th>\n",
       "      <td>33404.250000</td>\n",
       "      <td>25267.5</td>\n",
       "    </tr>\n",
       "    <tr>\n",
       "      <th>Boston</th>\n",
       "      <td>20621.400000</td>\n",
       "      <td>14900.0</td>\n",
       "    </tr>\n",
       "    <tr>\n",
       "      <th>Charlotte</th>\n",
       "      <td>12925.065574</td>\n",
       "      <td>1800.0</td>\n",
       "    </tr>\n",
       "    <tr>\n",
       "      <th>Chicago</th>\n",
       "      <td>6420.760870</td>\n",
       "      <td>1000.0</td>\n",
       "    </tr>\n",
       "    <tr>\n",
       "      <th>Columbus</th>\n",
       "      <td>18197.968750</td>\n",
       "      <td>14747.5</td>\n",
       "    </tr>\n",
       "  </tbody>\n",
       "</table>\n",
       "</div>"
      ],
      "text/plain": [
       "                   mean   median\n",
       "Austin     33404.250000  25267.5\n",
       "Boston     20621.400000  14900.0\n",
       "Charlotte  12925.065574   1800.0\n",
       "Chicago     6420.760870   1000.0\n",
       "Columbus   18197.968750  14747.5"
      ]
     },
     "execution_count": 16,
     "metadata": {},
     "output_type": "execute_result"
    }
   ],
   "source": [
    "wiki_sumstats  = pd.DataFrame(scraper(city_map)).T\n",
    "wiki_sumstats.head()"
   ]
  },
  {
   "cell_type": "code",
   "execution_count": 17,
   "metadata": {
    "collapsed": false
   },
   "outputs": [],
   "source": [
    "wiki_sumstats.to_csv('scrape_proj.csv')"
   ]
  },
  {
   "cell_type": "markdown",
   "metadata": {},
   "source": [
    "<img src=\"http://imgur.com/l5NasQj.png\" style=\"float: left; margin: 25px 15px 0px 0px; height: 25px\">\n",
    "\n",
    "## 5. Do an analysis of the RV market.\n",
    "\n",
    "Go head we'll wait.  Anything notable about the data?"
   ]
  },
  {
   "cell_type": "code",
   "execution_count": 18,
   "metadata": {
    "collapsed": false
   },
   "outputs": [
    {
     "name": "stderr",
     "output_type": "stream",
     "text": [
      "/Users/alexanderhalcomb/anaconda/envs/dsi/lib/python2.7/site-packages/ipykernel/__main__.py:1: FutureWarning: sort(columns=....) is deprecated, use sort_values(by=.....)\n",
      "  if __name__ == '__main__':\n"
     ]
    },
    {
     "data": {
      "image/png": "[encoded data removed]",
      "text/plain": [
       "<matplotlib.figure.Figure at 0x111293d90>"
      ]
     },
     "metadata": {},
     "output_type": "display_data"
    }
   ],
   "source": [
    "wiki_sumstats.sort(columns='median',ascending=False).plot(kind='bar', figsize=(15,8), fontsize=14)\n",
    "plt.show()"
   ]
  },
  {
   "cell_type": "markdown",
   "metadata": {
    "collapsed": true
   },
   "source": [
    "<img src=\"http://imgur.com/l5NasQj.png\" style=\"float: left; margin: 25px 15px 0px 0px; height: 25px\">\n",
    "\n",
    "### 5.1 Does it makes sense to buy RVs in one region and sell them in another?\n",
    "\n",
    "Assuming the cost of shipping or driving from one regional market to another."
   ]
  },
  {
   "cell_type": "code",
   "execution_count": 19,
   "metadata": {
    "collapsed": false
   },
   "outputs": [
    {
     "name": "stderr",
     "output_type": "stream",
     "text": [
      "/Users/alexanderhalcomb/anaconda/envs/dsi/lib/python2.7/site-packages/ipykernel/__main__.py:8: FutureWarning: sort(columns=....) is deprecated, use sort_values(by=.....)\n",
      "/Users/alexanderhalcomb/anaconda/envs/dsi/lib/python2.7/site-packages/ipykernel/__main__.py:9: FutureWarning: sort(columns=....) is deprecated, use sort_values(by=.....)\n",
      "/Users/alexanderhalcomb/anaconda/envs/dsi/lib/python2.7/site-packages/ipykernel/__main__.py:10: FutureWarning: sort(columns=....) is deprecated, use sort_values(by=.....)\n"
     ]
    },
    {
     "data": {
      "image/png": "[encoded data removed]",
      "text/plain": [
       "<matplotlib.figure.Figure at 0x10a6e5350>"
      ]
     },
     "metadata": {},
     "output_type": "display_data"
    },
    {
     "data": {
      "image/png": "[encoded data removed]",
      "text/plain": [
       "<matplotlib.figure.Figure at 0x111b8cad0>"
      ]
     },
     "metadata": {},
     "output_type": "display_data"
    },
    {
     "data": {
      "image/png": "[encoded data removed]",
      "text/plain": [
       "<matplotlib.figure.Figure at 0x1116efd50>"
      ]
     },
     "metadata": {},
     "output_type": "display_data"
    }
   ],
   "source": [
    "# Divide into regional groups (transportation costs will be less of a factor)\n",
    "\n",
    "wc = wiki_sumstats.loc[['San Francisco','Los Angeles','San Jose','Denver','Phoenix','Seattle','San Diego'],:]\n",
    "ec = wiki_sumstats.loc[['New York','Charlotte','Jacksonville','Chicago','Detroit','Philadelphia',\n",
    "                        'Indianapolis','Nashville','Columbus','Memphis','Boston','Washington'],:]\n",
    "tx = wiki_sumstats.loc[['El Paso','San Antonio','Austin','Dallas','Fort Worth','Houston'],:]\n",
    "\n",
    "wc.sort(columns='median',ascending=False).plot(kind='bar')\n",
    "ec.sort(columns='median',ascending=False).plot(kind='bar')\n",
    "tx.sort(columns='median',ascending=False).plot(kind='bar')\n",
    "plt.show()"
   ]
  },
  {
   "cell_type": "code",
   "execution_count": 20,
   "metadata": {
    "collapsed": true
   },
   "outputs": [],
   "source": [
    "# Looks like there are opportunities to buy and sell profitably between sub-markets, however, \n",
    "# there are many caveats here: \n",
    "# \n",
    "# 1. More data is needed to make a confident recommendation. Currently each market is limited to < 100 samples\n",
    "# 2. Because of small sample size, it is unlikely that vehicle condition and make/model are consistent between markets\n",
    "# 3. More work would need to be done to filter out unhelpful data (e.g. part sales, trailers, etc.)"
   ]
  },
  {
   "cell_type": "markdown",
   "metadata": {},
   "source": [
    "<img src=\"http://imgur.com/xDpSobf.png\" style=\"float: left; margin: 25px 15px 0px 0px; height: 25px\">\n",
    "\n",
    "### 5.2 Can you pull out the \"make\" from the markup and include that in your analyis?\n",
    "How reliable is this data and does it make sense?"
   ]
  },
  {
   "cell_type": "code",
   "execution_count": null,
   "metadata": {
    "collapsed": true
   },
   "outputs": [],
   "source": []
  },
  {
   "cell_type": "markdown",
   "metadata": {},
   "source": [
    "<img src=\"http://imgur.com/xDpSobf.png\" style=\"float: left; margin: 25px 15px 0px 0px; height: 25px\">\n",
    "\n",
    "### 5.3 Are there any other variables you could pull out of the markup to help describe your dataset?"
   ]
  },
  {
   "cell_type": "code",
   "execution_count": null,
   "metadata": {
    "collapsed": true
   },
   "outputs": [],
   "source": []
  },
  {
   "cell_type": "markdown",
   "metadata": {},
   "source": [
    "<img src=\"http://imgur.com/xDpSobf.png\" style=\"float: left; margin: 25px 15px 0px 0px; height: 25px\">\n",
    "\n",
    "## 6. Move your project into scrapy (if you haven't used Scrapy yet)\n",
    "\n",
    ">Start a project by using the command `scrapy startproject [projectname]`\n",
    "> - Update your settings.py (review our past example)\n",
    "> - Update your items.py\n",
    "> - Create a spiders file in your `[project_name]/[project_name]/spiders` directory\n",
    "\n",
    "You can update your spider class with the complete list of craigslist \"start urls\" to effectively scrape all of the regions.  Start with one to test.\n",
    "\n",
    "Updating your parse method with the method you chose should require minimal changes.  It will require you to update your parse method to use the response parameter, and an item model (defined in items.py)."
   ]
  },
  {
   "cell_type": "code",
   "execution_count": null,
   "metadata": {
    "collapsed": true
   },
   "outputs": [],
   "source": []
  },
  {
   "cell_type": "markdown",
   "metadata": {},
   "source": [
    "<img src=\"http://imgur.com/GCAf1UX.png\" style=\"float: left; margin: 25px 15px 0px 0px; height: 25px\">\n",
    "\n",
    "## 7.  Chose another area of Craigslist to scrape.\n",
    "\n",
    "**Choose an area having more than a single page of results, then scrape multiple regions, multiple pages of search results and or details pages.**\n",
    "\n",
    "This is the true exercise of being able to understand how to succesffuly plan, develop, and employ a broader scraping strategy.  Even though this seems like a challenging task, a few tweeks of your current code can make this very managable if you've pieced together all the touch points.  If you are still confused as to some of the milestones within this process, this is an excellent opportunity to round out your understanding, or help you build a list of questions to fill in your gaps.\n",
    "\n",
    "_Use Scrapy!  Provide your code in this project directory when you submit this project._"
   ]
  },
  {
   "cell_type": "code",
   "execution_count": null,
   "metadata": {
    "collapsed": true
   },
   "outputs": [],
   "source": []
  }
 ],
 "metadata": {
  "anaconda-cloud": {},
  "kernelspec": {
   "display_name": "Python [dsi]",
   "language": "python",
   "name": "Python [dsi]"
  },
  "language_info": {
   "codemirror_mode": {
    "name": "ipython",
    "version": 2
   },
   "file_extension": ".py",
   "mimetype": "text/x-python",
   "name": "python",
   "nbconvert_exporter": "python",
   "pygments_lexer": "ipython2",
   "version": "2.7.12"
  }
 },
 "nbformat": 4,
 "nbformat_minor": 0
}
